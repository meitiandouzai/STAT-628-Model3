{
 "cells": [
  {
   "cell_type": "code",
   "execution_count": 1,
   "id": "71481deb",
   "metadata": {},
   "outputs": [],
   "source": [
    "import requests\n",
    "import pandas as pd\n",
    "import os"
   ]
  },
  {
   "cell_type": "code",
   "execution_count": 2,
   "id": "030af691",
   "metadata": {},
   "outputs": [],
   "source": [
    "# Create output folder\n",
    "output_folder = \"climate\"\n",
    "os.makedirs(output_folder, exist_ok=True)"
   ]
  },
  {
   "cell_type": "code",
   "execution_count": 3,
   "id": "b9ceacea",
   "metadata": {},
   "outputs": [],
   "source": [
    "# Read the new station_id and airport match\n",
    "data = pd.read_csv('match.csv')\n",
    "\n",
    "# Convert the data to a dictionary for easy lookup\n",
    "airport_dict = dict(zip(data.iloc[:, 0], data.iloc[:, 1]))\n",
    "\n",
    "# Define the function\n",
    "def id(airport):\n",
    "    return airport_dict.get(airport)"
   ]
  },
  {
   "cell_type": "code",
   "execution_count": 4,
   "id": "f1984db5",
   "metadata": {},
   "outputs": [],
   "source": [
    "#retry the failed downloads with new stationid\n",
    "fail_file = \"fails.csv\"\n",
    "fails = pd.read_csv(fail_file)\n",
    "#fails"
   ]
  },
  {
   "cell_type": "markdown",
   "id": "3bc88c0b",
   "metadata": {},
   "source": [
    "### we leave PIH in 18-24 as missing data, we cannot find any climate data of them.\n",
    "### MQT in 21-24, JHM in 22 and 24, FCA and PGV in24 \n",
    "### ISN is closed in 2020\n",
    "### We plug in BJI and EGE's data in 2024 with the 3rd closest station_id's data\n",
    "### link of DHN's data link in 23 is broken"
   ]
  },
  {
   "cell_type": "code",
   "execution_count": 5,
   "id": "c40bdf7d",
   "metadata": {},
   "outputs": [
    {
     "name": "stdout",
     "output_type": "stream",
     "text": [
      "Failed to retry for PIH in 2018. Status code: 404\n",
      "Failed to retry for PIH in 2019. Status code: 404\n",
      "Failed to retry for PIH in 2020. Status code: 404\n",
      "Failed to retry for ISN in 2021. Status code: 404\n",
      "Failed to retry for MQT in 2021. Status code: 404\n",
      "Failed to retry for PIH in 2021. Status code: 404\n",
      "Failed to retry for ISN in 2022. Status code: 404\n",
      "Failed to retry for JHM in 2022. Status code: 404\n",
      "Failed to retry for MQT in 2022. Status code: 404\n",
      "Failed to retry for PIH in 2022. Status code: 404\n",
      "Failed to retry for DHN in 2023. Status code: 502\n",
      "Failed to retry for ISN in 2023. Status code: 404\n",
      "Failed to retry for MQT in 2023. Status code: 404\n",
      "Failed to retry for PIH in 2023. Status code: 404\n",
      "Failed to retry for FCA in 2024. Status code: 404\n",
      "Failed to retry for ISN in 2024. Status code: 404\n",
      "Failed to retry for JHM in 2024. Status code: 404\n",
      "Failed to retry for MQT in 2024. Status code: 404\n",
      "Failed to retry for PGV in 2024. Status code: 404\n",
      "Failed to retry for PIH in 2024. Status code: 404\n"
     ]
    }
   ],
   "source": [
    "base_url = \"https://www.ncei.noaa.gov/oa/local-climatological-data/v2/access/{}/LCD_{}_{}.csv\"\n",
    "\n",
    "retry_failed_downloads = []\n",
    "\n",
    "# Download data\n",
    "for index, row in fails.iterrows():\n",
    "    airport = row[\"Airport\"]\n",
    "    year = row[\"Year\"]\n",
    "    station_id = id(airport)\n",
    "        \n",
    "    # Build URL and file name\n",
    "    url = base_url.format(year, station_id, year)\n",
    "    filename = os.path.join(output_folder, f\"LCD_{airport}_{year}.csv\")\n",
    "\n",
    "    # Request and save data\n",
    "    response = requests.get(url)\n",
    "    if response.status_code == 200:\n",
    "        with open(filename, 'wb') as file:\n",
    "            file.write(response.content)\n",
    "        #print(f\"{airport} in {year} retry successfully\")\n",
    "    else:\n",
    "        print(f\"Failed to retry for {airport} in {year}. Status code: {response.status_code}\")\n",
    "        retry_failed_downloads.append({\"Airport\": airport, \"Year\": year})"
   ]
  }
 ],
 "metadata": {
  "kernelspec": {
   "display_name": "Python 3 (ipykernel)",
   "language": "python",
   "name": "python3"
  },
  "language_info": {
   "codemirror_mode": {
    "name": "ipython",
    "version": 3
   },
   "file_extension": ".py",
   "mimetype": "text/x-python",
   "name": "python",
   "nbconvert_exporter": "python",
   "pygments_lexer": "ipython3",
   "version": "3.11.4"
  }
 },
 "nbformat": 4,
 "nbformat_minor": 5
}
