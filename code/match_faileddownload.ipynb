{
 "cells": [
  {
   "cell_type": "code",
   "execution_count": 2,
   "id": "97417b48",
   "metadata": {},
   "outputs": [],
   "source": [
    "library(dplyr)\n",
    "library(geosphere)\n",
    "# read csv\n",
    "failed_airport <- read.csv(\"failed_downloads.csv\")\n",
    "airport_data <- read.csv(\"Filtered_Airport_US_Unique.csv\")\n",
    "station_data <- read.csv(\"ghcnh-station-list.csv\", header = FALSE, stringsAsFactors = FALSE)"
   ]
  },
  {
   "cell_type": "markdown",
   "id": "91138da7",
   "metadata": {},
   "source": [
    "### Step1:  Filter airport_data to include only rows with these failed airport codes"
   ]
  },
  {
   "cell_type": "code",
   "execution_count": 3,
   "id": "66f81817",
   "metadata": {},
   "outputs": [
    {
     "data": {
      "text/html": [
       "<table class=\"dataframe\">\n",
       "<caption>A data.frame: 6 × 4</caption>\n",
       "<thead>\n",
       "\t<tr><th></th><th scope=col>AIRPORT</th><th scope=col>AIRPORT_ID</th><th scope=col>LATITUDE</th><th scope=col>LONGITUDE</th></tr>\n",
       "\t<tr><th></th><th scope=col>&lt;chr&gt;</th><th scope=col>&lt;int&gt;</th><th scope=col>&lt;dbl&gt;</th><th scope=col>&lt;dbl&gt;</th></tr>\n",
       "</thead>\n",
       "<tbody>\n",
       "\t<tr><th scope=row>1</th><td>ACY</td><td>10158</td><td>39.45694</td><td> -74.57778</td></tr>\n",
       "\t<tr><th scope=row>2</th><td>ADK</td><td>10165</td><td>51.88069</td><td>-176.64463</td></tr>\n",
       "\t<tr><th scope=row>3</th><td>AEX</td><td>10185</td><td>31.32583</td><td> -92.54778</td></tr>\n",
       "\t<tr><th scope=row>4</th><td>AKN</td><td>10245</td><td>58.67708</td><td>-156.65014</td></tr>\n",
       "\t<tr><th scope=row>5</th><td>BGR</td><td>10581</td><td>44.80764</td><td> -68.82792</td></tr>\n",
       "\t<tr><th scope=row>6</th><td>BIS</td><td>10627</td><td>46.77583</td><td>-100.74917</td></tr>\n",
       "</tbody>\n",
       "</table>\n"
      ],
      "text/latex": [
       "A data.frame: 6 × 4\n",
       "\\begin{tabular}{r|llll}\n",
       "  & AIRPORT & AIRPORT\\_ID & LATITUDE & LONGITUDE\\\\\n",
       "  & <chr> & <int> & <dbl> & <dbl>\\\\\n",
       "\\hline\n",
       "\t1 & ACY & 10158 & 39.45694 &  -74.57778\\\\\n",
       "\t2 & ADK & 10165 & 51.88069 & -176.64463\\\\\n",
       "\t3 & AEX & 10185 & 31.32583 &  -92.54778\\\\\n",
       "\t4 & AKN & 10245 & 58.67708 & -156.65014\\\\\n",
       "\t5 & BGR & 10581 & 44.80764 &  -68.82792\\\\\n",
       "\t6 & BIS & 10627 & 46.77583 & -100.74917\\\\\n",
       "\\end{tabular}\n"
      ],
      "text/markdown": [
       "\n",
       "A data.frame: 6 × 4\n",
       "\n",
       "| <!--/--> | AIRPORT &lt;chr&gt; | AIRPORT_ID &lt;int&gt; | LATITUDE &lt;dbl&gt; | LONGITUDE &lt;dbl&gt; |\n",
       "|---|---|---|---|---|\n",
       "| 1 | ACY | 10158 | 39.45694 |  -74.57778 |\n",
       "| 2 | ADK | 10165 | 51.88069 | -176.64463 |\n",
       "| 3 | AEX | 10185 | 31.32583 |  -92.54778 |\n",
       "| 4 | AKN | 10245 | 58.67708 | -156.65014 |\n",
       "| 5 | BGR | 10581 | 44.80764 |  -68.82792 |\n",
       "| 6 | BIS | 10627 | 46.77583 | -100.74917 |\n",
       "\n"
      ],
      "text/plain": [
       "  AIRPORT AIRPORT_ID LATITUDE LONGITUDE \n",
       "1 ACY     10158      39.45694  -74.57778\n",
       "2 ADK     10165      51.88069 -176.64463\n",
       "3 AEX     10185      31.32583  -92.54778\n",
       "4 AKN     10245      58.67708 -156.65014\n",
       "5 BGR     10581      44.80764  -68.82792\n",
       "6 BIS     10627      46.77583 -100.74917"
      ]
     },
     "metadata": {},
     "output_type": "display_data"
    },
    {
     "name": "stdout",
     "output_type": "stream",
     "text": [
      "Number of airports after filtering: 31 \n"
     ]
    }
   ],
   "source": [
    "failed_airport_codes <- unique(unlist(failed_airport))\n",
    "filtered_failed_airports <- airport_data %>%\n",
    "  filter(AIRPORT %in% failed_airport_codes)\n",
    "head(filtered_failed_airports )\n",
    "cat(\"Number of airports after filtering:\", nrow(filtered_failed_airports ), \"\\n\")"
   ]
  },
  {
   "cell_type": "markdown",
   "id": "09d4a0da",
   "metadata": {},
   "source": [
    "### Step2: Calculate the three closest stations for each airport in filtered_failed_airports"
   ]
  },
  {
   "cell_type": "code",
   "execution_count": 4,
   "id": "80aad115",
   "metadata": {},
   "outputs": [],
   "source": [
    "haversine <- function(lat1, lon1, lat2, lon2) {\n",
    "  R <- 6371  # Earth's radius in kilometers\n",
    "  dLat <- (lat2 - lat1) * pi / 180\n",
    "  dLon <- (lon2 - lon1) * pi / 180\n",
    "  lat1 <- lat1 * pi / 180\n",
    "  lat2 <- lat2 * pi / 180 \n",
    "  a <- sin(dLat / 2) * sin(dLat / 2) + sin(dLon / 2) * sin(dLon / 2) * cos(lat1) * cos(lat2)\n",
    "  c <- 2 * atan2(sqrt(a), sqrt(1 - a))\n",
    "  return(R * c)  # Return distance in kilometers\n",
    "}"
   ]
  },
  {
   "cell_type": "code",
   "execution_count": 5,
   "id": "5f3b4b9f",
   "metadata": {},
   "outputs": [],
   "source": [
    "# Function to find the three nearest stations and their distances\n",
    "find_three_nearest_stations <- function(lat, lon, station_data) {\n",
    "  distances <- haversine(lat, lon, station_data[,2],  station_data[,3])\n",
    "  \n",
    "  # Check if all distances are numeric\n",
    "  is_numeric <- all(sapply(distances, is.numeric))\n",
    "  if (!is_numeric) {\n",
    "    stop(\"Some distances are not numeric.\")\n",
    "  }\n",
    "  \n",
    "  # Check for NA values and their indices\n",
    "  na_indices <- which(is.na(distances))\n",
    "  if (length(na_indices) > 0) {\n",
    "    cat(\"Warning: NA values found in distances calculation at indices:\", na_indices, \"\\n\")\n",
    "    distances <- distances[!is.na(distances)]  # Remove NA values\n",
    "  }\n",
    "  \n",
    "  # Get indices of the three nearest stations\n",
    "  nearest_indices <- order(distances)[1:3]\n",
    "  \n",
    "  # Extract station IDs and distances for the three nearest stations\n",
    "  nearest_stations <- station_data$STATION[nearest_indices]\n",
    "  nearest_distances <- distances[nearest_indices]\n",
    "  \n",
    "  return(list(stations = nearest_stations, distances = nearest_distances))\n",
    "}"
   ]
  },
  {
   "cell_type": "code",
   "execution_count": 6,
   "id": "bc1fd94e",
   "metadata": {},
   "outputs": [
    {
     "data": {
      "text/html": [
       "<table class=\"dataframe\">\n",
       "<caption>A data.frame: 6 × 10</caption>\n",
       "<thead>\n",
       "\t<tr><th></th><th scope=col>AIRPORT</th><th scope=col>AIRPORT_ID</th><th scope=col>LATITUDE</th><th scope=col>LONGITUDE</th><th scope=col>Station_1</th><th scope=col>Station_2</th><th scope=col>Station_3</th><th scope=col>Distance_1</th><th scope=col>Distance_2</th><th scope=col>Distance_3</th></tr>\n",
       "\t<tr><th></th><th scope=col>&lt;chr&gt;</th><th scope=col>&lt;int&gt;</th><th scope=col>&lt;dbl&gt;</th><th scope=col>&lt;dbl&gt;</th><th scope=col>&lt;chr&gt;</th><th scope=col>&lt;chr&gt;</th><th scope=col>&lt;chr&gt;</th><th scope=col>&lt;chr&gt;</th><th scope=col>&lt;chr&gt;</th><th scope=col>&lt;chr&gt;</th></tr>\n",
       "</thead>\n",
       "<tbody>\n",
       "\t<tr><th scope=row>1</th><td>ACY</td><td>10158</td><td>39.45694</td><td> -74.57778</td><td>USW00013753</td><td>USW00093730</td><td>USL000JCRN4</td><td>0.906129019844005</td><td>1.08943054764151 </td><td>13.867213026282 </td></tr>\n",
       "\t<tr><th scope=row>2</th><td>ADK</td><td>10165</td><td>51.88069</td><td>-176.64463</td><td>USW00025701</td><td>USW00025704</td><td>USL000ADKA2</td><td>0.468847133476551</td><td>0.468847133476551</td><td>1.55652029846687</td></tr>\n",
       "\t<tr><th scope=row>3</th><td>AEX</td><td>10185</td><td>31.32583</td><td> -92.54778</td><td>USW00013934</td><td>USW00093915</td><td>USW00013935</td><td>1.03728609817514 </td><td>1.42430461397731 </td><td>26.3547812649473</td></tr>\n",
       "\t<tr><th scope=row>4</th><td>AKN</td><td>10245</td><td>58.67708</td><td>-156.65014</td><td>USU070326-1</td><td>USW00025503</td><td>USI0000PFWS</td><td>0.787671842757615</td><td>1.22615503571592 </td><td>20.3773182363612</td></tr>\n",
       "\t<tr><th scope=row>5</th><td>BGR</td><td>10581</td><td>44.80764</td><td> -68.82792</td><td>USW00014601</td><td>USW00014606</td><td>USC00176435</td><td>1.22662804910096 </td><td>1.31803654807744 </td><td>14.8142729233407</td></tr>\n",
       "\t<tr><th scope=row>6</th><td>BIS</td><td>10627</td><td>46.77583</td><td>-100.74917</td><td>USW00094071</td><td>USW00024011</td><td>USW00000296</td><td>1.01756163972181 </td><td>1.03507946991937 </td><td>11.0560642779118</td></tr>\n",
       "</tbody>\n",
       "</table>\n"
      ],
      "text/latex": [
       "A data.frame: 6 × 10\n",
       "\\begin{tabular}{r|llllllllll}\n",
       "  & AIRPORT & AIRPORT\\_ID & LATITUDE & LONGITUDE & Station\\_1 & Station\\_2 & Station\\_3 & Distance\\_1 & Distance\\_2 & Distance\\_3\\\\\n",
       "  & <chr> & <int> & <dbl> & <dbl> & <chr> & <chr> & <chr> & <chr> & <chr> & <chr>\\\\\n",
       "\\hline\n",
       "\t1 & ACY & 10158 & 39.45694 &  -74.57778 & USW00013753 & USW00093730 & USL000JCRN4 & 0.906129019844005 & 1.08943054764151  & 13.867213026282 \\\\\n",
       "\t2 & ADK & 10165 & 51.88069 & -176.64463 & USW00025701 & USW00025704 & USL000ADKA2 & 0.468847133476551 & 0.468847133476551 & 1.55652029846687\\\\\n",
       "\t3 & AEX & 10185 & 31.32583 &  -92.54778 & USW00013934 & USW00093915 & USW00013935 & 1.03728609817514  & 1.42430461397731  & 26.3547812649473\\\\\n",
       "\t4 & AKN & 10245 & 58.67708 & -156.65014 & USU070326-1 & USW00025503 & USI0000PFWS & 0.787671842757615 & 1.22615503571592  & 20.3773182363612\\\\\n",
       "\t5 & BGR & 10581 & 44.80764 &  -68.82792 & USW00014601 & USW00014606 & USC00176435 & 1.22662804910096  & 1.31803654807744  & 14.8142729233407\\\\\n",
       "\t6 & BIS & 10627 & 46.77583 & -100.74917 & USW00094071 & USW00024011 & USW00000296 & 1.01756163972181  & 1.03507946991937  & 11.0560642779118\\\\\n",
       "\\end{tabular}\n"
      ],
      "text/markdown": [
       "\n",
       "A data.frame: 6 × 10\n",
       "\n",
       "| <!--/--> | AIRPORT &lt;chr&gt; | AIRPORT_ID &lt;int&gt; | LATITUDE &lt;dbl&gt; | LONGITUDE &lt;dbl&gt; | Station_1 &lt;chr&gt; | Station_2 &lt;chr&gt; | Station_3 &lt;chr&gt; | Distance_1 &lt;chr&gt; | Distance_2 &lt;chr&gt; | Distance_3 &lt;chr&gt; |\n",
       "|---|---|---|---|---|---|---|---|---|---|---|\n",
       "| 1 | ACY | 10158 | 39.45694 |  -74.57778 | USW00013753 | USW00093730 | USL000JCRN4 | 0.906129019844005 | 1.08943054764151  | 13.867213026282  |\n",
       "| 2 | ADK | 10165 | 51.88069 | -176.64463 | USW00025701 | USW00025704 | USL000ADKA2 | 0.468847133476551 | 0.468847133476551 | 1.55652029846687 |\n",
       "| 3 | AEX | 10185 | 31.32583 |  -92.54778 | USW00013934 | USW00093915 | USW00013935 | 1.03728609817514  | 1.42430461397731  | 26.3547812649473 |\n",
       "| 4 | AKN | 10245 | 58.67708 | -156.65014 | USU070326-1 | USW00025503 | USI0000PFWS | 0.787671842757615 | 1.22615503571592  | 20.3773182363612 |\n",
       "| 5 | BGR | 10581 | 44.80764 |  -68.82792 | USW00014601 | USW00014606 | USC00176435 | 1.22662804910096  | 1.31803654807744  | 14.8142729233407 |\n",
       "| 6 | BIS | 10627 | 46.77583 | -100.74917 | USW00094071 | USW00024011 | USW00000296 | 1.01756163972181  | 1.03507946991937  | 11.0560642779118 |\n",
       "\n"
      ],
      "text/plain": [
       "  AIRPORT AIRPORT_ID LATITUDE LONGITUDE  Station_1   Station_2   Station_3  \n",
       "1 ACY     10158      39.45694  -74.57778 USW00013753 USW00093730 USL000JCRN4\n",
       "2 ADK     10165      51.88069 -176.64463 USW00025701 USW00025704 USL000ADKA2\n",
       "3 AEX     10185      31.32583  -92.54778 USW00013934 USW00093915 USW00013935\n",
       "4 AKN     10245      58.67708 -156.65014 USU070326-1 USW00025503 USI0000PFWS\n",
       "5 BGR     10581      44.80764  -68.82792 USW00014601 USW00014606 USC00176435\n",
       "6 BIS     10627      46.77583 -100.74917 USW00094071 USW00024011 USW00000296\n",
       "  Distance_1        Distance_2        Distance_3      \n",
       "1 0.906129019844005 1.08943054764151  13.867213026282 \n",
       "2 0.468847133476551 0.468847133476551 1.55652029846687\n",
       "3 1.03728609817514  1.42430461397731  26.3547812649473\n",
       "4 0.787671842757615 1.22615503571592  20.3773182363612\n",
       "5 1.22662804910096  1.31803654807744  14.8142729233407\n",
       "6 1.01756163972181  1.03507946991937  11.0560642779118"
      ]
     },
     "metadata": {},
     "output_type": "display_data"
    }
   ],
   "source": [
    "# Function to find the three nearest stations and their distances\n",
    "find_three_nearest_stations <- function(lat, lon, station_data) {\n",
    "  distances <- haversine(lat, lon, station_data[, 2], station_data[, 3])\n",
    "  \n",
    "  # Remove NA values from distances\n",
    "  distances <- distances[!is.na(distances)]\n",
    "  \n",
    "  # Get indices of the three nearest stations, filling with NA if fewer than 3\n",
    "  nearest_indices <- order(distances)[1:min(3, length(distances))]\n",
    "  \n",
    "  nearest_stations <- if(length(nearest_indices) < 3) {\n",
    "    c(station_data[nearest_indices, 1], rep(NA, 3 - length(nearest_indices)))\n",
    "  } else {\n",
    "    station_data[nearest_indices, 1]\n",
    "  }\n",
    "  \n",
    "  nearest_distances <- if(length(nearest_indices) < 3) {\n",
    "    c(distances[nearest_indices], rep(NA, 3 - length(nearest_indices)))\n",
    "  } else {\n",
    "    distances[nearest_indices]\n",
    "  }\n",
    "  \n",
    "  return(c(nearest_stations, nearest_distances))\n",
    "}\n",
    "\n",
    "# Apply the function to each airport in filtered_failed_airports\n",
    "result <- lapply(1:nrow(filtered_failed_airports), function(i) {\n",
    "  nearest_info <- find_three_nearest_stations(\n",
    "    filtered_failed_airports$LATITUDE[i],\n",
    "    filtered_failed_airports$LONGITUDE[i],\n",
    "    station_data\n",
    "  )\n",
    "  return(nearest_info)\n",
    "})\n",
    "\n",
    "# Convert the result to a data frame with specific column names\n",
    "result_df <- as.data.frame(do.call(rbind, result), stringsAsFactors = FALSE)\n",
    "colnames(result_df) <- c(\"Station_1\", \"Station_2\", \"Station_3\", \"Distance_1\", \"Distance_2\", \"Distance_3\")\n",
    "\n",
    "# Combine with filtered_failed_airports\n",
    "final_data <- cbind(filtered_failed_airports, result_df)\n",
    "\n",
    "# Print the first few rows of the final result\n",
    "head(final_data)"
   ]
  },
  {
   "cell_type": "code",
   "execution_count": 7,
   "id": "126ebea0",
   "metadata": {},
   "outputs": [
    {
     "name": "stdout",
     "output_type": "stream",
     "text": [
      "Airport data with nearest station information has been saved to 'Falied_Airport_with_Nearest_Station.csv'\n"
     ]
    }
   ],
   "source": [
    "# Save the final data to a CSV file\n",
    "write.csv(final_data, \"Falied_Airport_with_Nearest_Station.csv\", row.names = FALSE)\n",
    "cat(\"Airport data with nearest station information has been saved to 'Falied_Airport_with_Nearest_Station.csv'\\n\")"
   ]
  },
  {
   "cell_type": "markdown",
   "id": "3cd7e7c6",
   "metadata": {},
   "source": [
    "### Step 3: Check the distance is reasonable or not"
   ]
  },
  {
   "cell_type": "code",
   "execution_count": 8,
   "id": "b12600d6",
   "metadata": {},
   "outputs": [
    {
     "data": {
      "image/png": "[encoded data removed]",
      "text/plain": [
       "Plot with title \"Histogram of Distance_3\""
      ]
     },
     "metadata": {
      "image/png": {
       "height": 420,
       "width": 420
      }
     },
     "output_type": "display_data"
    }
   ],
   "source": [
    "# Set up a 1-row, 3-column layout for the histograms\n",
    "par(mfrow = c(1, 3))\n",
    "\n",
    "# Plot the histogram for the first nearest distance\n",
    "hist(as.numeric(final_data$Distance_1), \n",
    "     main = \"Histogram of Distance_1\", \n",
    "     xlab = \"Distance_1 (km)\", \n",
    "     ylab = \"Frequency\", \n",
    "     col = \"lightblue\", \n",
    "     border = \"white\")\n",
    "\n",
    "# Plot the histogram for the second nearest distance\n",
    "hist(as.numeric(final_data$Distance_2), \n",
    "     main = \"Histogram of Distance_2\", \n",
    "     xlab = \"Distance_2 (km)\", \n",
    "     ylab = \"Frequency\", \n",
    "     col = \"lightgreen\", \n",
    "     border = \"white\")\n",
    "\n",
    "# Plot the histogram for the third nearest distance\n",
    "hist(as.numeric(final_data$Distance_3), \n",
    "     main = \"Histogram of Distance_3\", \n",
    "     xlab = \"Distance_3 (km)\", \n",
    "     ylab = \"Frequency\", \n",
    "     col = \"lightcoral\", \n",
    "     border = \"white\")\n",
    "\n",
    "# Reset to the default single-plot layout\n",
    "par(mfrow = c(1, 1))"
   ]
  }
 ],
 "metadata": {
  "kernelspec": {
   "display_name": "R",
   "language": "R",
   "name": "ir"
  },
  "language_info": {
   "codemirror_mode": "r",
   "file_extension": ".r",
   "mimetype": "text/x-r-source",
   "name": "R",
   "pygments_lexer": "r",
   "version": "4.4.1"
  }
 },
 "nbformat": 4,
 "nbformat_minor": 5
}
