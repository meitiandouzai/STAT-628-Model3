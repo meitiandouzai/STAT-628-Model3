{
 "cells": [
  {
   "cell_type": "code",
   "execution_count": 5,
   "id": "ab32f0c4",
   "metadata": {},
   "outputs": [],
   "source": [
    "from sklearn.model_selection import train_test_split\n",
    "from sklearn.linear_model import LinearRegression\n",
    "import pandas as pd\n",
    "import numpy as np\n",
    "import matplotlib.pyplot as plt\n",
    "from sklearn.preprocessing import OneHotEncoder\n",
    "from sklearn.compose import ColumnTransformer\n",
    "from scipy.sparse import vstack, csr_matrix\n",
    "from sklearn.linear_model import LinearRegression\n",
    "from sklearn.metrics import mean_squared_error, mean_absolute_error, r2_score\n",
    "from sklearn.ensemble import RandomForestRegressor\n",
    "from sklearn.ensemble import BaggingRegressor\n",
    "from sklearn.preprocessing import PowerTransformer\n",
    "from sklearn.preprocessing import PowerTransformer"
   ]
  },
  {
   "cell_type": "code",
   "execution_count": 6,
   "id": "21ce1693",
   "metadata": {},
   "outputs": [
    {
     "data": {
      "image/png": "[encoded data removed]",
      "text/plain": [
       "<Figure size 640x480 with 1 Axes>"
      ]
     },
     "metadata": {},
     "output_type": "display_data"
    }
   ],
   "source": [
    "data = pd.read_csv(\"final_data.csv\")\n",
    "data['Year']=data['Year'].astype('category')\n",
    "data['Month']=data['Month'].astype('category')\n",
    "data['DayOfWeek']=data['DayOfWeek'].astype('category')\n",
    "data['Operating_Airline ']=data['Operating_Airline '].astype('category')\n",
    "data['Origin']=data['Origin'].astype('category')\n",
    "data['Dest']=data['Dest'].astype('category')\n",
    "data['DepTimeBlk'] = data['DepTimeBlk'].astype('category')\n",
    "data['ArrTimeBlk'] = data['ArrTimeBlk'].astype('category')\n",
    "data['Origin_HourlyWindDirection'] = data['Origin_HourlyWindDirection'].astype('category')\n",
    "data['Dest_HourlyWindDirection'] = data['Dest_HourlyWindDirection'].astype('category')\n",
    "data['Holiday'] = data['Holiday'].astype('category')\n",
    "data['Cancelled'] = data['Cancelled'].astype('category')\n",
    "data = data.drop(columns=['ActualElapsedTime'])\n",
    "\n",
    "continuous_columns = data.select_dtypes(include=['float64', 'int64']).columns\n",
    "\n",
    "data = data[data['Cancelled'] != 1]\n",
    "min_arr_delay = data['ArrDelay'].min()\n",
    "data = data[data['ArrDelay'] != min_arr_delay]  # Remove row with minimum ArrDelay\n",
    "data = data.dropna(subset=['ArrDelay'])\n",
    "pt = PowerTransformer(method='yeo-johnson')\n",
    "data['YJArrDelay'] = pt.fit_transform(data[['ArrDelay']])\n",
    "\n",
    "plt.hist(data['YJArrDelay'].dropna(), bins=50, edgecolor='black')\n",
    "plt.title(\"Distribution of YJDelay (ArrDelay)\")\n",
    "plt.xlabel(\"Delay (minutes)\")\n",
    "plt.ylabel(\"Frequency\")\n",
    "plt.show()"
   ]
  },
  {
   "cell_type": "markdown",
   "id": "81b5fef1",
   "metadata": {},
   "source": [
    "### one hot"
   ]
  },
  {
   "cell_type": "code",
   "execution_count": 7,
   "id": "aa0351e4",
   "metadata": {},
   "outputs": [
    {
     "data": {
      "text/html": [
       "<style>#sk-container-id-1 {color: black;background-color: white;}#sk-container-id-1 pre{padding: 0;}#sk-container-id-1 div.sk-toggleable {background-color: white;}#sk-container-id-1 label.sk-toggleable__label {cursor: pointer;display: block;width: 100%;margin-bottom: 0;padding: 0.3em;box-sizing: border-box;text-align: center;}#sk-container-id-1 label.sk-toggleable__label-arrow:before {content: \"▸\";float: left;margin-right: 0.25em;color: #696969;}#sk-container-id-1 label.sk-toggleable__label-arrow:hover:before {color: black;}#sk-container-id-1 div.sk-estimator:hover label.sk-toggleable__label-arrow:before {color: black;}#sk-container-id-1 div.sk-toggleable__content {max-height: 0;max-width: 0;overflow: hidden;text-align: left;background-color: #f0f8ff;}#sk-container-id-1 div.sk-toggleable__content pre {margin: 0.2em;color: black;border-radius: 0.25em;background-color: #f0f8ff;}#sk-container-id-1 input.sk-toggleable__control:checked~div.sk-toggleable__content {max-height: 200px;max-width: 100%;overflow: auto;}#sk-container-id-1 input.sk-toggleable__control:checked~label.sk-toggleable__label-arrow:before {content: \"▾\";}#sk-container-id-1 div.sk-estimator input.sk-toggleable__control:checked~label.sk-toggleable__label {background-color: #d4ebff;}#sk-container-id-1 div.sk-label input.sk-toggleable__control:checked~label.sk-toggleable__label {background-color: #d4ebff;}#sk-container-id-1 input.sk-hidden--visually {border: 0;clip: rect(1px 1px 1px 1px);clip: rect(1px, 1px, 1px, 1px);height: 1px;margin: -1px;overflow: hidden;padding: 0;position: absolute;width: 1px;}#sk-container-id-1 div.sk-estimator {font-family: monospace;background-color: #f0f8ff;border: 1px dotted black;border-radius: 0.25em;box-sizing: border-box;margin-bottom: 0.5em;}#sk-container-id-1 div.sk-estimator:hover {background-color: #d4ebff;}#sk-container-id-1 div.sk-parallel-item::after {content: \"\";width: 100%;border-bottom: 1px solid gray;flex-grow: 1;}#sk-container-id-1 div.sk-label:hover label.sk-toggleable__label {background-color: #d4ebff;}#sk-container-id-1 div.sk-serial::before {content: \"\";position: absolute;border-left: 1px solid gray;box-sizing: border-box;top: 0;bottom: 0;left: 50%;z-index: 0;}#sk-container-id-1 div.sk-serial {display: flex;flex-direction: column;align-items: center;background-color: white;padding-right: 0.2em;padding-left: 0.2em;position: relative;}#sk-container-id-1 div.sk-item {position: relative;z-index: 1;}#sk-container-id-1 div.sk-parallel {display: flex;align-items: stretch;justify-content: center;background-color: white;position: relative;}#sk-container-id-1 div.sk-item::before, #sk-container-id-1 div.sk-parallel-item::before {content: \"\";position: absolute;border-left: 1px solid gray;box-sizing: border-box;top: 0;bottom: 0;left: 50%;z-index: -1;}#sk-container-id-1 div.sk-parallel-item {display: flex;flex-direction: column;z-index: 1;position: relative;background-color: white;}#sk-container-id-1 div.sk-parallel-item:first-child::after {align-self: flex-end;width: 50%;}#sk-container-id-1 div.sk-parallel-item:last-child::after {align-self: flex-start;width: 50%;}#sk-container-id-1 div.sk-parallel-item:only-child::after {width: 0;}#sk-container-id-1 div.sk-dashed-wrapped {border: 1px dashed gray;margin: 0 0.4em 0.5em 0.4em;box-sizing: border-box;padding-bottom: 0.4em;background-color: white;}#sk-container-id-1 div.sk-label label {font-family: monospace;font-weight: bold;display: inline-block;line-height: 1.2em;}#sk-container-id-1 div.sk-label-container {text-align: center;}#sk-container-id-1 div.sk-container {/* jupyter's `normalize.less` sets `[hidden] { display: none; }` but bootstrap.min.css set `[hidden] { display: none !important; }` so we also need the `!important` here to be able to override the default hidden behavior on the sphinx rendered scikit-learn.org. See: https://github.com/scikit-learn/scikit-learn/issues/21755 */display: inline-block !important;position: relative;}#sk-container-id-1 div.sk-text-repr-fallback {display: none;}</style><div id=\"sk-container-id-1\" class=\"sk-top-container\"><div class=\"sk-text-repr-fallback\"><pre>ColumnTransformer(remainder=&#x27;passthrough&#x27;,\n",
       "                  transformers=[(&#x27;cat&#x27;, OneHotEncoder(handle_unknown=&#x27;ignore&#x27;),\n",
       "                                 Index([&#x27;Year&#x27;, &#x27;Month&#x27;, &#x27;DayOfWeek&#x27;, &#x27;Operating_Airline &#x27;, &#x27;Origin&#x27;, &#x27;Dest&#x27;,\n",
       "       &#x27;DepTimeBlk&#x27;, &#x27;ArrTimeBlk&#x27;, &#x27;Origin_HourlyWindDirection&#x27;,\n",
       "       &#x27;Dest_HourlyWindDirection&#x27;, &#x27;Holiday&#x27;],\n",
       "      dtype=&#x27;object&#x27;))])</pre><b>In a Jupyter environment, please rerun this cell to show the HTML representation or trust the notebook. <br />On GitHub, the HTML representation is unable to render, please try loading this page with nbviewer.org.</b></div><div class=\"sk-container\" hidden><div class=\"sk-item sk-dashed-wrapped\"><div class=\"sk-label-container\"><div class=\"sk-label sk-toggleable\"><input class=\"sk-toggleable__control sk-hidden--visually\" id=\"sk-estimator-id-1\" type=\"checkbox\" ><label for=\"sk-estimator-id-1\" class=\"sk-toggleable__label sk-toggleable__label-arrow\">ColumnTransformer</label><div class=\"sk-toggleable__content\"><pre>ColumnTransformer(remainder=&#x27;passthrough&#x27;,\n",
       "                  transformers=[(&#x27;cat&#x27;, OneHotEncoder(handle_unknown=&#x27;ignore&#x27;),\n",
       "                                 Index([&#x27;Year&#x27;, &#x27;Month&#x27;, &#x27;DayOfWeek&#x27;, &#x27;Operating_Airline &#x27;, &#x27;Origin&#x27;, &#x27;Dest&#x27;,\n",
       "       &#x27;DepTimeBlk&#x27;, &#x27;ArrTimeBlk&#x27;, &#x27;Origin_HourlyWindDirection&#x27;,\n",
       "       &#x27;Dest_HourlyWindDirection&#x27;, &#x27;Holiday&#x27;],\n",
       "      dtype=&#x27;object&#x27;))])</pre></div></div></div><div class=\"sk-parallel\"><div class=\"sk-parallel-item\"><div class=\"sk-item\"><div class=\"sk-label-container\"><div class=\"sk-label sk-toggleable\"><input class=\"sk-toggleable__control sk-hidden--visually\" id=\"sk-estimator-id-2\" type=\"checkbox\" ><label for=\"sk-estimator-id-2\" class=\"sk-toggleable__label sk-toggleable__label-arrow\">cat</label><div class=\"sk-toggleable__content\"><pre>Index([&#x27;Year&#x27;, &#x27;Month&#x27;, &#x27;DayOfWeek&#x27;, &#x27;Operating_Airline &#x27;, &#x27;Origin&#x27;, &#x27;Dest&#x27;,\n",
       "       &#x27;DepTimeBlk&#x27;, &#x27;ArrTimeBlk&#x27;, &#x27;Origin_HourlyWindDirection&#x27;,\n",
       "       &#x27;Dest_HourlyWindDirection&#x27;, &#x27;Holiday&#x27;],\n",
       "      dtype=&#x27;object&#x27;)</pre></div></div></div><div class=\"sk-serial\"><div class=\"sk-item\"><div class=\"sk-estimator sk-toggleable\"><input class=\"sk-toggleable__control sk-hidden--visually\" id=\"sk-estimator-id-3\" type=\"checkbox\" ><label for=\"sk-estimator-id-3\" class=\"sk-toggleable__label sk-toggleable__label-arrow\">OneHotEncoder</label><div class=\"sk-toggleable__content\"><pre>OneHotEncoder(handle_unknown=&#x27;ignore&#x27;)</pre></div></div></div></div></div></div><div class=\"sk-parallel-item\"><div class=\"sk-item\"><div class=\"sk-label-container\"><div class=\"sk-label sk-toggleable\"><input class=\"sk-toggleable__control sk-hidden--visually\" id=\"sk-estimator-id-4\" type=\"checkbox\" ><label for=\"sk-estimator-id-4\" class=\"sk-toggleable__label sk-toggleable__label-arrow\">remainder</label><div class=\"sk-toggleable__content\"><pre>[&#x27;Distance&#x27;, &#x27;Origin_HourlyAltimeterSetting&#x27;, &#x27;Origin_HourlyDewPointTemperature&#x27;, &#x27;Origin_HourlyDryBulbTemperature&#x27;, &#x27;Origin_HourlyPrecipitation&#x27;, &#x27;Origin_HourlyRelativeHumidity&#x27;, &#x27;Origin_HourlySeaLevelPressure&#x27;, &#x27;Origin_HourlyVisibility&#x27;, &#x27;Origin_HourlyWindGustSpeed&#x27;, &#x27;Origin_HourlyWindSpeed&#x27;, &#x27;Dest_HourlyAltimeterSetting&#x27;, &#x27;Dest_HourlyDewPointTemperature&#x27;, &#x27;Dest_HourlyDryBulbTemperature&#x27;, &#x27;Dest_HourlyPrecipitation&#x27;, &#x27;Dest_HourlyRelativeHumidity&#x27;, &#x27;Dest_HourlySeaLevelPressure&#x27;, &#x27;Dest_HourlyVisibility&#x27;, &#x27;Dest_HourlyWindGustSpeed&#x27;, &#x27;Dest_HourlyWindSpeed&#x27;]</pre></div></div></div><div class=\"sk-serial\"><div class=\"sk-item\"><div class=\"sk-estimator sk-toggleable\"><input class=\"sk-toggleable__control sk-hidden--visually\" id=\"sk-estimator-id-5\" type=\"checkbox\" ><label for=\"sk-estimator-id-5\" class=\"sk-toggleable__label sk-toggleable__label-arrow\">passthrough</label><div class=\"sk-toggleable__content\"><pre>passthrough</pre></div></div></div></div></div></div></div></div></div></div>"
      ],
      "text/plain": [
       "ColumnTransformer(remainder='passthrough',\n",
       "                  transformers=[('cat', OneHotEncoder(handle_unknown='ignore'),\n",
       "                                 Index(['Year', 'Month', 'DayOfWeek', 'Operating_Airline ', 'Origin', 'Dest',\n",
       "       'DepTimeBlk', 'ArrTimeBlk', 'Origin_HourlyWindDirection',\n",
       "       'Dest_HourlyWindDirection', 'Holiday'],\n",
       "      dtype='object'))])"
      ]
     },
     "execution_count": 7,
     "metadata": {},
     "output_type": "execute_result"
    }
   ],
   "source": [
    "data = data.sample(frac=0.1, random_state=42)\n",
    "\n",
    "# Define features and target variable\n",
    "X = data.drop(columns=['Cancelled', 'DepDelay', 'ArrDelay','YJArrDelay'])\n",
    "y = data['ArrDelay']\n",
    "\n",
    "categorical_features = X.select_dtypes(include=['category']).columns\n",
    "preprocessor = ColumnTransformer(\n",
    "    transformers=[\n",
    "        ('cat', OneHotEncoder(handle_unknown='ignore'), categorical_features)\n",
    "    ],\n",
    "    remainder='passthrough'  \n",
    ")\n",
    "preprocessor.fit(X) "
   ]
  },
  {
   "cell_type": "code",
   "execution_count": 8,
   "id": "adfd1973",
   "metadata": {},
   "outputs": [
    {
     "name": "stdout",
     "output_type": "stream",
     "text": [
      "Chunk shape: (500000, 897)\n",
      "Chunk shape: (450969, 897)\n",
      "Transformed data shape: (950969, 897)\n"
     ]
    }
   ],
   "source": [
    "from scipy.sparse import vstack, csr_matrix\n",
    "\n",
    "chunk_size = 500000  \n",
    "X_transformed = csr_matrix((0, len(preprocessor.transform(X.iloc[:1]).toarray()[0])))\n",
    "\n",
    "for start_row in range(0, len(X), chunk_size):\n",
    "    end_row = min(start_row + chunk_size, len(X))\n",
    "    data_chunk = X.iloc[start_row:end_row]  \n",
    "\n",
    "    X_transformed_chunk = preprocessor.transform(data_chunk)\n",
    "\n",
    "    print(f\"Chunk shape: {X_transformed_chunk.shape}\")\n",
    "\n",
    "    X_transformed = vstack([X_transformed, X_transformed_chunk])\n",
    "\n",
    "print(f\"Transformed data shape: {X_transformed.shape}\")"
   ]
  },
  {
   "cell_type": "code",
   "execution_count": 9,
   "id": "e6d1954b",
   "metadata": {},
   "outputs": [],
   "source": [
    "X_train, X_test, y_train, y_test = train_test_split(X_transformed, y, test_size=0.2, random_state=123)\n",
    "\n",
    "categories = preprocessor.transformers_[0][1].categories_\n",
    "\n",
    "encoded_feature_names = []\n",
    "for feature, category in zip(categorical_features, categories):\n",
    "    encoded_feature_names.extend([f\"{feature}_{cat}\" for cat in category])\n",
    "\n",
    "numerical_feature_names_org = preprocessor.transformers_[1][2] if len(preprocessor.transformers_) > 1 else []\n",
    "numerical_feature_names = []\n",
    "\n",
    "for index in numerical_feature_names_org:\n",
    "    if isinstance(index, int) and index < len(data.columns):\n",
    "        numerical_feature_names.append(data.columns[index])\n",
    "    else:\n",
    "        numerical_feature_names.append(index)\n",
    "\n",
    "all_feature_names = encoded_feature_names + numerical_feature_names"
   ]
  },
  {
   "cell_type": "markdown",
   "id": "9ab8ddfd",
   "metadata": {},
   "source": [
    "### linear regression"
   ]
  },
  {
   "cell_type": "code",
   "execution_count": 10,
   "id": "0a31a8dc",
   "metadata": {},
   "outputs": [
    {
     "name": "stdout",
     "output_type": "stream",
     "text": [
      "Mean Squared Error (MSE): 0.9288143760541698\n",
      "Root Mean Squared Error (RMSE): 0.9637501626740044\n",
      "Mean Absolute Error (MAE): 0.7235068950719311\n",
      "R² Score: 0.07308614765941046\n"
     ]
    }
   ],
   "source": [
    "# Initialize the linear regression model\n",
    "model = LinearRegression()\n",
    "\n",
    "# Train the model on the training set\n",
    "model.fit(X_train, y_train)\n",
    "\n",
    "# Predict on the test set\n",
    "y_pred = model.predict(X_test)\n",
    "\n",
    "# Evaluate the model using various metrics\n",
    "mse = mean_squared_error(y_test, y_pred)\n",
    "rmse = np.sqrt(mse)\n",
    "mae = mean_absolute_error(y_test, y_pred)\n",
    "r2 = r2_score(y_test, y_pred)\n",
    "\n",
    "print(\"Mean Squared Error (MSE):\", mse)\n",
    "print(\"Root Mean Squared Error (RMSE):\", rmse)\n",
    "print(\"Mean Absolute Error (MAE):\", mae)\n",
    "print(\"R² Score:\", r2)"
   ]
  },
  {
   "cell_type": "markdown",
   "id": "e99c0b43",
   "metadata": {},
   "source": [
    "y_train_transformed_pred = model.predict(X_train)\n",
    "y_test_transformed_pred = model.predict(X_test)\n",
    "\n",
    "y_train_pred = pt.inverse_transform(y_train_transformed_pred.reshape(-1, 1)).ravel()\n",
    "y_test_pred = pt.inverse_transform(y_test_transformed_pred.reshape(-1, 1)).ravel()\n",
    "y_train_true = pt.inverse_transform(y_train.values.reshape(-1, 1)).ravel()\n",
    "y_test_true = pt.inverse_transform(y_test.values.reshape(-1, 1)).ravel()\n",
    "\n",
    "train_mse = mean_squared_error(y_train_true, y_train_pred)\n",
    "train_rmse = np.sqrt(train_mse)\n",
    "train_mae = mean_absolute_error(y_train_true, y_train_pred)\n",
    "train_r2 = r2_score(y_train_true, y_train_pred)\n",
    "\n",
    "test_mse = mean_squared_error(y_test_true, y_test_pred)\n",
    "test_rmse = np.sqrt(test_mse)\n",
    "test_mae = mean_absolute_error(y_test_true, y_test_pred)\n",
    "test_r2 = r2_score(y_test_true, y_test_pred)\n",
    "\n",
    "print(\"Training Set Metrics (Original Scale):\")\n",
    "print(\"Mean Squared Error:\", train_mse)\n",
    "print(\"Root Mean Squared Error:\", train_rmse)\n",
    "print(\"Mean Absolute Error:\", train_mae)\n",
    "print(\"R² Score:\", train_r2)\n",
    "\n",
    "print(\"\\nTesting Set Metrics (Original Scale):\")\n",
    "print(\"Mean Squared Error:\", test_mse)\n",
    "print(\"Root Mean Squared Error:\", test_rmse)\n",
    "print(\"Mean Absolute Error:\", test_mae)\n",
    "print(\"R² Score:\", test_r2)"
   ]
  }
 ],
 "metadata": {
  "kernelspec": {
   "display_name": "Python 3 (ipykernel)",
   "language": "python",
   "name": "python3"
  },
  "language_info": {
   "codemirror_mode": {
    "name": "ipython",
    "version": 3
   },
   "file_extension": ".py",
   "mimetype": "text/x-python",
   "name": "python",
   "nbconvert_exporter": "python",
   "pygments_lexer": "ipython3",
   "version": "3.9.7"
  }
 },
 "nbformat": 4,
 "nbformat_minor": 5
}
