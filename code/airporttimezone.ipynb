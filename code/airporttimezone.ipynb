{
 "cells": [
  {
   "cell_type": "code",
   "execution_count": 1,
   "id": "5638a520",
   "metadata": {},
   "outputs": [
    {
     "name": "stderr",
     "output_type": "stream",
     "text": [
      "\n",
      "Attaching package: 'lubridate'\n",
      "\n",
      "\n",
      "The following objects are masked from 'package:base':\n",
      "\n",
      "    date, intersect, setdiff, union\n",
      "\n",
      "\n"
     ]
    }
   ],
   "source": [
    "library(lubridate)\n",
    "library(lutz)"
   ]
  },
  {
   "cell_type": "code",
   "execution_count": 3,
   "id": "bd81d117",
   "metadata": {},
   "outputs": [
    {
     "data": {
      "text/html": [
       "<table class=\"dataframe\">\n",
       "<caption>A data.frame: 6 × 6</caption>\n",
       "<thead>\n",
       "\t<tr><th></th><th scope=col>AIRPORT</th><th scope=col>AIRPORT_ID</th><th scope=col>LATITUDE</th><th scope=col>LONGITUDE</th><th scope=col>Closest_Station</th><th scope=col>Closest_Distance</th></tr>\n",
       "\t<tr><th></th><th scope=col>&lt;chr&gt;</th><th scope=col>&lt;int&gt;</th><th scope=col>&lt;dbl&gt;</th><th scope=col>&lt;dbl&gt;</th><th scope=col>&lt;chr&gt;</th><th scope=col>&lt;dbl&gt;</th></tr>\n",
       "</thead>\n",
       "<tbody>\n",
       "\t<tr><th scope=row>1</th><td>ABE</td><td>10135</td><td>40.65269</td><td> -75.44005</td><td>USW00014737</td><td>0.73352352</td></tr>\n",
       "\t<tr><th scope=row>2</th><td>ABI</td><td>10136</td><td>32.41065</td><td> -99.68111</td><td>USW00013962</td><td>0.07424947</td></tr>\n",
       "\t<tr><th scope=row>3</th><td>ABQ</td><td>10140</td><td>35.04000</td><td>-106.60828</td><td>USW00023050</td><td>0.69929265</td></tr>\n",
       "\t<tr><th scope=row>4</th><td>ABR</td><td>10141</td><td>45.44829</td><td> -98.42218</td><td>USW00014929</td><td>1.08501454</td></tr>\n",
       "\t<tr><th scope=row>5</th><td>ABY</td><td>10146</td><td>31.53389</td><td> -84.19528</td><td>USW00013869</td><td>0.28357518</td></tr>\n",
       "\t<tr><th scope=row>6</th><td>ACK</td><td>10154</td><td>41.25370</td><td> -70.06014</td><td>USW00014756</td><td>0.11735123</td></tr>\n",
       "</tbody>\n",
       "</table>\n"
      ],
      "text/latex": [
       "A data.frame: 6 × 6\n",
       "\\begin{tabular}{r|llllll}\n",
       "  & AIRPORT & AIRPORT\\_ID & LATITUDE & LONGITUDE & Closest\\_Station & Closest\\_Distance\\\\\n",
       "  & <chr> & <int> & <dbl> & <dbl> & <chr> & <dbl>\\\\\n",
       "\\hline\n",
       "\t1 & ABE & 10135 & 40.65269 &  -75.44005 & USW00014737 & 0.73352352\\\\\n",
       "\t2 & ABI & 10136 & 32.41065 &  -99.68111 & USW00013962 & 0.07424947\\\\\n",
       "\t3 & ABQ & 10140 & 35.04000 & -106.60828 & USW00023050 & 0.69929265\\\\\n",
       "\t4 & ABR & 10141 & 45.44829 &  -98.42218 & USW00014929 & 1.08501454\\\\\n",
       "\t5 & ABY & 10146 & 31.53389 &  -84.19528 & USW00013869 & 0.28357518\\\\\n",
       "\t6 & ACK & 10154 & 41.25370 &  -70.06014 & USW00014756 & 0.11735123\\\\\n",
       "\\end{tabular}\n"
      ],
      "text/markdown": [
       "\n",
       "A data.frame: 6 × 6\n",
       "\n",
       "| <!--/--> | AIRPORT &lt;chr&gt; | AIRPORT_ID &lt;int&gt; | LATITUDE &lt;dbl&gt; | LONGITUDE &lt;dbl&gt; | Closest_Station &lt;chr&gt; | Closest_Distance &lt;dbl&gt; |\n",
       "|---|---|---|---|---|---|---|\n",
       "| 1 | ABE | 10135 | 40.65269 |  -75.44005 | USW00014737 | 0.73352352 |\n",
       "| 2 | ABI | 10136 | 32.41065 |  -99.68111 | USW00013962 | 0.07424947 |\n",
       "| 3 | ABQ | 10140 | 35.04000 | -106.60828 | USW00023050 | 0.69929265 |\n",
       "| 4 | ABR | 10141 | 45.44829 |  -98.42218 | USW00014929 | 1.08501454 |\n",
       "| 5 | ABY | 10146 | 31.53389 |  -84.19528 | USW00013869 | 0.28357518 |\n",
       "| 6 | ACK | 10154 | 41.25370 |  -70.06014 | USW00014756 | 0.11735123 |\n",
       "\n"
      ],
      "text/plain": [
       "  AIRPORT AIRPORT_ID LATITUDE LONGITUDE  Closest_Station Closest_Distance\n",
       "1 ABE     10135      40.65269  -75.44005 USW00014737     0.73352352      \n",
       "2 ABI     10136      32.41065  -99.68111 USW00013962     0.07424947      \n",
       "3 ABQ     10140      35.04000 -106.60828 USW00023050     0.69929265      \n",
       "4 ABR     10141      45.44829  -98.42218 USW00014929     1.08501454      \n",
       "5 ABY     10146      31.53389  -84.19528 USW00013869     0.28357518      \n",
       "6 ACK     10154      41.25370  -70.06014 USW00014756     0.11735123      "
      ]
     },
     "metadata": {},
     "output_type": "display_data"
    }
   ],
   "source": [
    "location <- read.csv(\"Airport_with_Nearest_Station.csv\")\n",
    "head(location)"
   ]
  },
  {
   "cell_type": "code",
   "execution_count": 4,
   "id": "f46b19b4",
   "metadata": {},
   "outputs": [],
   "source": [
    "location$Timezone <- sapply(1:nrow(location), function(i) {\n",
    "  tz_lookup_coords(location$LATITUDE[i], location$LONGITUDE[i], method = \"accurate\")\n",
    "})"
   ]
  },
  {
   "cell_type": "code",
   "execution_count": 5,
   "id": "18c35ace",
   "metadata": {},
   "outputs": [
    {
     "data": {
      "text/html": [
       "<table class=\"dataframe\">\n",
       "<caption>A data.frame: 6 × 2</caption>\n",
       "<thead>\n",
       "\t<tr><th></th><th scope=col>AIRPORT_ID</th><th scope=col>Timezone</th></tr>\n",
       "\t<tr><th></th><th scope=col>&lt;int&gt;</th><th scope=col>&lt;chr&gt;</th></tr>\n",
       "</thead>\n",
       "<tbody>\n",
       "\t<tr><th scope=row>1</th><td>10135</td><td>America/New_York</td></tr>\n",
       "\t<tr><th scope=row>2</th><td>10136</td><td>America/Chicago </td></tr>\n",
       "\t<tr><th scope=row>3</th><td>10140</td><td>America/Denver  </td></tr>\n",
       "\t<tr><th scope=row>4</th><td>10141</td><td>America/Chicago </td></tr>\n",
       "\t<tr><th scope=row>5</th><td>10146</td><td>America/New_York</td></tr>\n",
       "\t<tr><th scope=row>6</th><td>10154</td><td>America/New_York</td></tr>\n",
       "</tbody>\n",
       "</table>\n"
      ],
      "text/latex": [
       "A data.frame: 6 × 2\n",
       "\\begin{tabular}{r|ll}\n",
       "  & AIRPORT\\_ID & Timezone\\\\\n",
       "  & <int> & <chr>\\\\\n",
       "\\hline\n",
       "\t1 & 10135 & America/New\\_York\\\\\n",
       "\t2 & 10136 & America/Chicago \\\\\n",
       "\t3 & 10140 & America/Denver  \\\\\n",
       "\t4 & 10141 & America/Chicago \\\\\n",
       "\t5 & 10146 & America/New\\_York\\\\\n",
       "\t6 & 10154 & America/New\\_York\\\\\n",
       "\\end{tabular}\n"
      ],
      "text/markdown": [
       "\n",
       "A data.frame: 6 × 2\n",
       "\n",
       "| <!--/--> | AIRPORT_ID &lt;int&gt; | Timezone &lt;chr&gt; |\n",
       "|---|---|---|\n",
       "| 1 | 10135 | America/New_York |\n",
       "| 2 | 10136 | America/Chicago  |\n",
       "| 3 | 10140 | America/Denver   |\n",
       "| 4 | 10141 | America/Chicago  |\n",
       "| 5 | 10146 | America/New_York |\n",
       "| 6 | 10154 | America/New_York |\n",
       "\n"
      ],
      "text/plain": [
       "  AIRPORT_ID Timezone        \n",
       "1 10135      America/New_York\n",
       "2 10136      America/Chicago \n",
       "3 10140      America/Denver  \n",
       "4 10141      America/Chicago \n",
       "5 10146      America/New_York\n",
       "6 10154      America/New_York"
      ]
     },
     "metadata": {},
     "output_type": "display_data"
    },
    {
     "name": "stdout",
     "output_type": "stream",
     "text": [
      "391"
     ]
    }
   ],
   "source": [
    "airport_timezones <- location[, c(\"AIRPORT_ID\", \"Timezone\")]\n",
    "head(airport_timezones)\n",
    "cat( nrow(airport_timezones))"
   ]
  },
  {
   "cell_type": "code",
   "execution_count": 6,
   "id": "9642eaf2",
   "metadata": {},
   "outputs": [],
   "source": [
    "write.csv(airport_timezones, \"airport_timezones.csv\", row.names = FALSE)"
   ]
  }
 ],
 "metadata": {
  "kernelspec": {
   "display_name": "R",
   "language": "R",
   "name": "ir"
  },
  "language_info": {
   "codemirror_mode": "r",
   "file_extension": ".r",
   "mimetype": "text/x-r-source",
   "name": "R",
   "pygments_lexer": "r",
   "version": "4.4.1"
  }
 },
 "nbformat": 4,
 "nbformat_minor": 5
}
