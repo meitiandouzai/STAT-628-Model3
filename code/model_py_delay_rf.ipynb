{
 "cells": [
  {
   "cell_type": "code",
   "execution_count": 1,
   "id": "84b01a1f",
   "metadata": {},
   "outputs": [],
   "source": [
    "from sklearn.model_selection import train_test_split\n",
    "from sklearn.linear_model import LinearRegression\n",
    "import pandas as pd\n",
    "import numpy as np\n",
    "import matplotlib.pyplot as plt\n",
    "from sklearn.preprocessing import OneHotEncoder\n",
    "from sklearn.compose import ColumnTransformer\n",
    "from scipy.sparse import vstack, csr_matrix\n",
    "from sklearn.linear_model import LinearRegression\n",
    "from sklearn.metrics import mean_squared_error, mean_absolute_error, r2_score\n",
    "from sklearn.ensemble import RandomForestRegressor\n",
    "from sklearn.ensemble import BaggingRegressor"
   ]
  },
  {
   "cell_type": "code",
   "execution_count": 8,
   "id": "ee77e8f5",
   "metadata": {},
   "outputs": [],
   "source": [
    "data = pd.read_csv(\"final_data.csv\")\n",
    "data['Year']=data['Year'].astype('category')\n",
    "data['Month']=data['Month'].astype('category')\n",
    "data['DayOfWeek']=data['DayOfWeek'].astype('category')\n",
    "data['Operating_Airline ']=data['Operating_Airline '].astype('category')\n",
    "data['Origin']=data['Origin'].astype('category')\n",
    "data['Dest']=data['Dest'].astype('category')\n",
    "data['DepTimeBlk'] = data['DepTimeBlk'].astype('category')\n",
    "data['ArrTimeBlk'] = data['ArrTimeBlk'].astype('category')\n",
    "data['Origin_HourlyWindDirection'] = data['Origin_HourlyWindDirection'].astype('category')\n",
    "data['Dest_HourlyWindDirection'] = data['Dest_HourlyWindDirection'].astype('category')\n",
    "data['Holiday'] = data['Holiday'].astype('category')\n",
    "data['Cancelled'] = data['Cancelled'].astype('category')\n",
    "data = data.drop(columns=['ActualElapsedTime'])\n",
    "\n",
    "continuous_columns = data.select_dtypes(include=['float64', 'int64']).columns\n",
    "\n",
    "data = data[data['Cancelled'] != 1]\n",
    "min_arr_delay = data['ArrDelay'].min()\n",
    "data = data[data['ArrDelay'] != min_arr_delay]  # Remove row with minimum ArrDelay\n",
    "data = data.dropna(subset=['ArrDelay'])"
   ]
  },
  {
   "cell_type": "markdown",
   "id": "68c7c190",
   "metadata": {},
   "source": [
    "### one hot"
   ]
  },
  {
   "cell_type": "code",
   "execution_count": 9,
   "id": "7840e816",
   "metadata": {},
   "outputs": [
    {
     "data": {
      "text/html": [
       "<style>#sk-container-id-2 {color: black;background-color: white;}#sk-container-id-2 pre{padding: 0;}#sk-container-id-2 div.sk-toggleable {background-color: white;}#sk-container-id-2 label.sk-toggleable__label {cursor: pointer;display: block;width: 100%;margin-bottom: 0;padding: 0.3em;box-sizing: border-box;text-align: center;}#sk-container-id-2 label.sk-toggleable__label-arrow:before {content: \"▸\";float: left;margin-right: 0.25em;color: #696969;}#sk-container-id-2 label.sk-toggleable__label-arrow:hover:before {color: black;}#sk-container-id-2 div.sk-estimator:hover label.sk-toggleable__label-arrow:before {color: black;}#sk-container-id-2 div.sk-toggleable__content {max-height: 0;max-width: 0;overflow: hidden;text-align: left;background-color: #f0f8ff;}#sk-container-id-2 div.sk-toggleable__content pre {margin: 0.2em;color: black;border-radius: 0.25em;background-color: #f0f8ff;}#sk-container-id-2 input.sk-toggleable__control:checked~div.sk-toggleable__content {max-height: 200px;max-width: 100%;overflow: auto;}#sk-container-id-2 input.sk-toggleable__control:checked~label.sk-toggleable__label-arrow:before {content: \"▾\";}#sk-container-id-2 div.sk-estimator input.sk-toggleable__control:checked~label.sk-toggleable__label {background-color: #d4ebff;}#sk-container-id-2 div.sk-label input.sk-toggleable__control:checked~label.sk-toggleable__label {background-color: #d4ebff;}#sk-container-id-2 input.sk-hidden--visually {border: 0;clip: rect(1px 1px 1px 1px);clip: rect(1px, 1px, 1px, 1px);height: 1px;margin: -1px;overflow: hidden;padding: 0;position: absolute;width: 1px;}#sk-container-id-2 div.sk-estimator {font-family: monospace;background-color: #f0f8ff;border: 1px dotted black;border-radius: 0.25em;box-sizing: border-box;margin-bottom: 0.5em;}#sk-container-id-2 div.sk-estimator:hover {background-color: #d4ebff;}#sk-container-id-2 div.sk-parallel-item::after {content: \"\";width: 100%;border-bottom: 1px solid gray;flex-grow: 1;}#sk-container-id-2 div.sk-label:hover label.sk-toggleable__label {background-color: #d4ebff;}#sk-container-id-2 div.sk-serial::before {content: \"\";position: absolute;border-left: 1px solid gray;box-sizing: border-box;top: 0;bottom: 0;left: 50%;z-index: 0;}#sk-container-id-2 div.sk-serial {display: flex;flex-direction: column;align-items: center;background-color: white;padding-right: 0.2em;padding-left: 0.2em;position: relative;}#sk-container-id-2 div.sk-item {position: relative;z-index: 1;}#sk-container-id-2 div.sk-parallel {display: flex;align-items: stretch;justify-content: center;background-color: white;position: relative;}#sk-container-id-2 div.sk-item::before, #sk-container-id-2 div.sk-parallel-item::before {content: \"\";position: absolute;border-left: 1px solid gray;box-sizing: border-box;top: 0;bottom: 0;left: 50%;z-index: -1;}#sk-container-id-2 div.sk-parallel-item {display: flex;flex-direction: column;z-index: 1;position: relative;background-color: white;}#sk-container-id-2 div.sk-parallel-item:first-child::after {align-self: flex-end;width: 50%;}#sk-container-id-2 div.sk-parallel-item:last-child::after {align-self: flex-start;width: 50%;}#sk-container-id-2 div.sk-parallel-item:only-child::after {width: 0;}#sk-container-id-2 div.sk-dashed-wrapped {border: 1px dashed gray;margin: 0 0.4em 0.5em 0.4em;box-sizing: border-box;padding-bottom: 0.4em;background-color: white;}#sk-container-id-2 div.sk-label label {font-family: monospace;font-weight: bold;display: inline-block;line-height: 1.2em;}#sk-container-id-2 div.sk-label-container {text-align: center;}#sk-container-id-2 div.sk-container {/* jupyter's `normalize.less` sets `[hidden] { display: none; }` but bootstrap.min.css set `[hidden] { display: none !important; }` so we also need the `!important` here to be able to override the default hidden behavior on the sphinx rendered scikit-learn.org. See: https://github.com/scikit-learn/scikit-learn/issues/21755 */display: inline-block !important;position: relative;}#sk-container-id-2 div.sk-text-repr-fallback {display: none;}</style><div id=\"sk-container-id-2\" class=\"sk-top-container\"><div class=\"sk-text-repr-fallback\"><pre>ColumnTransformer(remainder=&#x27;passthrough&#x27;,\n",
       "                  transformers=[(&#x27;cat&#x27;, OneHotEncoder(handle_unknown=&#x27;ignore&#x27;),\n",
       "                                 Index([&#x27;Year&#x27;, &#x27;Month&#x27;, &#x27;DayOfWeek&#x27;, &#x27;Operating_Airline &#x27;, &#x27;Origin&#x27;, &#x27;Dest&#x27;,\n",
       "       &#x27;DepTimeBlk&#x27;, &#x27;ArrTimeBlk&#x27;, &#x27;Origin_HourlyWindDirection&#x27;,\n",
       "       &#x27;Dest_HourlyWindDirection&#x27;, &#x27;Holiday&#x27;],\n",
       "      dtype=&#x27;object&#x27;))])</pre><b>In a Jupyter environment, please rerun this cell to show the HTML representation or trust the notebook. <br />On GitHub, the HTML representation is unable to render, please try loading this page with nbviewer.org.</b></div><div class=\"sk-container\" hidden><div class=\"sk-item sk-dashed-wrapped\"><div class=\"sk-label-container\"><div class=\"sk-label sk-toggleable\"><input class=\"sk-toggleable__control sk-hidden--visually\" id=\"sk-estimator-id-6\" type=\"checkbox\" ><label for=\"sk-estimator-id-6\" class=\"sk-toggleable__label sk-toggleable__label-arrow\">ColumnTransformer</label><div class=\"sk-toggleable__content\"><pre>ColumnTransformer(remainder=&#x27;passthrough&#x27;,\n",
       "                  transformers=[(&#x27;cat&#x27;, OneHotEncoder(handle_unknown=&#x27;ignore&#x27;),\n",
       "                                 Index([&#x27;Year&#x27;, &#x27;Month&#x27;, &#x27;DayOfWeek&#x27;, &#x27;Operating_Airline &#x27;, &#x27;Origin&#x27;, &#x27;Dest&#x27;,\n",
       "       &#x27;DepTimeBlk&#x27;, &#x27;ArrTimeBlk&#x27;, &#x27;Origin_HourlyWindDirection&#x27;,\n",
       "       &#x27;Dest_HourlyWindDirection&#x27;, &#x27;Holiday&#x27;],\n",
       "      dtype=&#x27;object&#x27;))])</pre></div></div></div><div class=\"sk-parallel\"><div class=\"sk-parallel-item\"><div class=\"sk-item\"><div class=\"sk-label-container\"><div class=\"sk-label sk-toggleable\"><input class=\"sk-toggleable__control sk-hidden--visually\" id=\"sk-estimator-id-7\" type=\"checkbox\" ><label for=\"sk-estimator-id-7\" class=\"sk-toggleable__label sk-toggleable__label-arrow\">cat</label><div class=\"sk-toggleable__content\"><pre>Index([&#x27;Year&#x27;, &#x27;Month&#x27;, &#x27;DayOfWeek&#x27;, &#x27;Operating_Airline &#x27;, &#x27;Origin&#x27;, &#x27;Dest&#x27;,\n",
       "       &#x27;DepTimeBlk&#x27;, &#x27;ArrTimeBlk&#x27;, &#x27;Origin_HourlyWindDirection&#x27;,\n",
       "       &#x27;Dest_HourlyWindDirection&#x27;, &#x27;Holiday&#x27;],\n",
       "      dtype=&#x27;object&#x27;)</pre></div></div></div><div class=\"sk-serial\"><div class=\"sk-item\"><div class=\"sk-estimator sk-toggleable\"><input class=\"sk-toggleable__control sk-hidden--visually\" id=\"sk-estimator-id-8\" type=\"checkbox\" ><label for=\"sk-estimator-id-8\" class=\"sk-toggleable__label sk-toggleable__label-arrow\">OneHotEncoder</label><div class=\"sk-toggleable__content\"><pre>OneHotEncoder(handle_unknown=&#x27;ignore&#x27;)</pre></div></div></div></div></div></div><div class=\"sk-parallel-item\"><div class=\"sk-item\"><div class=\"sk-label-container\"><div class=\"sk-label sk-toggleable\"><input class=\"sk-toggleable__control sk-hidden--visually\" id=\"sk-estimator-id-9\" type=\"checkbox\" ><label for=\"sk-estimator-id-9\" class=\"sk-toggleable__label sk-toggleable__label-arrow\">remainder</label><div class=\"sk-toggleable__content\"><pre>[&#x27;Distance&#x27;, &#x27;Origin_HourlyAltimeterSetting&#x27;, &#x27;Origin_HourlyDewPointTemperature&#x27;, &#x27;Origin_HourlyDryBulbTemperature&#x27;, &#x27;Origin_HourlyPrecipitation&#x27;, &#x27;Origin_HourlyRelativeHumidity&#x27;, &#x27;Origin_HourlySeaLevelPressure&#x27;, &#x27;Origin_HourlyVisibility&#x27;, &#x27;Origin_HourlyWindGustSpeed&#x27;, &#x27;Origin_HourlyWindSpeed&#x27;, &#x27;Dest_HourlyAltimeterSetting&#x27;, &#x27;Dest_HourlyDewPointTemperature&#x27;, &#x27;Dest_HourlyDryBulbTemperature&#x27;, &#x27;Dest_HourlyPrecipitation&#x27;, &#x27;Dest_HourlyRelativeHumidity&#x27;, &#x27;Dest_HourlySeaLevelPressure&#x27;, &#x27;Dest_HourlyVisibility&#x27;, &#x27;Dest_HourlyWindGustSpeed&#x27;, &#x27;Dest_HourlyWindSpeed&#x27;]</pre></div></div></div><div class=\"sk-serial\"><div class=\"sk-item\"><div class=\"sk-estimator sk-toggleable\"><input class=\"sk-toggleable__control sk-hidden--visually\" id=\"sk-estimator-id-10\" type=\"checkbox\" ><label for=\"sk-estimator-id-10\" class=\"sk-toggleable__label sk-toggleable__label-arrow\">passthrough</label><div class=\"sk-toggleable__content\"><pre>passthrough</pre></div></div></div></div></div></div></div></div></div></div>"
      ],
      "text/plain": [
       "ColumnTransformer(remainder='passthrough',\n",
       "                  transformers=[('cat', OneHotEncoder(handle_unknown='ignore'),\n",
       "                                 Index(['Year', 'Month', 'DayOfWeek', 'Operating_Airline ', 'Origin', 'Dest',\n",
       "       'DepTimeBlk', 'ArrTimeBlk', 'Origin_HourlyWindDirection',\n",
       "       'Dest_HourlyWindDirection', 'Holiday'],\n",
       "      dtype='object'))])"
      ]
     },
     "execution_count": 9,
     "metadata": {},
     "output_type": "execute_result"
    }
   ],
   "source": [
    "data = data.sample(frac=0.1, random_state=42)\n",
    "\n",
    "# Define features and target variable\n",
    "X = data.drop(columns=['Cancelled', 'DepDelay', 'ArrDelay'])\n",
    "y = data['ArrDelay']\n",
    "\n",
    "categorical_features = X.select_dtypes(include=['category']).columns\n",
    "preprocessor = ColumnTransformer(\n",
    "    transformers=[\n",
    "        ('cat', OneHotEncoder(handle_unknown='ignore'), categorical_features)\n",
    "    ],\n",
    "    remainder='passthrough'  \n",
    ")\n",
    "preprocessor.fit(X) "
   ]
  },
  {
   "cell_type": "code",
   "execution_count": 10,
   "id": "9e61d73b",
   "metadata": {},
   "outputs": [
    {
     "name": "stdout",
     "output_type": "stream",
     "text": [
      "Chunk shape: (500000, 897)\n",
      "Chunk shape: (450969, 897)\n",
      "Transformed data shape: (950969, 897)\n"
     ]
    }
   ],
   "source": [
    "from scipy.sparse import vstack, csr_matrix\n",
    "\n",
    "chunk_size = 500000  \n",
    "X_transformed = csr_matrix((0, len(preprocessor.transform(X.iloc[:1]).toarray()[0])))\n",
    "\n",
    "for start_row in range(0, len(X), chunk_size):\n",
    "    end_row = min(start_row + chunk_size, len(X))\n",
    "    data_chunk = X.iloc[start_row:end_row]  \n",
    "\n",
    "    X_transformed_chunk = preprocessor.transform(data_chunk)\n",
    "\n",
    "    print(f\"Chunk shape: {X_transformed_chunk.shape}\")\n",
    "\n",
    "    X_transformed = vstack([X_transformed, X_transformed_chunk])\n",
    "\n",
    "print(f\"Transformed data shape: {X_transformed.shape}\")"
   ]
  },
  {
   "cell_type": "code",
   "execution_count": 11,
   "id": "444afc55",
   "metadata": {},
   "outputs": [],
   "source": [
    "X_train, X_test, y_train, y_test = train_test_split(X_transformed, y, test_size=0.2, random_state=123)\n",
    "\n",
    "categories = preprocessor.transformers_[0][1].categories_\n",
    "\n",
    "encoded_feature_names = []\n",
    "for feature, category in zip(categorical_features, categories):\n",
    "    encoded_feature_names.extend([f\"{feature}_{cat}\" for cat in category])\n",
    "\n",
    "numerical_feature_names_org = preprocessor.transformers_[1][2] if len(preprocessor.transformers_) > 1 else []\n",
    "numerical_feature_names = []\n",
    "\n",
    "for index in numerical_feature_names_org:\n",
    "    if isinstance(index, int) and index < len(data.columns):\n",
    "        numerical_feature_names.append(data.columns[index])\n",
    "    else:\n",
    "        numerical_feature_names.append(index)\n",
    "\n",
    "all_feature_names = encoded_feature_names + numerical_feature_names"
   ]
  },
  {
   "cell_type": "markdown",
   "id": "38075357",
   "metadata": {},
   "source": [
    "### Random Forest"
   ]
  },
  {
   "cell_type": "code",
   "execution_count": 12,
   "id": "1ad29664",
   "metadata": {},
   "outputs": [
    {
     "name": "stdout",
     "output_type": "stream",
     "text": [
      "Mean Squared Error (MSE): 2597.253296864808\n",
      "Root Mean Squared Error (RMSE): 50.96325437866785\n",
      "Mean Absolute Error (MAE): 23.04622137303493\n",
      "R² Score: 0.024318286798869715\n"
     ]
    }
   ],
   "source": [
    "# Initialize and train the Random Forest model\n",
    "model = RandomForestRegressor(n_estimators=100, max_depth=10, random_state=42, n_jobs=-1) \n",
    "model.fit(X_train, y_train)\n",
    "\n",
    "# Predict on the test set\n",
    "y_pred = model.predict(X_test)\n",
    "\n",
    "# Evaluate the model\n",
    "mse = mean_squared_error(y_test, y_pred)\n",
    "rmse = np.sqrt(mse)\n",
    "mae = mean_absolute_error(y_test, y_pred)\n",
    "r2 = r2_score(y_test, y_pred)\n",
    "\n",
    "print(\"Mean Squared Error (MSE):\", mse)\n",
    "print(\"Root Mean Squared Error (RMSE):\", rmse)\n",
    "print(\"Mean Absolute Error (MAE):\", mae)\n",
    "print(\"R² Score:\", r2)"
   ]
  },
  {
   "cell_type": "markdown",
   "id": "e7cb8510",
   "metadata": {},
   "source": [
    "### BaggingRegressor"
   ]
  },
  {
   "cell_type": "code",
   "execution_count": 14,
   "id": "5fa9bf41",
   "metadata": {},
   "outputs": [
    {
     "name": "stderr",
     "output_type": "stream",
     "text": [
      "D:\\anaconda\\lib\\site-packages\\sklearn\\ensemble\\_base.py:166: FutureWarning: `base_estimator` was renamed to `estimator` in version 1.2 and will be removed in 1.4.\n",
      "  warnings.warn(\n"
     ]
    },
    {
     "name": "stdout",
     "output_type": "stream",
     "text": [
      "Mean Squared Error (MSE): 2618.4417610989894\n",
      "Root Mean Squared Error (RMSE): 51.17071194637602\n",
      "Mean Absolute Error (MAE): 23.19339295800857\n",
      "R² Score: 0.01635864839584522\n"
     ]
    }
   ],
   "source": [
    "# 使用 BaggingRegressor 包装随机森林\n",
    "model = BaggingRegressor(\n",
    "    base_estimator=RandomForestRegressor(n_estimators=10, max_depth=10, random_state=42),\n",
    "    n_estimators=10,  # 定义 mini-batch 的数量\n",
    "    max_samples=0.1,  # 每个 mini-batch 使用的数据比例\n",
    "    n_jobs=-1,\n",
    "    random_state=42\n",
    ")\n",
    "\n",
    "# 训练模型\n",
    "model.fit(X_train, y_train)\n",
    "\n",
    "# 预测和评估\n",
    "y_pred = model.predict(X_test)\n",
    "\n",
    "# 评估模型\n",
    "mse = mean_squared_error(y_test, y_pred)\n",
    "rmse = np.sqrt(mse)\n",
    "mae = mean_absolute_error(y_test, y_pred)\n",
    "r2 = r2_score(y_test, y_pred)\n",
    "\n",
    "print(\"Mean Squared Error (MSE):\", mse)\n",
    "print(\"Root Mean Squared Error (RMSE):\", rmse)\n",
    "print(\"Mean Absolute Error (MAE):\", mae)\n",
    "print(\"R² Score:\", r2)"
   ]
  }
 ],
 "metadata": {
  "kernelspec": {
   "display_name": "Python 3 (ipykernel)",
   "language": "python",
   "name": "python3"
  },
  "language_info": {
   "codemirror_mode": {
    "name": "ipython",
    "version": 3
   },
   "file_extension": ".py",
   "mimetype": "text/x-python",
   "name": "python",
   "nbconvert_exporter": "python",
   "pygments_lexer": "ipython3",
   "version": "3.9.7"
  }
 },
 "nbformat": 4,
 "nbformat_minor": 5
}
