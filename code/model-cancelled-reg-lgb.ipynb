{
 "cells": [
  {
   "cell_type": "code",
   "execution_count": 1,
   "metadata": {
    "execution": {
     "iopub.execute_input": "2024-11-08T22:37:50.137010Z",
     "iopub.status.busy": "2024-11-08T22:37:50.136390Z",
     "iopub.status.idle": "2024-11-08T22:37:54.480330Z",
     "shell.execute_reply": "2024-11-08T22:37:54.479559Z",
     "shell.execute_reply.started": "2024-11-08T22:37:50.136973Z"
    }
   },
   "outputs": [],
   "source": [
    "import lightgbm as lgb\n",
    "import pandas as pd\n",
    "import numpy as np\n",
    "from sklearn.model_selection import train_test_split\n",
    "from sklearn.metrics import f1_score, roc_auc_score, accuracy_score\n",
    "from sklearn.linear_model import LogisticRegression\n",
    "from sklearn.preprocessing import OneHotEncoder\n",
    "from sklearn.compose import ColumnTransformer\n",
    "from sklearn.pipeline import Pipeline\n",
    "from scipy.sparse import vstack, csr_matrix, csc_matrix\n",
    "from collections import Counter\n",
    "from imblearn.over_sampling import SMOTE\n",
    "from tqdm import tqdm"
   ]
  },
  {
   "cell_type": "code",
   "execution_count": 2,
   "metadata": {
    "execution": {
     "iopub.execute_input": "2024-11-08T22:38:11.021563Z",
     "iopub.status.busy": "2024-11-08T22:38:11.020893Z",
     "iopub.status.idle": "2024-11-08T22:39:12.395371Z",
     "shell.execute_reply": "2024-11-08T22:39:12.394320Z",
     "shell.execute_reply.started": "2024-11-08T22:38:11.021523Z"
    }
   },
   "outputs": [],
   "source": [
    "data_org = pd.read_csv(\"D:/STAT628m3/final_data1.csv\")"
   ]
  },
  {
   "cell_type": "code",
   "execution_count": 22,
   "metadata": {
    "execution": {
     "iopub.execute_input": "2024-11-08T22:39:12.397789Z",
     "iopub.status.busy": "2024-11-08T22:39:12.397400Z",
     "iopub.status.idle": "2024-11-08T22:39:12.402302Z",
     "shell.execute_reply": "2024-11-08T22:39:12.401319Z",
     "shell.execute_reply.started": "2024-11-08T22:39:12.397748Z"
    }
   },
   "outputs": [],
   "source": [
    "data = data_org"
   ]
  },
  {
   "cell_type": "code",
   "execution_count": 23,
   "metadata": {
    "execution": {
     "iopub.execute_input": "2024-11-08T22:39:12.403829Z",
     "iopub.status.busy": "2024-11-08T22:39:12.403448Z",
     "iopub.status.idle": "2024-11-08T22:39:12.437216Z",
     "shell.execute_reply": "2024-11-08T22:39:12.436178Z",
     "shell.execute_reply.started": "2024-11-08T22:39:12.403786Z"
    }
   },
   "outputs": [
    {
     "name": "stdout",
     "output_type": "stream",
     "text": [
      "<class 'pandas.core.frame.DataFrame'>\n",
      "RangeIndex: 9700884 entries, 0 to 9700883\n",
      "Data columns (total 34 columns):\n",
      " #   Column                            Dtype  \n",
      "---  ------                            -----  \n",
      " 0   Year                              int64  \n",
      " 1   Month                             int64  \n",
      " 2   DayOfWeek                         int64  \n",
      " 3   Operating_Airline                 object \n",
      " 4   Origin                            object \n",
      " 5   Dest                              object \n",
      " 6   DepDelay                          float64\n",
      " 7   DepTimeBlk                        object \n",
      " 8   ArrDelay                          float64\n",
      " 9   ArrTimeBlk                        object \n",
      " 10  Cancelled                         int64  \n",
      " 11  ActualElapsedTime                 float64\n",
      " 12  Distance                          int64  \n",
      " 13  Origin_HourlyAltimeterSetting     float64\n",
      " 14  Origin_HourlyDewPointTemperature  float64\n",
      " 15  Origin_HourlyDryBulbTemperature   float64\n",
      " 16  Origin_HourlyPrecipitation        float64\n",
      " 17  Origin_HourlyRelativeHumidity     float64\n",
      " 18  Origin_HourlySeaLevelPressure     float64\n",
      " 19  Origin_HourlyVisibility           float64\n",
      " 20  Origin_HourlyWindDirection        object \n",
      " 21  Origin_HourlyWindGustSpeed        float64\n",
      " 22  Origin_HourlyWindSpeed            float64\n",
      " 23  Dest_HourlyAltimeterSetting       float64\n",
      " 24  Dest_HourlyDewPointTemperature    float64\n",
      " 25  Dest_HourlyDryBulbTemperature     float64\n",
      " 26  Dest_HourlyPrecipitation          float64\n",
      " 27  Dest_HourlyRelativeHumidity       float64\n",
      " 28  Dest_HourlySeaLevelPressure       float64\n",
      " 29  Dest_HourlyVisibility             float64\n",
      " 30  Dest_HourlyWindDirection          object \n",
      " 31  Dest_HourlyWindGustSpeed          float64\n",
      " 32  Dest_HourlyWindSpeed              float64\n",
      " 33  Holiday                           object \n",
      "dtypes: float64(21), int64(5), object(8)\n",
      "memory usage: 2.5+ GB\n"
     ]
    }
   ],
   "source": [
    "data.info()"
   ]
  },
  {
   "cell_type": "code",
   "execution_count": 24,
   "metadata": {
    "execution": {
     "iopub.execute_input": "2024-11-08T22:39:12.440808Z",
     "iopub.status.busy": "2024-11-08T22:39:12.440076Z",
     "iopub.status.idle": "2024-11-08T22:39:13.967742Z",
     "shell.execute_reply": "2024-11-08T22:39:13.966729Z",
     "shell.execute_reply.started": "2024-11-08T22:39:12.440775Z"
    }
   },
   "outputs": [
    {
     "data": {
      "text/plain": [
       "After Newyear                         3789945\n",
       "Before Thanksgiving                   2428413\n",
       "Between Thanksgiving and Christmas    2353942\n",
       "Around Thanksgiving                    633570\n",
       "Around Christmas                       263182\n",
       "Around Newyear                         231832\n",
       "Name: Holiday, dtype: int64"
      ]
     },
     "execution_count": 24,
     "metadata": {},
     "output_type": "execute_result"
    }
   ],
   "source": [
    "data['Holiday'].value_counts()"
   ]
  },
  {
   "cell_type": "code",
   "execution_count": 25,
   "metadata": {
    "execution": {
     "iopub.execute_input": "2024-11-08T22:39:13.969213Z",
     "iopub.status.busy": "2024-11-08T22:39:13.968865Z",
     "iopub.status.idle": "2024-11-08T22:39:21.175907Z",
     "shell.execute_reply": "2024-11-08T22:39:21.174997Z",
     "shell.execute_reply.started": "2024-11-08T22:39:13.969179Z"
    }
   },
   "outputs": [
    {
     "name": "stdout",
     "output_type": "stream",
     "text": [
      "Year: 0.00%\n",
      "Month: 0.00%\n",
      "DayOfWeek: 0.00%\n",
      "Operating_Airline : 0.00%\n",
      "Origin: 0.00%\n",
      "Dest: 0.00%\n",
      "DepDelay: 1.92%\n",
      "DepTimeBlk: 0.00%\n",
      "ArrDelay: 1.97%\n",
      "ArrTimeBlk: 0.00%\n",
      "Cancelled: 0.00%\n",
      "ActualElapsedTime: 1.97%\n",
      "Distance: 0.00%\n",
      "Origin_HourlyAltimeterSetting: 0.00%\n",
      "Origin_HourlyDewPointTemperature: 0.00%\n",
      "Origin_HourlyDryBulbTemperature: 0.00%\n",
      "Origin_HourlyPrecipitation: 0.00%\n",
      "Origin_HourlyRelativeHumidity: 0.00%\n",
      "Origin_HourlySeaLevelPressure: 0.00%\n",
      "Origin_HourlyVisibility: 0.00%\n",
      "Origin_HourlyWindDirection: 0.00%\n",
      "Origin_HourlyWindGustSpeed: 0.00%\n",
      "Origin_HourlyWindSpeed: 0.00%\n",
      "Dest_HourlyAltimeterSetting: 0.00%\n",
      "Dest_HourlyDewPointTemperature: 0.00%\n",
      "Dest_HourlyDryBulbTemperature: 0.00%\n",
      "Dest_HourlyPrecipitation: 0.00%\n",
      "Dest_HourlyRelativeHumidity: 0.00%\n",
      "Dest_HourlySeaLevelPressure: 0.00%\n",
      "Dest_HourlyVisibility: 0.00%\n",
      "Dest_HourlyWindDirection: 0.00%\n",
      "Dest_HourlyWindGustSpeed: 0.00%\n",
      "Dest_HourlyWindSpeed: 0.00%\n",
      "Holiday: 0.00%\n"
     ]
    }
   ],
   "source": [
    "# calculate missing value ratio\n",
    "missing_ratio = data.isna().mean() * 100\n",
    "\n",
    "for column, ratio in missing_ratio.items():\n",
    "    print(f\"{column}: {ratio:.2f}%\")"
   ]
  },
  {
   "cell_type": "code",
   "execution_count": 26,
   "metadata": {
    "execution": {
     "iopub.execute_input": "2024-11-08T22:39:21.177272Z",
     "iopub.status.busy": "2024-11-08T22:39:21.176943Z",
     "iopub.status.idle": "2024-11-08T22:39:28.532726Z",
     "shell.execute_reply": "2024-11-08T22:39:28.531944Z",
     "shell.execute_reply.started": "2024-11-08T22:39:21.177239Z"
    }
   },
   "outputs": [],
   "source": [
    "data = data.drop(columns = \"Year\") \n",
    "data = data.drop(columns = \"Month\") \n",
    "\n",
    "data = data.drop(columns = \"ArrDelay\") \n",
    "data = data.drop(columns = \"DepDelay\") \n",
    "data = data.drop(columns = \"ActualElapsedTime\") \n",
    "\n",
    "# These two api could not be found\n",
    "data = data.drop(columns = \"Origin_HourlyAltimeterSetting\") \n",
    "data = data.drop(columns = \"Dest_HourlyAltimeterSetting\") "
   ]
  },
  {
   "cell_type": "code",
   "execution_count": 27,
   "metadata": {
    "execution": {
     "iopub.execute_input": "2024-11-08T22:39:28.534079Z",
     "iopub.status.busy": "2024-11-08T22:39:28.533789Z",
     "iopub.status.idle": "2024-11-08T22:39:34.678875Z",
     "shell.execute_reply": "2024-11-08T22:39:34.677892Z",
     "shell.execute_reply.started": "2024-11-08T22:39:28.534047Z"
    }
   },
   "outputs": [],
   "source": [
    "# data['Year']=data['Year'].astype('category')\n",
    "# data['Month']=data['Month'].astype('category')\n",
    "# data['DayofMonth']=data['DayofMonth'].astype('category')\n",
    "data['DayOfWeek']=data['DayOfWeek'].astype('category')\n",
    "data['Operating_Airline ']=data['Operating_Airline '].astype('category')\n",
    "data['Origin']=data['Origin'].astype('category')\n",
    "data['Dest']=data['Dest'].astype('category')\n",
    "data['DepTimeBlk'] = data['DepTimeBlk'].astype('category')\n",
    "data['ArrTimeBlk'] = data['ArrTimeBlk'].astype('category')\n",
    "data['Origin_HourlyWindDirection'] = data['Origin_HourlyWindDirection'].astype('category')\n",
    "data['Dest_HourlyWindDirection'] = data['Dest_HourlyWindDirection'].astype('category')\n",
    "data['Holiday'] = data['Holiday'].astype('category')\n",
    "# data['Cancelled'] = data['Cancelled'].astype('category')"
   ]
  },
  {
   "cell_type": "code",
   "execution_count": 28,
   "metadata": {
    "execution": {
     "iopub.execute_input": "2024-11-08T22:39:34.680451Z",
     "iopub.status.busy": "2024-11-08T22:39:34.680135Z",
     "iopub.status.idle": "2024-11-08T22:39:34.733973Z",
     "shell.execute_reply": "2024-11-08T22:39:34.733089Z",
     "shell.execute_reply.started": "2024-11-08T22:39:34.680418Z"
    }
   },
   "outputs": [
    {
     "data": {
      "text/plain": [
       "Missing    1932875\n",
       "230-270    1100904\n",
       "140-180    1078774\n",
       "0-40       1074348\n",
       "270-310    1012769\n",
       "320-350    1008084\n",
       "180-220     975937\n",
       "50-90       779495\n",
       "90-130      668184\n",
       "361          69514\n",
       "Name: Origin_HourlyWindDirection, dtype: int64"
      ]
     },
     "execution_count": 28,
     "metadata": {},
     "output_type": "execute_result"
    }
   ],
   "source": [
    "data[\"Origin_HourlyWindDirection\"].value_counts()"
   ]
  },
  {
   "cell_type": "code",
   "execution_count": 29,
   "metadata": {
    "execution": {
     "iopub.execute_input": "2024-11-08T22:39:34.736161Z",
     "iopub.status.busy": "2024-11-08T22:39:34.735152Z",
     "iopub.status.idle": "2024-11-08T22:39:35.238404Z",
     "shell.execute_reply": "2024-11-08T22:39:35.237404Z",
     "shell.execute_reply.started": "2024-11-08T22:39:34.736097Z"
    }
   },
   "outputs": [],
   "source": [
    "continuous_columns = data.select_dtypes(include=['float64', 'int64']).columns"
   ]
  },
  {
   "cell_type": "code",
   "execution_count": 30,
   "metadata": {
    "execution": {
     "iopub.execute_input": "2024-11-08T22:39:35.242025Z",
     "iopub.status.busy": "2024-11-08T22:39:35.241713Z",
     "iopub.status.idle": "2024-11-08T22:39:36.365425Z",
     "shell.execute_reply": "2024-11-08T22:39:36.364624Z",
     "shell.execute_reply.started": "2024-11-08T22:39:35.241993Z"
    }
   },
   "outputs": [],
   "source": [
    "data = data.dropna()"
   ]
  },
  {
   "cell_type": "code",
   "execution_count": 31,
   "metadata": {
    "execution": {
     "iopub.execute_input": "2024-11-08T22:39:36.366889Z",
     "iopub.status.busy": "2024-11-08T22:39:36.366581Z",
     "iopub.status.idle": "2024-11-08T22:39:36.677028Z",
     "shell.execute_reply": "2024-11-08T22:39:36.676093Z",
     "shell.execute_reply.started": "2024-11-08T22:39:36.366857Z"
    }
   },
   "outputs": [
    {
     "data": {
      "text/plain": [
       "DayOfWeek                           0\n",
       "Operating_Airline                   0\n",
       "Origin                              0\n",
       "Dest                                0\n",
       "DepTimeBlk                          0\n",
       "ArrTimeBlk                          0\n",
       "Cancelled                           0\n",
       "Distance                            0\n",
       "Origin_HourlyDewPointTemperature    0\n",
       "Origin_HourlyDryBulbTemperature     0\n",
       "Origin_HourlyPrecipitation          0\n",
       "Origin_HourlyRelativeHumidity       0\n",
       "Origin_HourlySeaLevelPressure       0\n",
       "Origin_HourlyVisibility             0\n",
       "Origin_HourlyWindDirection          0\n",
       "Origin_HourlyWindGustSpeed          0\n",
       "Origin_HourlyWindSpeed              0\n",
       "Dest_HourlyDewPointTemperature      0\n",
       "Dest_HourlyDryBulbTemperature       0\n",
       "Dest_HourlyPrecipitation            0\n",
       "Dest_HourlyRelativeHumidity         0\n",
       "Dest_HourlySeaLevelPressure         0\n",
       "Dest_HourlyVisibility               0\n",
       "Dest_HourlyWindDirection            0\n",
       "Dest_HourlyWindGustSpeed            0\n",
       "Dest_HourlyWindSpeed                0\n",
       "Holiday                             0\n",
       "dtype: int64"
      ]
     },
     "execution_count": 31,
     "metadata": {},
     "output_type": "execute_result"
    }
   ],
   "source": [
    "data.isna().sum(axis=0)"
   ]
  },
  {
   "cell_type": "markdown",
   "metadata": {},
   "source": [
    "Split train & test, One Hot encode"
   ]
  },
  {
   "cell_type": "code",
   "execution_count": 32,
   "metadata": {
    "execution": {
     "iopub.execute_input": "2024-11-08T22:39:36.678738Z",
     "iopub.status.busy": "2024-11-08T22:39:36.678361Z",
     "iopub.status.idle": "2024-11-08T22:39:37.139403Z",
     "shell.execute_reply": "2024-11-08T22:39:37.138377Z",
     "shell.execute_reply.started": "2024-11-08T22:39:36.678696Z"
    }
   },
   "outputs": [],
   "source": [
    "X = data.drop(columns=['Cancelled'])\n",
    "y = data['Cancelled']"
   ]
  },
  {
   "cell_type": "code",
   "execution_count": 33,
   "metadata": {
    "execution": {
     "iopub.execute_input": "2024-11-08T22:39:37.140799Z",
     "iopub.status.busy": "2024-11-08T22:39:37.140525Z",
     "iopub.status.idle": "2024-11-08T22:39:37.166379Z",
     "shell.execute_reply": "2024-11-08T22:39:37.165594Z",
     "shell.execute_reply.started": "2024-11-08T22:39:37.140770Z"
    }
   },
   "outputs": [],
   "source": [
    "categorical_features = X.select_dtypes(include=['category']).columns"
   ]
  },
  {
   "cell_type": "code",
   "execution_count": 34,
   "metadata": {
    "execution": {
     "iopub.execute_input": "2024-11-08T22:39:37.167717Z",
     "iopub.status.busy": "2024-11-08T22:39:37.167428Z",
     "iopub.status.idle": "2024-11-08T22:39:37.173917Z",
     "shell.execute_reply": "2024-11-08T22:39:37.172972Z",
     "shell.execute_reply.started": "2024-11-08T22:39:37.167687Z"
    }
   },
   "outputs": [
    {
     "data": {
      "text/plain": [
       "Index(['DayOfWeek', 'Operating_Airline ', 'Origin', 'Dest', 'DepTimeBlk',\n",
       "       'ArrTimeBlk', 'Origin_HourlyWindDirection', 'Dest_HourlyWindDirection',\n",
       "       'Holiday'],\n",
       "      dtype='object')"
      ]
     },
     "execution_count": 34,
     "metadata": {},
     "output_type": "execute_result"
    }
   ],
   "source": [
    "categorical_features"
   ]
  },
  {
   "cell_type": "code",
   "execution_count": 35,
   "metadata": {
    "execution": {
     "iopub.execute_input": "2024-11-08T23:06:08.627408Z",
     "iopub.status.busy": "2024-11-08T23:06:08.627015Z",
     "iopub.status.idle": "2024-11-08T23:06:43.053033Z",
     "shell.execute_reply": "2024-11-08T23:06:43.052061Z",
     "shell.execute_reply.started": "2024-11-08T23:06:08.627372Z"
    }
   },
   "outputs": [
    {
     "data": {
      "text/plain": [
       "ColumnTransformer(remainder='passthrough',\n",
       "                  transformers=[('cat', OneHotEncoder(handle_unknown='ignore'),\n",
       "                                 Index(['DayOfWeek', 'Operating_Airline ', 'Origin', 'Dest', 'DepTimeBlk',\n",
       "       'ArrTimeBlk', 'Origin_HourlyWindDirection', 'Dest_HourlyWindDirection',\n",
       "       'Holiday'],\n",
       "      dtype='object'))])"
      ]
     },
     "execution_count": 35,
     "metadata": {},
     "output_type": "execute_result"
    }
   ],
   "source": [
    "preprocessor = ColumnTransformer(\n",
    "    transformers=[\n",
    "        ('cat', OneHotEncoder(handle_unknown='ignore'), categorical_features)\n",
    "    ],\n",
    "    remainder='passthrough'  \n",
    ")\n",
    "preprocessor.fit(X) "
   ]
  },
  {
   "cell_type": "code",
   "execution_count": 36,
   "metadata": {
    "execution": {
     "iopub.execute_input": "2024-11-08T23:06:43.055725Z",
     "iopub.status.busy": "2024-11-08T23:06:43.054950Z",
     "iopub.status.idle": "2024-11-08T23:07:22.014484Z",
     "shell.execute_reply": "2024-11-08T23:07:22.013513Z",
     "shell.execute_reply.started": "2024-11-08T23:06:43.055678Z"
    }
   },
   "outputs": [
    {
     "name": "stdout",
     "output_type": "stream",
     "text": [
      "Chunk shape: (500000, 886)\n",
      "Chunk shape: (500000, 886)\n",
      "Chunk shape: (500000, 886)\n",
      "Chunk shape: (500000, 886)\n",
      "Chunk shape: (500000, 886)\n",
      "Chunk shape: (500000, 886)\n",
      "Chunk shape: (500000, 886)\n",
      "Chunk shape: (500000, 886)\n",
      "Chunk shape: (500000, 886)\n",
      "Chunk shape: (500000, 886)\n",
      "Chunk shape: (500000, 886)\n",
      "Chunk shape: (500000, 886)\n",
      "Chunk shape: (500000, 886)\n",
      "Chunk shape: (500000, 886)\n",
      "Chunk shape: (500000, 886)\n",
      "Chunk shape: (500000, 886)\n",
      "Chunk shape: (500000, 886)\n",
      "Chunk shape: (500000, 886)\n",
      "Chunk shape: (500000, 886)\n",
      "Chunk shape: (200585, 886)\n",
      "Transformed data shape: (9700585, 886)\n"
     ]
    }
   ],
   "source": [
    "chunk_size = 500000 \n",
    "\n",
    "X_transformed = csr_matrix((0, len(preprocessor.transform(X.iloc[:1]).toarray()[0])))\n",
    "\n",
    "for start_row in range(0, len(X), chunk_size):\n",
    "    end_row = min(start_row + chunk_size, len(X))\n",
    "    data_chunk = X.iloc[start_row:end_row] \n",
    "\n",
    "    X_transformed_chunk = preprocessor.transform(data_chunk)\n",
    "\n",
    "    print(f\"Chunk shape: {X_transformed_chunk.shape}\")\n",
    "\n",
    "    X_transformed = vstack([X_transformed, X_transformed_chunk])\n",
    "\n",
    "print(f\"Transformed data shape: {X_transformed.shape}\")"
   ]
  },
  {
   "cell_type": "code",
   "execution_count": 37,
   "metadata": {
    "execution": {
     "iopub.execute_input": "2024-11-08T23:07:59.267054Z",
     "iopub.status.busy": "2024-11-08T23:07:59.266705Z",
     "iopub.status.idle": "2024-11-08T23:08:02.124842Z",
     "shell.execute_reply": "2024-11-08T23:08:02.124041Z",
     "shell.execute_reply.started": "2024-11-08T23:07:59.267022Z"
    }
   },
   "outputs": [],
   "source": [
    "X_train, X_test, y_train, y_test = train_test_split(X_transformed, y, test_size=0.2, random_state=123)"
   ]
  },
  {
   "cell_type": "code",
   "execution_count": 38,
   "metadata": {
    "execution": {
     "iopub.execute_input": "2024-11-08T23:08:15.349664Z",
     "iopub.status.busy": "2024-11-08T23:08:15.349270Z",
     "iopub.status.idle": "2024-11-08T23:08:15.358078Z",
     "shell.execute_reply": "2024-11-08T23:08:15.357135Z",
     "shell.execute_reply.started": "2024-11-08T23:08:15.349626Z"
    }
   },
   "outputs": [],
   "source": [
    "categories = preprocessor.transformers_[0][1].categories_\n",
    "\n",
    "encoded_feature_names = []\n",
    "for feature, category in zip(categorical_features, categories):\n",
    "    encoded_feature_names.extend([f\"{feature}_{cat}\" for cat in category])\n",
    "\n",
    "numerical_feature_names_org = preprocessor.transformers_[1][2] if len(preprocessor.transformers_) > 1 else []\n",
    "numerical_feature_names = []\n",
    "\n",
    "for index in numerical_feature_names_org:\n",
    "    if isinstance(index, int) and index < len(data.columns):\n",
    "        numerical_feature_names.append(data.columns[index])\n",
    "    else:\n",
    "        numerical_feature_names.append(index)\n",
    "\n",
    "all_feature_names = encoded_feature_names + numerical_feature_names"
   ]
  },
  {
   "cell_type": "markdown",
   "metadata": {},
   "source": [
    "SMOTE (if necessary) (deal with training data only)"
   ]
  },
  {
   "cell_type": "code",
   "execution_count": 39,
   "metadata": {
    "execution": {
     "iopub.execute_input": "2024-11-08T23:08:22.978255Z",
     "iopub.status.busy": "2024-11-08T23:08:22.977391Z",
     "iopub.status.idle": "2024-11-08T23:16:28.453969Z",
     "shell.execute_reply": "2024-11-08T23:16:28.453069Z",
     "shell.execute_reply.started": "2024-11-08T23:08:22.978214Z"
    }
   },
   "outputs": [
    {
     "name": "stderr",
     "output_type": "stream",
     "text": [
      "  0%|          | 0/16 [00:00<?, ?it/s]"
     ]
    },
    {
     "name": "stdout",
     "output_type": "stream",
     "text": [
      "Shape of X_resampled_chunk: (980308, 888)\n",
      "X_resampled.shape: (0, 888)\n"
     ]
    },
    {
     "name": "stderr",
     "output_type": "stream",
     "text": [
      "  6%|▋         | 1/16 [00:29<07:20, 29.38s/it]"
     ]
    },
    {
     "name": "stdout",
     "output_type": "stream",
     "text": [
      "Shape of X_resampled_chunk: (980324, 888)\n",
      "X_resampled.shape: (980308, 888)\n"
     ]
    },
    {
     "name": "stderr",
     "output_type": "stream",
     "text": [
      " 12%|█▎        | 2/16 [00:58<06:53, 29.50s/it]"
     ]
    },
    {
     "name": "stdout",
     "output_type": "stream",
     "text": [
      "Shape of X_resampled_chunk: (980370, 888)\n",
      "X_resampled.shape: (1960632, 888)\n"
     ]
    },
    {
     "name": "stderr",
     "output_type": "stream",
     "text": [
      " 19%|█▉        | 3/16 [01:28<06:23, 29.51s/it]"
     ]
    },
    {
     "name": "stdout",
     "output_type": "stream",
     "text": [
      "Shape of X_resampled_chunk: (980580, 888)\n",
      "X_resampled.shape: (2941002, 888)\n"
     ]
    },
    {
     "name": "stderr",
     "output_type": "stream",
     "text": [
      " 25%|██▌       | 4/16 [01:57<05:52, 29.40s/it]"
     ]
    },
    {
     "name": "stdout",
     "output_type": "stream",
     "text": [
      "Shape of X_resampled_chunk: (980082, 888)\n",
      "X_resampled.shape: (3921582, 888)\n"
     ]
    },
    {
     "name": "stderr",
     "output_type": "stream",
     "text": [
      " 31%|███▏      | 5/16 [02:28<05:29, 29.91s/it]"
     ]
    },
    {
     "name": "stdout",
     "output_type": "stream",
     "text": [
      "Shape of X_resampled_chunk: (980060, 888)\n",
      "X_resampled.shape: (4901664, 888)\n"
     ]
    },
    {
     "name": "stderr",
     "output_type": "stream",
     "text": [
      " 38%|███▊      | 6/16 [02:59<05:02, 30.29s/it]"
     ]
    },
    {
     "name": "stdout",
     "output_type": "stream",
     "text": [
      "Shape of X_resampled_chunk: (980048, 888)\n",
      "X_resampled.shape: (5881724, 888)\n"
     ]
    },
    {
     "name": "stderr",
     "output_type": "stream",
     "text": [
      " 44%|████▍     | 7/16 [03:30<04:35, 30.56s/it]"
     ]
    },
    {
     "name": "stdout",
     "output_type": "stream",
     "text": [
      "Shape of X_resampled_chunk: (980096, 888)\n",
      "X_resampled.shape: (6861772, 888)\n"
     ]
    },
    {
     "name": "stderr",
     "output_type": "stream",
     "text": [
      " 50%|█████     | 8/16 [04:02<04:07, 30.88s/it]"
     ]
    },
    {
     "name": "stdout",
     "output_type": "stream",
     "text": [
      "Shape of X_resampled_chunk: (980410, 888)\n",
      "X_resampled.shape: (7841868, 888)\n"
     ]
    },
    {
     "name": "stderr",
     "output_type": "stream",
     "text": [
      " 56%|█████▋    | 9/16 [04:33<03:37, 31.02s/it]"
     ]
    },
    {
     "name": "stdout",
     "output_type": "stream",
     "text": [
      "Shape of X_resampled_chunk: (980140, 888)\n",
      "X_resampled.shape: (8822278, 888)\n"
     ]
    },
    {
     "name": "stderr",
     "output_type": "stream",
     "text": [
      " 62%|██████▎   | 10/16 [05:06<03:08, 31.49s/it]"
     ]
    },
    {
     "name": "stdout",
     "output_type": "stream",
     "text": [
      "Shape of X_resampled_chunk: (980466, 888)\n",
      "X_resampled.shape: (9802418, 888)\n"
     ]
    },
    {
     "name": "stderr",
     "output_type": "stream",
     "text": [
      " 69%|██████▉   | 11/16 [05:38<02:38, 31.67s/it]"
     ]
    },
    {
     "name": "stdout",
     "output_type": "stream",
     "text": [
      "Shape of X_resampled_chunk: (980240, 888)\n",
      "X_resampled.shape: (10782884, 888)\n"
     ]
    },
    {
     "name": "stderr",
     "output_type": "stream",
     "text": [
      " 75%|███████▌  | 12/16 [06:10<02:07, 31.99s/it]"
     ]
    },
    {
     "name": "stdout",
     "output_type": "stream",
     "text": [
      "Shape of X_resampled_chunk: (980532, 888)\n",
      "X_resampled.shape: (11763124, 888)\n"
     ]
    },
    {
     "name": "stderr",
     "output_type": "stream",
     "text": [
      " 81%|████████▏ | 13/16 [06:43<01:36, 32.03s/it]"
     ]
    },
    {
     "name": "stdout",
     "output_type": "stream",
     "text": [
      "Shape of X_resampled_chunk: (980310, 888)\n",
      "X_resampled.shape: (12743656, 888)\n"
     ]
    },
    {
     "name": "stderr",
     "output_type": "stream",
     "text": [
      " 88%|████████▊ | 14/16 [07:16<01:04, 32.37s/it]"
     ]
    },
    {
     "name": "stdout",
     "output_type": "stream",
     "text": [
      "Shape of X_resampled_chunk: (980648, 888)\n",
      "X_resampled.shape: (13723966, 888)\n"
     ]
    },
    {
     "name": "stderr",
     "output_type": "stream",
     "text": [
      " 94%|█████████▍| 15/16 [07:48<00:32, 32.47s/it]"
     ]
    },
    {
     "name": "stdout",
     "output_type": "stream",
     "text": [
      "Shape of X_resampled_chunk: (510600, 888)\n",
      "X_resampled.shape: (14704614, 888)\n"
     ]
    },
    {
     "name": "stderr",
     "output_type": "stream",
     "text": [
      "100%|██████████| 16/16 [08:01<00:00, 30.08s/it]"
     ]
    },
    {
     "name": "stdout",
     "output_type": "stream",
     "text": [
      "Resampled X shape: (15215214, 888)\n",
      "Resampled y shape: (15215214,)\n",
      "Class distribution after SMOTE: Counter({0.0: 7607607, 1.0: 7607607})\n"
     ]
    },
    {
     "name": "stderr",
     "output_type": "stream",
     "text": [
      "\n"
     ]
    }
   ],
   "source": [
    "smote = SMOTE(sampling_strategy=1, random_state=123)\n",
    "\n",
    "n_samples, n_features = X_train.shape\n",
    "\n",
    "X_resampled = np.empty((0, n_features))\n",
    "y_resampled = np.empty((0,))\n",
    "\n",
    "\n",
    "for start in tqdm(range(0, n_samples, chunk_size)):\n",
    "    end = min(start + chunk_size, n_samples)\n",
    "    X_chunk = X_train[start:end]\n",
    "    y_chunk = y_train[start:end]\n",
    "    \n",
    "    X_resampled_chunk, y_resampled_chunk = smote.fit_resample(X_chunk, y_chunk)\n",
    "    \n",
    "    print(f\"Shape of X_resampled_chunk: {X_resampled_chunk.shape}\")\n",
    "    print(f\"X_resampled.shape: {X_resampled.shape}\")\n",
    "\n",
    "    if isinstance(X_resampled_chunk, (csr_matrix, csc_matrix)):\n",
    "        X_resampled = vstack([X_resampled, X_resampled_chunk])\n",
    "\n",
    "    if X_resampled.shape[0] == 0:\n",
    "        X_resampled = X_resampled_chunk\n",
    "    \n",
    "    y_resampled = np.concatenate((y_resampled, y_resampled_chunk))\n",
    "\n",
    "print(\"Resampled X shape:\", X_resampled.shape)\n",
    "print(\"Resampled y shape:\", y_resampled.shape)\n",
    "\n",
    "print(\"Class distribution after SMOTE:\", Counter(y_resampled))"
   ]
  },
  {
   "cell_type": "markdown",
   "metadata": {},
   "source": [
    "regression without SMOTE"
   ]
  },
  {
   "cell_type": "code",
   "execution_count": 40,
   "metadata": {
    "execution": {
     "iopub.execute_input": "2024-11-08T19:37:30.637424Z",
     "iopub.status.busy": "2024-11-08T19:37:30.637116Z",
     "iopub.status.idle": "2024-11-08T19:37:30.641484Z",
     "shell.execute_reply": "2024-11-08T19:37:30.640644Z",
     "shell.execute_reply.started": "2024-11-08T19:37:30.637391Z"
    }
   },
   "outputs": [],
   "source": [
    "from sklearn.preprocessing import StandardScaler"
   ]
  },
  {
   "cell_type": "code",
   "execution_count": 41,
   "metadata": {
    "execution": {
     "iopub.execute_input": "2024-11-08T19:37:30.642920Z",
     "iopub.status.busy": "2024-11-08T19:37:30.642647Z",
     "iopub.status.idle": "2024-11-08T19:48:33.552669Z",
     "shell.execute_reply": "2024-11-08T19:48:33.551658Z",
     "shell.execute_reply.started": "2024-11-08T19:37:30.642890Z"
    }
   },
   "outputs": [
    {
     "name": "stderr",
     "output_type": "stream",
     "text": [
      "D:\\Study\\Conda\\lib\\site-packages\\sklearn\\linear_model\\_logistic.py:814: ConvergenceWarning: lbfgs failed to converge (status=1):\n",
      "STOP: TOTAL NO. of ITERATIONS REACHED LIMIT.\n",
      "\n",
      "Increase the number of iterations (max_iter) or scale the data as shown in:\n",
      "    https://scikit-learn.org/stable/modules/preprocessing.html\n",
      "Please also refer to the documentation for alternative solver options:\n",
      "    https://scikit-learn.org/stable/modules/linear_model.html#logistic-regression\n",
      "  n_iter_i = _check_optimize_result(\n"
     ]
    },
    {
     "data": {
      "text/plain": [
       "LogisticRegression(max_iter=500)"
      ]
     },
     "execution_count": 41,
     "metadata": {},
     "output_type": "execute_result"
    }
   ],
   "source": [
    "model = LogisticRegression(max_iter=500)\n",
    "model.fit(X_train, y_train)"
   ]
  },
  {
   "cell_type": "code",
   "execution_count": 44,
   "metadata": {},
   "outputs": [],
   "source": [
    "from joblib import dump\n",
    "import pickle"
   ]
  },
  {
   "cell_type": "code",
   "execution_count": 45,
   "metadata": {},
   "outputs": [],
   "source": [
    "dump(model, \"reg_nosmote_cancelled_model.joblib\")\n",
    "\n",
    "with open('reg_nosmote_cancelled_model.pkl', 'wb') as file:\n",
    "    pickle.dump(model, file)"
   ]
  },
  {
   "cell_type": "code",
   "execution_count": 55,
   "metadata": {},
   "outputs": [
    {
     "name": "stdout",
     "output_type": "stream",
     "text": [
      "testing acc: 0.98\n"
     ]
    }
   ],
   "source": [
    "y_pred = model.predict(X_test)\n",
    "\n",
    "accuracy = accuracy_score(y_test, y_pred)\n",
    "print(f\"testing acc: {accuracy:.2f}\")"
   ]
  },
  {
   "cell_type": "code",
   "execution_count": 56,
   "metadata": {
    "execution": {
     "iopub.execute_input": "2024-11-08T19:48:33.554077Z",
     "iopub.status.busy": "2024-11-08T19:48:33.553761Z",
     "iopub.status.idle": "2024-11-08T19:48:36.036365Z",
     "shell.execute_reply": "2024-11-08T19:48:36.035456Z",
     "shell.execute_reply.started": "2024-11-08T19:48:33.554045Z"
    }
   },
   "outputs": [
    {
     "name": "stdout",
     "output_type": "stream",
     "text": [
      "training acc: 0.98\n"
     ]
    }
   ],
   "source": [
    "y_pred_train = model.predict(X_train)\n",
    "\n",
    "accuracy_train = accuracy_score(y_train, y_pred_train)\n",
    "print(f\"training acc: {accuracy_train:.2f}\")"
   ]
  },
  {
   "cell_type": "code",
   "execution_count": 57,
   "metadata": {
    "execution": {
     "iopub.execute_input": "2024-11-08T19:48:36.038212Z",
     "iopub.status.busy": "2024-11-08T19:48:36.037749Z",
     "iopub.status.idle": "2024-11-08T19:48:40.442358Z",
     "shell.execute_reply": "2024-11-08T19:48:40.441441Z",
     "shell.execute_reply.started": "2024-11-08T19:48:36.038168Z"
    }
   },
   "outputs": [
    {
     "data": {
      "image/png": "[encoded data removed]",
      "text/plain": [
       "<Figure size 432x288 with 2 Axes>"
      ]
     },
     "metadata": {
      "needs_background": "light"
     },
     "output_type": "display_data"
    },
    {
     "name": "stdout",
     "output_type": "stream",
     "text": [
      "Training Set Confusion Matrix:\n",
      "[[7606613     994]\n",
      " [ 151535    1326]]\n"
     ]
    }
   ],
   "source": [
    "from sklearn.metrics import confusion_matrix\n",
    "import seaborn as sns\n",
    "import matplotlib.pyplot as plt\n",
    "\n",
    "cm = confusion_matrix(y_train, y_pred_train)\n",
    "\n",
    "sns.heatmap(cm, annot=True, fmt='d', cmap='Blues', xticklabels=['Class 0', 'Class 1'], yticklabels=['Class 0', 'Class 1'])\n",
    "plt.xlabel('Predicted')\n",
    "plt.ylabel('Actual')\n",
    "plt.title('Training Set Confusion Matrix')\n",
    "plt.show()\n",
    "\n",
    "print(\"Training Set Confusion Matrix:\")\n",
    "print(cm)"
   ]
  },
  {
   "cell_type": "code",
   "execution_count": 49,
   "metadata": {
    "execution": {
     "iopub.execute_input": "2024-11-08T19:48:40.445590Z",
     "iopub.status.busy": "2024-11-08T19:48:40.445050Z",
     "iopub.status.idle": "2024-11-08T19:48:55.068628Z",
     "shell.execute_reply": "2024-11-08T19:48:55.067683Z",
     "shell.execute_reply.started": "2024-11-08T19:48:40.445557Z"
    }
   },
   "outputs": [
    {
     "name": "stdout",
     "output_type": "stream",
     "text": [
      "F1-score of training: 0.01708972103543604\n",
      "ROC-AUC of training: 0.7624624533607557\n"
     ]
    }
   ],
   "source": [
    "# F1-score & ROC-AUC\n",
    "y_prob_train = model.predict_proba(X_train)[:, 1]\n",
    "f1_train = f1_score(y_train, y_pred_train)\n",
    "roc_auc_train = roc_auc_score(y_train, y_prob_train)\n",
    "\n",
    "print(f\"F1-score of training: {f1_train}\")\n",
    "print(f\"ROC-AUC of training: {roc_auc_train}\")"
   ]
  },
  {
   "cell_type": "code",
   "execution_count": 58,
   "metadata": {
    "execution": {
     "iopub.execute_input": "2024-11-08T19:48:55.070624Z",
     "iopub.status.busy": "2024-11-08T19:48:55.070031Z",
     "iopub.status.idle": "2024-11-08T19:48:55.960276Z",
     "shell.execute_reply": "2024-11-08T19:48:55.959326Z",
     "shell.execute_reply.started": "2024-11-08T19:48:55.070571Z"
    }
   },
   "outputs": [
    {
     "data": {
      "image/png": "[encoded data removed]",
      "text/plain": [
       "<Figure size 432x288 with 2 Axes>"
      ]
     },
     "metadata": {
      "needs_background": "light"
     },
     "output_type": "display_data"
    },
    {
     "name": "stdout",
     "output_type": "stream",
     "text": [
      "Testing Set Confusion Matrix:\n",
      "[[1901855     232]\n",
      " [  37700     330]]\n"
     ]
    }
   ],
   "source": [
    "cm = confusion_matrix(y_test, y_pred)\n",
    "\n",
    "sns.heatmap(cm, annot=True, fmt='d', cmap='Blues', xticklabels=['Class 0', 'Class 1'], yticklabels=['Class 0', 'Class 1'])\n",
    "plt.xlabel('Predicted')\n",
    "plt.ylabel('Actual')\n",
    "plt.title('Testing Set Confusion Matrix')\n",
    "plt.show()\n",
    "\n",
    "print(\"Testing Set Confusion Matrix:\")\n",
    "print(cm)"
   ]
  },
  {
   "cell_type": "code",
   "execution_count": 51,
   "metadata": {
    "execution": {
     "iopub.execute_input": "2024-11-08T19:48:55.961921Z",
     "iopub.status.busy": "2024-11-08T19:48:55.961544Z",
     "iopub.status.idle": "2024-11-08T19:48:58.352092Z",
     "shell.execute_reply": "2024-11-08T19:48:58.351108Z",
     "shell.execute_reply.started": "2024-11-08T19:48:55.961875Z"
    }
   },
   "outputs": [
    {
     "name": "stdout",
     "output_type": "stream",
     "text": [
      "F1-score of testing: 0.017101990049751246\n",
      "ROC-AUC of testing: 0.7622032998955101\n"
     ]
    }
   ],
   "source": [
    "# F1-score & ROC-AUC\n",
    "y_prob = model.predict_proba(X_test)[:, 1]\n",
    "f1 = f1_score(y_test, y_pred)\n",
    "roc_auc = roc_auc_score(y_test, y_prob)\n",
    "\n",
    "print(f\"F1-score of testing: {f1}\")\n",
    "print(f\"ROC-AUC of testing: {roc_auc}\")"
   ]
  },
  {
   "cell_type": "code",
   "execution_count": 52,
   "metadata": {
    "execution": {
     "iopub.execute_input": "2024-11-08T19:48:58.353635Z",
     "iopub.status.busy": "2024-11-08T19:48:58.353274Z",
     "iopub.status.idle": "2024-11-08T19:48:58.358035Z",
     "shell.execute_reply": "2024-11-08T19:48:58.357090Z",
     "shell.execute_reply.started": "2024-11-08T19:48:58.353597Z"
    }
   },
   "outputs": [],
   "source": [
    "coefficients = model.coef_.flatten()  "
   ]
  },
  {
   "cell_type": "code",
   "execution_count": 53,
   "metadata": {
    "execution": {
     "iopub.execute_input": "2024-11-08T19:48:58.359655Z",
     "iopub.status.busy": "2024-11-08T19:48:58.359297Z",
     "iopub.status.idle": "2024-11-08T19:48:58.370518Z",
     "shell.execute_reply": "2024-11-08T19:48:58.369682Z",
     "shell.execute_reply.started": "2024-11-08T19:48:58.359622Z"
    }
   },
   "outputs": [],
   "source": [
    "coef_df = pd.DataFrame({\n",
    "    'Feature': all_feature_names,\n",
    "    'Coefficient': coefficients\n",
    "})\n",
    "\n",
    "coef_df['Abs Coefficient'] = coef_df['Coefficient'].abs()\n",
    "coef_df_sorted = coef_df.sort_values(by='Abs Coefficient', ascending=False)"
   ]
  },
  {
   "cell_type": "code",
   "execution_count": 59,
   "metadata": {
    "execution": {
     "iopub.execute_input": "2024-11-08T19:48:58.371970Z",
     "iopub.status.busy": "2024-11-08T19:48:58.371611Z",
     "iopub.status.idle": "2024-11-08T19:48:58.395782Z",
     "shell.execute_reply": "2024-11-08T19:48:58.394989Z",
     "shell.execute_reply.started": "2024-11-08T19:48:58.371913Z"
    }
   },
   "outputs": [
    {
     "data": {
      "text/html": [
       "<div>\n",
       "<style scoped>\n",
       "    .dataframe tbody tr th:only-of-type {\n",
       "        vertical-align: middle;\n",
       "    }\n",
       "\n",
       "    .dataframe tbody tr th {\n",
       "        vertical-align: top;\n",
       "    }\n",
       "\n",
       "    .dataframe thead th {\n",
       "        text-align: right;\n",
       "    }\n",
       "</style>\n",
       "<table border=\"1\" class=\"dataframe\">\n",
       "  <thead>\n",
       "    <tr style=\"text-align: right;\">\n",
       "      <th></th>\n",
       "      <th>Feature</th>\n",
       "      <th>Coefficient</th>\n",
       "      <th>Abs Coefficient</th>\n",
       "    </tr>\n",
       "  </thead>\n",
       "  <tbody>\n",
       "    <tr>\n",
       "      <th>863</th>\n",
       "      <td>Holiday_After Newyear</td>\n",
       "      <td>0.431110</td>\n",
       "      <td>0.431110</td>\n",
       "    </tr>\n",
       "    <tr>\n",
       "      <th>868</th>\n",
       "      <td>Holiday_Between Thanksgiving and Christmas</td>\n",
       "      <td>-0.326827</td>\n",
       "      <td>0.326827</td>\n",
       "    </tr>\n",
       "    <tr>\n",
       "      <th>31</th>\n",
       "      <td>Operating_Airline _WN</td>\n",
       "      <td>0.323968</td>\n",
       "      <td>0.323968</td>\n",
       "    </tr>\n",
       "    <tr>\n",
       "      <th>867</th>\n",
       "      <td>Holiday_Before Thanksgiving</td>\n",
       "      <td>-0.255922</td>\n",
       "      <td>0.255922</td>\n",
       "    </tr>\n",
       "    <tr>\n",
       "      <th>15</th>\n",
       "      <td>Operating_Airline _DL</td>\n",
       "      <td>-0.247364</td>\n",
       "      <td>0.247364</td>\n",
       "    </tr>\n",
       "    <tr>\n",
       "      <th>864</th>\n",
       "      <td>Holiday_Around Christmas</td>\n",
       "      <td>0.210117</td>\n",
       "      <td>0.210117</td>\n",
       "    </tr>\n",
       "    <tr>\n",
       "      <th>862</th>\n",
       "      <td>Dest_HourlyWindDirection_Missing</td>\n",
       "      <td>0.108849</td>\n",
       "      <td>0.108849</td>\n",
       "    </tr>\n",
       "    <tr>\n",
       "      <th>866</th>\n",
       "      <td>Holiday_Around Thanksgiving</td>\n",
       "      <td>-0.104469</td>\n",
       "      <td>0.104469</td>\n",
       "    </tr>\n",
       "    <tr>\n",
       "      <th>885</th>\n",
       "      <td>Dest_HourlyWindGustSpeed</td>\n",
       "      <td>0.101252</td>\n",
       "      <td>0.101252</td>\n",
       "    </tr>\n",
       "    <tr>\n",
       "      <th>9</th>\n",
       "      <td>Operating_Airline _AA</td>\n",
       "      <td>-0.098187</td>\n",
       "      <td>0.098187</td>\n",
       "    </tr>\n",
       "    <tr>\n",
       "      <th>852</th>\n",
       "      <td>Origin_HourlyWindDirection_Missing</td>\n",
       "      <td>0.096136</td>\n",
       "      <td>0.096136</td>\n",
       "    </tr>\n",
       "    <tr>\n",
       "      <th>877</th>\n",
       "      <td>Origin_HourlyWindGustSpeed</td>\n",
       "      <td>0.094707</td>\n",
       "      <td>0.094707</td>\n",
       "    </tr>\n",
       "    <tr>\n",
       "      <th>878</th>\n",
       "      <td>Origin_HourlyWindSpeed</td>\n",
       "      <td>-0.078856</td>\n",
       "      <td>0.078856</td>\n",
       "    </tr>\n",
       "    <tr>\n",
       "      <th>285</th>\n",
       "      <td>Origin_MSP</td>\n",
       "      <td>-0.071996</td>\n",
       "      <td>0.071996</td>\n",
       "    </tr>\n",
       "    <tr>\n",
       "      <th>143</th>\n",
       "      <td>Origin_DTW</td>\n",
       "      <td>-0.070594</td>\n",
       "      <td>0.070594</td>\n",
       "    </tr>\n",
       "    <tr>\n",
       "      <th>7</th>\n",
       "      <td>Operating_Airline _9E</td>\n",
       "      <td>-0.070296</td>\n",
       "      <td>0.070296</td>\n",
       "    </tr>\n",
       "    <tr>\n",
       "      <th>883</th>\n",
       "      <td>Dest_HourlySeaLevelPressure</td>\n",
       "      <td>-0.068466</td>\n",
       "      <td>0.068466</td>\n",
       "    </tr>\n",
       "    <tr>\n",
       "      <th>528</th>\n",
       "      <td>Dest_DTW</td>\n",
       "      <td>-0.066496</td>\n",
       "      <td>0.066496</td>\n",
       "    </tr>\n",
       "    <tr>\n",
       "      <th>58</th>\n",
       "      <td>Origin_ATL</td>\n",
       "      <td>-0.065468</td>\n",
       "      <td>0.065468</td>\n",
       "    </tr>\n",
       "    <tr>\n",
       "      <th>870</th>\n",
       "      <td>Distance</td>\n",
       "      <td>-0.065223</td>\n",
       "      <td>0.065223</td>\n",
       "    </tr>\n",
       "    <tr>\n",
       "      <th>298</th>\n",
       "      <td>Origin_ORD</td>\n",
       "      <td>-0.064036</td>\n",
       "      <td>0.064036</td>\n",
       "    </tr>\n",
       "    <tr>\n",
       "      <th>0</th>\n",
       "      <td>DayOfWeek_1</td>\n",
       "      <td>0.062311</td>\n",
       "      <td>0.062311</td>\n",
       "    </tr>\n",
       "    <tr>\n",
       "      <th>443</th>\n",
       "      <td>Dest_ATL</td>\n",
       "      <td>-0.062047</td>\n",
       "      <td>0.062047</td>\n",
       "    </tr>\n",
       "    <tr>\n",
       "      <th>10</th>\n",
       "      <td>Operating_Airline _AS</td>\n",
       "      <td>0.059048</td>\n",
       "      <td>0.059048</td>\n",
       "    </tr>\n",
       "    <tr>\n",
       "      <th>875</th>\n",
       "      <td>Origin_HourlySeaLevelPressure</td>\n",
       "      <td>-0.056578</td>\n",
       "      <td>0.056578</td>\n",
       "    </tr>\n",
       "    <tr>\n",
       "      <th>670</th>\n",
       "      <td>Dest_MSP</td>\n",
       "      <td>-0.050678</td>\n",
       "      <td>0.050678</td>\n",
       "    </tr>\n",
       "    <tr>\n",
       "      <th>865</th>\n",
       "      <td>Holiday_Around Newyear</td>\n",
       "      <td>0.050058</td>\n",
       "      <td>0.050058</td>\n",
       "    </tr>\n",
       "    <tr>\n",
       "      <th>683</th>\n",
       "      <td>Dest_ORD</td>\n",
       "      <td>-0.046063</td>\n",
       "      <td>0.046063</td>\n",
       "    </tr>\n",
       "    <tr>\n",
       "      <th>850</th>\n",
       "      <td>Origin_HourlyWindDirection_50-90</td>\n",
       "      <td>-0.045590</td>\n",
       "      <td>0.045590</td>\n",
       "    </tr>\n",
       "    <tr>\n",
       "      <th>519</th>\n",
       "      <td>Dest_DEN</td>\n",
       "      <td>0.041399</td>\n",
       "      <td>0.041399</td>\n",
       "    </tr>\n",
       "    <tr>\n",
       "      <th>856</th>\n",
       "      <td>Dest_HourlyWindDirection_230-270</td>\n",
       "      <td>-0.040571</td>\n",
       "      <td>0.040571</td>\n",
       "    </tr>\n",
       "    <tr>\n",
       "      <th>134</th>\n",
       "      <td>Origin_DEN</td>\n",
       "      <td>0.039245</td>\n",
       "      <td>0.039245</td>\n",
       "    </tr>\n",
       "    <tr>\n",
       "      <th>32</th>\n",
       "      <td>Operating_Airline _YV</td>\n",
       "      <td>0.037814</td>\n",
       "      <td>0.037814</td>\n",
       "    </tr>\n",
       "    <tr>\n",
       "      <th>375</th>\n",
       "      <td>Origin_SLC</td>\n",
       "      <td>-0.037642</td>\n",
       "      <td>0.037642</td>\n",
       "    </tr>\n",
       "    <tr>\n",
       "      <th>846</th>\n",
       "      <td>Origin_HourlyWindDirection_230-270</td>\n",
       "      <td>-0.036980</td>\n",
       "      <td>0.036980</td>\n",
       "    </tr>\n",
       "    <tr>\n",
       "      <th>879</th>\n",
       "      <td>Dest_HourlyDewPointTemperature</td>\n",
       "      <td>0.036093</td>\n",
       "      <td>0.036093</td>\n",
       "    </tr>\n",
       "    <tr>\n",
       "      <th>26</th>\n",
       "      <td>Operating_Airline _OO</td>\n",
       "      <td>-0.035707</td>\n",
       "      <td>0.035707</td>\n",
       "    </tr>\n",
       "    <tr>\n",
       "      <th>23</th>\n",
       "      <td>Operating_Airline _MQ</td>\n",
       "      <td>-0.034844</td>\n",
       "      <td>0.034844</td>\n",
       "    </tr>\n",
       "    <tr>\n",
       "      <th>860</th>\n",
       "      <td>Dest_HourlyWindDirection_50-90</td>\n",
       "      <td>-0.034703</td>\n",
       "      <td>0.034703</td>\n",
       "    </tr>\n",
       "    <tr>\n",
       "      <th>760</th>\n",
       "      <td>Dest_SLC</td>\n",
       "      <td>-0.033109</td>\n",
       "      <td>0.033109</td>\n",
       "    </tr>\n",
       "  </tbody>\n",
       "</table>\n",
       "</div>"
      ],
      "text/plain": [
       "                                        Feature  Coefficient  Abs Coefficient\n",
       "863                       Holiday_After Newyear     0.431110         0.431110\n",
       "868  Holiday_Between Thanksgiving and Christmas    -0.326827         0.326827\n",
       "31                        Operating_Airline _WN     0.323968         0.323968\n",
       "867                 Holiday_Before Thanksgiving    -0.255922         0.255922\n",
       "15                        Operating_Airline _DL    -0.247364         0.247364\n",
       "864                    Holiday_Around Christmas     0.210117         0.210117\n",
       "862            Dest_HourlyWindDirection_Missing     0.108849         0.108849\n",
       "866                 Holiday_Around Thanksgiving    -0.104469         0.104469\n",
       "885                    Dest_HourlyWindGustSpeed     0.101252         0.101252\n",
       "9                         Operating_Airline _AA    -0.098187         0.098187\n",
       "852          Origin_HourlyWindDirection_Missing     0.096136         0.096136\n",
       "877                  Origin_HourlyWindGustSpeed     0.094707         0.094707\n",
       "878                      Origin_HourlyWindSpeed    -0.078856         0.078856\n",
       "285                                  Origin_MSP    -0.071996         0.071996\n",
       "143                                  Origin_DTW    -0.070594         0.070594\n",
       "7                         Operating_Airline _9E    -0.070296         0.070296\n",
       "883                 Dest_HourlySeaLevelPressure    -0.068466         0.068466\n",
       "528                                    Dest_DTW    -0.066496         0.066496\n",
       "58                                   Origin_ATL    -0.065468         0.065468\n",
       "870                                    Distance    -0.065223         0.065223\n",
       "298                                  Origin_ORD    -0.064036         0.064036\n",
       "0                                   DayOfWeek_1     0.062311         0.062311\n",
       "443                                    Dest_ATL    -0.062047         0.062047\n",
       "10                        Operating_Airline _AS     0.059048         0.059048\n",
       "875               Origin_HourlySeaLevelPressure    -0.056578         0.056578\n",
       "670                                    Dest_MSP    -0.050678         0.050678\n",
       "865                      Holiday_Around Newyear     0.050058         0.050058\n",
       "683                                    Dest_ORD    -0.046063         0.046063\n",
       "850            Origin_HourlyWindDirection_50-90    -0.045590         0.045590\n",
       "519                                    Dest_DEN     0.041399         0.041399\n",
       "856            Dest_HourlyWindDirection_230-270    -0.040571         0.040571\n",
       "134                                  Origin_DEN     0.039245         0.039245\n",
       "32                        Operating_Airline _YV     0.037814         0.037814\n",
       "375                                  Origin_SLC    -0.037642         0.037642\n",
       "846          Origin_HourlyWindDirection_230-270    -0.036980         0.036980\n",
       "879              Dest_HourlyDewPointTemperature     0.036093         0.036093\n",
       "26                        Operating_Airline _OO    -0.035707         0.035707\n",
       "23                        Operating_Airline _MQ    -0.034844         0.034844\n",
       "860              Dest_HourlyWindDirection_50-90    -0.034703         0.034703\n",
       "760                                    Dest_SLC    -0.033109         0.033109"
      ]
     },
     "execution_count": 59,
     "metadata": {},
     "output_type": "execute_result"
    }
   ],
   "source": [
    "coef_df_sorted.head(40)"
   ]
  },
  {
   "cell_type": "markdown",
   "metadata": {},
   "source": [
    "regression with SMOTE"
   ]
  },
  {
   "cell_type": "code",
   "execution_count": 40,
   "metadata": {
    "execution": {
     "iopub.execute_input": "2024-11-08T23:22:10.400718Z",
     "iopub.status.busy": "2024-11-08T23:22:10.399757Z",
     "iopub.status.idle": "2024-11-08T23:22:10.404850Z",
     "shell.execute_reply": "2024-11-08T23:22:10.403752Z",
     "shell.execute_reply.started": "2024-11-08T23:22:10.400676Z"
    }
   },
   "outputs": [],
   "source": [
    "from sklearn.preprocessing import StandardScaler"
   ]
  },
  {
   "cell_type": "code",
   "execution_count": 41,
   "metadata": {
    "execution": {
     "iopub.execute_input": "2024-11-08T23:22:11.685781Z",
     "iopub.status.busy": "2024-11-08T23:22:11.685066Z",
     "iopub.status.idle": "2024-11-08T23:48:22.713125Z",
     "shell.execute_reply": "2024-11-08T23:48:22.712082Z",
     "shell.execute_reply.started": "2024-11-08T23:22:11.685740Z"
    }
   },
   "outputs": [
    {
     "name": "stderr",
     "output_type": "stream",
     "text": [
      "/opt/conda/lib/python3.10/site-packages/sklearn/linear_model/_logistic.py:458: ConvergenceWarning: lbfgs failed to converge (status=1):\n",
      "STOP: TOTAL NO. of ITERATIONS REACHED LIMIT.\n",
      "\n",
      "Increase the number of iterations (max_iter) or scale the data as shown in:\n",
      "    https://scikit-learn.org/stable/modules/preprocessing.html\n",
      "Please also refer to the documentation for alternative solver options:\n",
      "    https://scikit-learn.org/stable/modules/linear_model.html#logistic-regression\n",
      "  n_iter_i = _check_optimize_result(\n"
     ]
    },
    {
     "name": "stdout",
     "output_type": "stream",
     "text": [
      "模型准确率: 0.69\n"
     ]
    }
   ],
   "source": [
    "model = LogisticRegression(max_iter=500)\n",
    "model.fit(X_resampled, y_resampled)\n",
    "\n",
    "y_pred = model.predict(X_test)\n",
    "\n",
    "accuracy = accuracy_score(y_test, y_pred)\n",
    "print(f\"Model accuracy: {accuracy:.2f}\")"
   ]
  },
  {
   "cell_type": "code",
   "execution_count": 42,
   "metadata": {
    "execution": {
     "iopub.execute_input": "2024-11-08T23:48:22.715270Z",
     "iopub.status.busy": "2024-11-08T23:48:22.714934Z",
     "iopub.status.idle": "2024-11-08T23:48:33.216717Z",
     "shell.execute_reply": "2024-11-08T23:48:33.215736Z",
     "shell.execute_reply.started": "2024-11-08T23:48:22.715236Z"
    }
   },
   "outputs": [
    {
     "name": "stdout",
     "output_type": "stream",
     "text": [
      "训练集模型准确率: 0.71\n"
     ]
    }
   ],
   "source": [
    "y_pred_train = model.predict(X_resampled)\n",
    "\n",
    "accuracy_train = accuracy_score(y_resampled, y_pred_train)\n",
    "print(f\"Training set model accuracy: {accuracy_train:.2f}\")"
   ]
  },
  {
   "cell_type": "code",
   "execution_count": 43,
   "metadata": {
    "execution": {
     "iopub.execute_input": "2024-11-08T23:48:33.218748Z",
     "iopub.status.busy": "2024-11-08T23:48:33.218049Z",
     "iopub.status.idle": "2024-11-08T23:48:46.590507Z",
     "shell.execute_reply": "2024-11-08T23:48:46.589268Z",
     "shell.execute_reply.started": "2024-11-08T23:48:33.218702Z"
    }
   },
   "outputs": [
    {
     "data": {
      "image/png": "[encoded data removed]",
      "text/plain": [
       "<Figure size 640x480 with 2 Axes>"
      ]
     },
     "metadata": {},
     "output_type": "display_data"
    },
    {
     "name": "stdout",
     "output_type": "stream",
     "text": [
      "训练集Confusion Matrix:\n",
      "[[5237521 2370086]\n",
      " [2107595 5500012]]\n"
     ]
    }
   ],
   "source": [
    "from sklearn.metrics import confusion_matrix\n",
    "import seaborn as sns\n",
    "import matplotlib.pyplot as plt\n",
    "\n",
    "cm = confusion_matrix(y_resampled, y_pred_train)\n",
    "\n",
    "sns.heatmap(cm, annot=True, fmt='d', cmap='Blues', xticklabels=['Class 0', 'Class 1'], yticklabels=['Class 0', 'Class 1'])\n",
    "plt.xlabel('Predicted')\n",
    "plt.ylabel('Actual')\n",
    "plt.title('Training Set Confusion Matrix')\n",
    "plt.show()\n",
    "\n",
    "print(\"Training Set Confusion Matrix:\")\n",
    "print(cm)"
   ]
  },
  {
   "cell_type": "code",
   "execution_count": 44,
   "metadata": {
    "execution": {
     "iopub.execute_input": "2024-11-08T23:48:46.593083Z",
     "iopub.status.busy": "2024-11-08T23:48:46.592769Z",
     "iopub.status.idle": "2024-11-08T23:49:04.955657Z",
     "shell.execute_reply": "2024-11-08T23:49:04.954711Z",
     "shell.execute_reply.started": "2024-11-08T23:48:46.593049Z"
    }
   },
   "outputs": [
    {
     "name": "stdout",
     "output_type": "stream",
     "text": [
      "F1-score of training: 0.7107012312225875\n",
      "ROC-AUC of training: 0.7757359099218241\n"
     ]
    }
   ],
   "source": [
    "from sklearn.metrics import f1_score, roc_auc_score\n",
    "\n",
    "# F1-score & ROC-AUC\n",
    "y_prob_train = model.predict_proba(X_resampled)[:, 1]\n",
    "f1_train = f1_score(y_resampled, y_pred_train)\n",
    "roc_auc_train = roc_auc_score(y_resampled, y_prob_train)\n",
    "\n",
    "print(f\"F1-score of training: {f1_train}\")\n",
    "print(f\"ROC-AUC of training: {roc_auc_train}\")"
   ]
  },
  {
   "cell_type": "code",
   "execution_count": 45,
   "metadata": {
    "execution": {
     "iopub.execute_input": "2024-11-08T23:49:04.957111Z",
     "iopub.status.busy": "2024-11-08T23:49:04.956831Z",
     "iopub.status.idle": "2024-11-08T23:49:05.650276Z",
     "shell.execute_reply": "2024-11-08T23:49:05.649395Z",
     "shell.execute_reply.started": "2024-11-08T23:49:04.957082Z"
    }
   },
   "outputs": [
    {
     "data": {
      "image/png": "[encoded data removed]",
      "text/plain": [
       "<Figure size 640x480 with 2 Axes>"
      ]
     },
     "metadata": {},
     "output_type": "display_data"
    },
    {
     "name": "stdout",
     "output_type": "stream",
     "text": [
      "Confusion Matrix:\n",
      "[[1310621  591466]\n",
      " [  10802   27228]]\n"
     ]
    }
   ],
   "source": [
    "from sklearn.metrics import confusion_matrix\n",
    "import seaborn as sns\n",
    "import matplotlib.pyplot as plt\n",
    "\n",
    "cm = confusion_matrix(y_test, y_pred)\n",
    "\n",
    "sns.heatmap(cm, annot=True, fmt='d', cmap='Blues', xticklabels=['Class 0', 'Class 1'], yticklabels=['Class 0', 'Class 1'])\n",
    "plt.xlabel('Predicted')\n",
    "plt.ylabel('Actual')\n",
    "plt.title('Testing Set Confusion Matrix')\n",
    "plt.show()\n",
    "\n",
    "print(\"Testing Set Confusion Matrix:\")\n",
    "print(cm)"
   ]
  },
  {
   "cell_type": "code",
   "execution_count": 46,
   "metadata": {
    "execution": {
     "iopub.execute_input": "2024-11-08T23:49:05.651600Z",
     "iopub.status.busy": "2024-11-08T23:49:05.651315Z",
     "iopub.status.idle": "2024-11-08T23:49:07.599518Z",
     "shell.execute_reply": "2024-11-08T23:49:07.598570Z",
     "shell.execute_reply.started": "2024-11-08T23:49:05.651571Z"
    }
   },
   "outputs": [
    {
     "name": "stdout",
     "output_type": "stream",
     "text": [
      "F1-score of testing: 0.08292067900670601\n",
      "ROC-AUC of testing: 0.7707321146792083\n"
     ]
    }
   ],
   "source": [
    "from sklearn.metrics import f1_score, roc_auc_score\n",
    "\n",
    "# F1-score & ROC-AUC\n",
    "y_prob = model.predict_proba(X_test)[:, 1]\n",
    "f1 = f1_score(y_test, y_pred)\n",
    "roc_auc = roc_auc_score(y_test, y_prob)\n",
    "\n",
    "print(f\"F1-score of testing: {f1}\")\n",
    "print(f\"ROC-AUC of testing: {roc_auc}\")"
   ]
  },
  {
   "cell_type": "code",
   "execution_count": 47,
   "metadata": {
    "execution": {
     "iopub.execute_input": "2024-11-08T23:49:07.601563Z",
     "iopub.status.busy": "2024-11-08T23:49:07.600834Z",
     "iopub.status.idle": "2024-11-08T23:49:07.606033Z",
     "shell.execute_reply": "2024-11-08T23:49:07.605035Z",
     "shell.execute_reply.started": "2024-11-08T23:49:07.601516Z"
    }
   },
   "outputs": [],
   "source": [
    "from scipy.sparse import csr_matrix\n",
    "\n",
    "coefficients = model.coef_.flatten()  "
   ]
  },
  {
   "cell_type": "code",
   "execution_count": 48,
   "metadata": {
    "execution": {
     "iopub.execute_input": "2024-11-08T23:49:07.607343Z",
     "iopub.status.busy": "2024-11-08T23:49:07.607040Z",
     "iopub.status.idle": "2024-11-08T23:49:07.618889Z",
     "shell.execute_reply": "2024-11-08T23:49:07.618022Z",
     "shell.execute_reply.started": "2024-11-08T23:49:07.607300Z"
    }
   },
   "outputs": [],
   "source": [
    "coef_df = pd.DataFrame({\n",
    "    'Feature': all_feature_names,\n",
    "    'Coefficient': coefficients\n",
    "})\n",
    "\n",
    "coef_df['Abs Coefficient'] = coef_df['Coefficient'].abs()\n",
    "coef_df_sorted = coef_df.sort_values(by='Abs Coefficient', ascending=False)"
   ]
  },
  {
   "cell_type": "code",
   "execution_count": 49,
   "metadata": {
    "execution": {
     "iopub.execute_input": "2024-11-08T23:49:07.620375Z",
     "iopub.status.busy": "2024-11-08T23:49:07.620068Z",
     "iopub.status.idle": "2024-11-08T23:49:07.640767Z",
     "shell.execute_reply": "2024-11-08T23:49:07.639897Z",
     "shell.execute_reply.started": "2024-11-08T23:49:07.620344Z"
    }
   },
   "outputs": [
    {
     "data": {
      "text/html": [
       "<div>\n",
       "<style scoped>\n",
       "    .dataframe tbody tr th:only-of-type {\n",
       "        vertical-align: middle;\n",
       "    }\n",
       "\n",
       "    .dataframe tbody tr th {\n",
       "        vertical-align: top;\n",
       "    }\n",
       "\n",
       "    .dataframe thead th {\n",
       "        text-align: right;\n",
       "    }\n",
       "</style>\n",
       "<table border=\"1\" class=\"dataframe\">\n",
       "  <thead>\n",
       "    <tr style=\"text-align: right;\">\n",
       "      <th></th>\n",
       "      <th>Feature</th>\n",
       "      <th>Coefficient</th>\n",
       "      <th>Abs Coefficient</th>\n",
       "    </tr>\n",
       "  </thead>\n",
       "  <tbody>\n",
       "    <tr>\n",
       "      <th>863</th>\n",
       "      <td>Holiday_After Newyear</td>\n",
       "      <td>0.832081</td>\n",
       "      <td>0.832081</td>\n",
       "    </tr>\n",
       "    <tr>\n",
       "      <th>31</th>\n",
       "      <td>Operating_Airline _WN</td>\n",
       "      <td>0.623475</td>\n",
       "      <td>0.623475</td>\n",
       "    </tr>\n",
       "    <tr>\n",
       "      <th>868</th>\n",
       "      <td>Holiday_Between Thanksgiving and Christmas</td>\n",
       "      <td>-0.616237</td>\n",
       "      <td>0.616237</td>\n",
       "    </tr>\n",
       "    <tr>\n",
       "      <th>867</th>\n",
       "      <td>Holiday_Before Thanksgiving</td>\n",
       "      <td>-0.560033</td>\n",
       "      <td>0.560033</td>\n",
       "    </tr>\n",
       "    <tr>\n",
       "      <th>864</th>\n",
       "      <td>Holiday_Around Christmas</td>\n",
       "      <td>0.442137</td>\n",
       "      <td>0.442137</td>\n",
       "    </tr>\n",
       "    <tr>\n",
       "      <th>15</th>\n",
       "      <td>Operating_Airline _DL</td>\n",
       "      <td>-0.410309</td>\n",
       "      <td>0.410309</td>\n",
       "    </tr>\n",
       "    <tr>\n",
       "      <th>862</th>\n",
       "      <td>Dest_HourlyWindDirection_Missing</td>\n",
       "      <td>0.226508</td>\n",
       "      <td>0.226508</td>\n",
       "    </tr>\n",
       "    <tr>\n",
       "      <th>9</th>\n",
       "      <td>Operating_Airline _AA</td>\n",
       "      <td>-0.212692</td>\n",
       "      <td>0.212692</td>\n",
       "    </tr>\n",
       "    <tr>\n",
       "      <th>852</th>\n",
       "      <td>Origin_HourlyWindDirection_Missing</td>\n",
       "      <td>0.193676</td>\n",
       "      <td>0.193676</td>\n",
       "    </tr>\n",
       "    <tr>\n",
       "      <th>866</th>\n",
       "      <td>Holiday_Around Thanksgiving</td>\n",
       "      <td>-0.187249</td>\n",
       "      <td>0.187249</td>\n",
       "    </tr>\n",
       "    <tr>\n",
       "      <th>0</th>\n",
       "      <td>DayOfWeek_1</td>\n",
       "      <td>0.151934</td>\n",
       "      <td>0.151934</td>\n",
       "    </tr>\n",
       "    <tr>\n",
       "      <th>10</th>\n",
       "      <td>Operating_Airline _AS</td>\n",
       "      <td>0.150012</td>\n",
       "      <td>0.150012</td>\n",
       "    </tr>\n",
       "    <tr>\n",
       "      <th>58</th>\n",
       "      <td>Origin_ATL</td>\n",
       "      <td>-0.128609</td>\n",
       "      <td>0.128609</td>\n",
       "    </tr>\n",
       "    <tr>\n",
       "      <th>7</th>\n",
       "      <td>Operating_Airline _9E</td>\n",
       "      <td>-0.118471</td>\n",
       "      <td>0.118471</td>\n",
       "    </tr>\n",
       "    <tr>\n",
       "      <th>443</th>\n",
       "      <td>Dest_ATL</td>\n",
       "      <td>-0.118238</td>\n",
       "      <td>0.118238</td>\n",
       "    </tr>\n",
       "    <tr>\n",
       "      <th>887</th>\n",
       "      <td>Dest_HourlyWindGustSpeed</td>\n",
       "      <td>0.102670</td>\n",
       "      <td>0.102670</td>\n",
       "    </tr>\n",
       "    <tr>\n",
       "      <th>878</th>\n",
       "      <td>Origin_HourlyWindGustSpeed</td>\n",
       "      <td>0.101806</td>\n",
       "      <td>0.101806</td>\n",
       "    </tr>\n",
       "    <tr>\n",
       "      <th>865</th>\n",
       "      <td>Holiday_Around Newyear</td>\n",
       "      <td>0.095905</td>\n",
       "      <td>0.095905</td>\n",
       "    </tr>\n",
       "    <tr>\n",
       "      <th>143</th>\n",
       "      <td>Origin_DTW</td>\n",
       "      <td>-0.094503</td>\n",
       "      <td>0.094503</td>\n",
       "    </tr>\n",
       "    <tr>\n",
       "      <th>298</th>\n",
       "      <td>Origin_ORD</td>\n",
       "      <td>-0.094462</td>\n",
       "      <td>0.094462</td>\n",
       "    </tr>\n",
       "    <tr>\n",
       "      <th>519</th>\n",
       "      <td>Dest_DEN</td>\n",
       "      <td>0.092701</td>\n",
       "      <td>0.092701</td>\n",
       "    </tr>\n",
       "    <tr>\n",
       "      <th>528</th>\n",
       "      <td>Dest_DTW</td>\n",
       "      <td>-0.089856</td>\n",
       "      <td>0.089856</td>\n",
       "    </tr>\n",
       "    <tr>\n",
       "      <th>134</th>\n",
       "      <td>Origin_DEN</td>\n",
       "      <td>0.087466</td>\n",
       "      <td>0.087466</td>\n",
       "    </tr>\n",
       "    <tr>\n",
       "      <th>850</th>\n",
       "      <td>Origin_HourlyWindDirection_50-90</td>\n",
       "      <td>-0.085825</td>\n",
       "      <td>0.085825</td>\n",
       "    </tr>\n",
       "    <tr>\n",
       "      <th>285</th>\n",
       "      <td>Origin_MSP</td>\n",
       "      <td>-0.085813</td>\n",
       "      <td>0.085813</td>\n",
       "    </tr>\n",
       "    <tr>\n",
       "      <th>5</th>\n",
       "      <td>DayOfWeek_6</td>\n",
       "      <td>-0.073793</td>\n",
       "      <td>0.073793</td>\n",
       "    </tr>\n",
       "    <tr>\n",
       "      <th>33</th>\n",
       "      <td>Operating_Airline _YX</td>\n",
       "      <td>-0.073412</td>\n",
       "      <td>0.073412</td>\n",
       "    </tr>\n",
       "    <tr>\n",
       "      <th>26</th>\n",
       "      <td>Operating_Airline _OO</td>\n",
       "      <td>-0.073252</td>\n",
       "      <td>0.073252</td>\n",
       "    </tr>\n",
       "    <tr>\n",
       "      <th>23</th>\n",
       "      <td>Operating_Airline _MQ</td>\n",
       "      <td>-0.072938</td>\n",
       "      <td>0.072938</td>\n",
       "    </tr>\n",
       "    <tr>\n",
       "      <th>32</th>\n",
       "      <td>Operating_Airline _YV</td>\n",
       "      <td>0.070332</td>\n",
       "      <td>0.070332</td>\n",
       "    </tr>\n",
       "  </tbody>\n",
       "</table>\n",
       "</div>"
      ],
      "text/plain": [
       "                                        Feature  Coefficient  Abs Coefficient\n",
       "863                       Holiday_After Newyear     0.832081         0.832081\n",
       "31                        Operating_Airline _WN     0.623475         0.623475\n",
       "868  Holiday_Between Thanksgiving and Christmas    -0.616237         0.616237\n",
       "867                 Holiday_Before Thanksgiving    -0.560033         0.560033\n",
       "864                    Holiday_Around Christmas     0.442137         0.442137\n",
       "15                        Operating_Airline _DL    -0.410309         0.410309\n",
       "862            Dest_HourlyWindDirection_Missing     0.226508         0.226508\n",
       "9                         Operating_Airline _AA    -0.212692         0.212692\n",
       "852          Origin_HourlyWindDirection_Missing     0.193676         0.193676\n",
       "866                 Holiday_Around Thanksgiving    -0.187249         0.187249\n",
       "0                                   DayOfWeek_1     0.151934         0.151934\n",
       "10                        Operating_Airline _AS     0.150012         0.150012\n",
       "58                                   Origin_ATL    -0.128609         0.128609\n",
       "7                         Operating_Airline _9E    -0.118471         0.118471\n",
       "443                                    Dest_ATL    -0.118238         0.118238\n",
       "887                    Dest_HourlyWindGustSpeed     0.102670         0.102670\n",
       "878                  Origin_HourlyWindGustSpeed     0.101806         0.101806\n",
       "865                      Holiday_Around Newyear     0.095905         0.095905\n",
       "143                                  Origin_DTW    -0.094503         0.094503\n",
       "298                                  Origin_ORD    -0.094462         0.094462\n",
       "519                                    Dest_DEN     0.092701         0.092701\n",
       "528                                    Dest_DTW    -0.089856         0.089856\n",
       "134                                  Origin_DEN     0.087466         0.087466\n",
       "850            Origin_HourlyWindDirection_50-90    -0.085825         0.085825\n",
       "285                                  Origin_MSP    -0.085813         0.085813\n",
       "5                                   DayOfWeek_6    -0.073793         0.073793\n",
       "33                        Operating_Airline _YX    -0.073412         0.073412\n",
       "26                        Operating_Airline _OO    -0.073252         0.073252\n",
       "23                        Operating_Airline _MQ    -0.072938         0.072938\n",
       "32                        Operating_Airline _YV     0.070332         0.070332"
      ]
     },
     "execution_count": 49,
     "metadata": {},
     "output_type": "execute_result"
    }
   ],
   "source": [
    "coef_df_sorted.head(30)"
   ]
  },
  {
   "cell_type": "markdown",
   "metadata": {},
   "source": [
    "LightGBM without SMOTE"
   ]
  },
  {
   "cell_type": "code",
   "execution_count": 35,
   "metadata": {
    "execution": {
     "iopub.execute_input": "2024-11-08T19:49:51.854080Z",
     "iopub.status.busy": "2024-11-08T19:49:51.853240Z",
     "iopub.status.idle": "2024-11-08T19:49:51.859918Z",
     "shell.execute_reply": "2024-11-08T19:49:51.859055Z",
     "shell.execute_reply.started": "2024-11-08T19:49:51.854042Z"
    }
   },
   "outputs": [],
   "source": [
    "params = {\n",
    "    'objective': 'binary',       # Binary classification problem\n",
    "    'metric': 'binary_error',    # Evaluation metric is error rate, but other metrics can also be used\n",
    "    'boosting_type': 'gbdt',     # GBDT (Gradient Boosting Decision Tree)\n",
    "    'num_leaves': 31,            # Typically, this value is around 31\n",
    "    'learning_rate': 0.05,       # Learning rate\n",
    "    'feature_fraction': 0.9,     # Feature subsampling ratio\n",
    "    'bagging_fraction': 0.8,     # Data subsampling ratio\n",
    "    'bagging_freq': 5,           # Perform data sampling every 5 iterations\n",
    "    'verbose': -1,               # Suppress logging\n",
    "    'is_unbalance': True,        # Automatically adjust class weights, equivalent to setting scale_pos_weight to 49.8 based on the formula above\n",
    "    # 'scale_pos_weight': scale_pos_weight  # Set class weights\n",
    "}\n",
    "\n",
    "\n",
    "train_data = lgb.Dataset(X_train, label=y_train, feature_name=all_feature_names)\n",
    "test_data = lgb.Dataset(X_test, label=y_test, feature_name=all_feature_names, reference=train_data)"
   ]
  },
  {
   "cell_type": "code",
   "execution_count": 36,
   "metadata": {
    "execution": {
     "iopub.execute_input": "2024-11-08T19:49:53.080489Z",
     "iopub.status.busy": "2024-11-08T19:49:53.079781Z",
     "iopub.status.idle": "2024-11-08T20:02:56.169252Z",
     "shell.execute_reply": "2024-11-08T20:02:56.168291Z",
     "shell.execute_reply.started": "2024-11-08T19:49:53.080454Z"
    }
   },
   "outputs": [],
   "source": [
    "clf = lgb.train(\n",
    "    params,\n",
    "    train_data,\n",
    "    valid_sets=[test_data],  \n",
    "    num_boost_round=1000,     \n",
    ")"
   ]
  },
  {
   "cell_type": "code",
   "execution_count": 37,
   "metadata": {
    "execution": {
     "iopub.execute_input": "2024-11-08T20:02:56.172294Z",
     "iopub.status.busy": "2024-11-08T20:02:56.170957Z",
     "iopub.status.idle": "2024-11-08T20:08:35.930164Z",
     "shell.execute_reply": "2024-11-08T20:08:35.929247Z",
     "shell.execute_reply.started": "2024-11-08T20:02:56.172253Z"
    }
   },
   "outputs": [],
   "source": [
    "y_pred_prob = clf.predict(X_test, num_iteration=clf.best_iteration)  \n",
    "y_pred_prob_train = clf.predict(X_train, num_iteration=clf.best_iteration)  "
   ]
  },
  {
   "cell_type": "code",
   "execution_count": 38,
   "metadata": {
    "execution": {
     "iopub.execute_input": "2024-11-08T20:08:35.931763Z",
     "iopub.status.busy": "2024-11-08T20:08:35.931435Z",
     "iopub.status.idle": "2024-11-08T20:10:34.264786Z",
     "shell.execute_reply": "2024-11-08T20:10:34.263783Z",
     "shell.execute_reply.started": "2024-11-08T20:08:35.931728Z"
    }
   },
   "outputs": [
    {
     "name": "stdout",
     "output_type": "stream",
     "text": [
      "Optimal threshold: 0.8484848484848485\n"
     ]
    }
   ],
   "source": [
    "import numpy as np\n",
    "from sklearn.metrics import f1_score\n",
    "\n",
    "thresholds = np.linspace(0, 1, 100)  \n",
    "f1_scores = []\n",
    "\n",
    "for t in thresholds:\n",
    "    y_pred = (y_pred_prob >= t).astype(int)\n",
    "    f1_scores.append(f1_score(y_test, y_pred))\n",
    "\n",
    "optimal_threshold = thresholds[np.argmax(f1_scores)]\n",
    "print(f\"Optimal threshold: {optimal_threshold}\")"
   ]
  },
  {
   "cell_type": "code",
   "execution_count": 39,
   "metadata": {
    "execution": {
     "iopub.execute_input": "2024-11-08T20:10:34.267267Z",
     "iopub.status.busy": "2024-11-08T20:10:34.266912Z",
     "iopub.status.idle": "2024-11-08T20:10:34.288005Z",
     "shell.execute_reply": "2024-11-08T20:10:34.287272Z",
     "shell.execute_reply.started": "2024-11-08T20:10:34.267231Z"
    }
   },
   "outputs": [],
   "source": [
    "y_pred = (y_pred_prob > optimal_threshold).astype(int)  # Convert probabilities to classes (0 or 1)\n",
    "y_pred_train = (y_pred_prob_train > optimal_threshold).astype(int)  # Convert probabilities to classes (0 or 1)"
   ]
  },
  {
   "cell_type": "code",
   "execution_count": 40,
   "metadata": {
    "execution": {
     "iopub.execute_input": "2024-11-08T20:10:34.289235Z",
     "iopub.status.busy": "2024-11-08T20:10:34.288973Z",
     "iopub.status.idle": "2024-11-08T20:10:44.179951Z",
     "shell.execute_reply": "2024-11-08T20:10:44.179005Z",
     "shell.execute_reply.started": "2024-11-08T20:10:34.289207Z"
    }
   },
   "outputs": [
    {
     "name": "stdout",
     "output_type": "stream",
     "text": [
      "Training set f1-score: 0.33440233858885204\n",
      "Testing set f1-score: 0.3288583184916784\n"
     ]
    }
   ],
   "source": [
    "# F1-score\n",
    "f1_train = f1_score(y_train, y_pred_train)\n",
    "f1_test = f1_score(y_test, y_pred)\n",
    "\n",
    "print(f\"Training set f1-score: {f1_train}\")\n",
    "print(f\"Testing set f1-score: {f1_test}\")"
   ]
  },
  {
   "cell_type": "code",
   "execution_count": 41,
   "metadata": {
    "execution": {
     "iopub.execute_input": "2024-11-08T20:10:44.182109Z",
     "iopub.status.busy": "2024-11-08T20:10:44.181322Z",
     "iopub.status.idle": "2024-11-08T20:10:50.485695Z",
     "shell.execute_reply": "2024-11-08T20:10:50.484623Z",
     "shell.execute_reply.started": "2024-11-08T20:10:44.182042Z"
    }
   },
   "outputs": [
    {
     "name": "stdout",
     "output_type": "stream",
     "text": [
      "Training set ROC-AUC: 0.8938475020479205\n",
      "Testing set ROC-AUC: 0.8847126864777792\n"
     ]
    }
   ],
   "source": [
    "# ROC-AUC\n",
    "roc_auc_train = roc_auc_score(y_train, y_pred_prob_train)\n",
    "roc_auc = roc_auc_score(y_test, y_pred_prob)\n",
    "\n",
    "print(f\"Training set ROC-AUC: {roc_auc_train}\")\n",
    "print(f\"Testing set ROC-AUC: {roc_auc}\")"
   ]
  },
  {
   "cell_type": "code",
   "execution_count": 42,
   "metadata": {
    "execution": {
     "iopub.execute_input": "2024-11-08T20:10:50.487108Z",
     "iopub.status.busy": "2024-11-08T20:10:50.486808Z",
     "iopub.status.idle": "2024-11-08T20:10:52.745259Z",
     "shell.execute_reply": "2024-11-08T20:10:52.744179Z",
     "shell.execute_reply.started": "2024-11-08T20:10:50.487076Z"
    }
   },
   "outputs": [
    {
     "name": "stdout",
     "output_type": "stream",
     "text": [
      "Training set accuracy: 0.9718922879393356\n",
      "Testing set accuracy: 0.97183623461884\n"
     ]
    }
   ],
   "source": [
    "from sklearn.metrics import accuracy_score\n",
    "\n",
    "# acc\n",
    "acc_train = accuracy_score(y_train, y_pred_train)\n",
    "acc_test = accuracy_score(y_test, y_pred)\n",
    "\n",
    "print(f\"Training set accuracy: {acc_train}\")\n",
    "print(f\"Testing set accuracy: {acc_test}\")"
   ]
  },
  {
   "cell_type": "code",
   "execution_count": 43,
   "metadata": {
    "execution": {
     "iopub.execute_input": "2024-11-08T20:10:52.746579Z",
     "iopub.status.busy": "2024-11-08T20:10:52.746302Z",
     "iopub.status.idle": "2024-11-08T20:10:56.928197Z",
     "shell.execute_reply": "2024-11-08T20:10:56.927278Z",
     "shell.execute_reply.started": "2024-11-08T20:10:52.746549Z"
    }
   },
   "outputs": [
    {
     "data": {
      "image/png": "[encoded data removed]",
      "text/plain": [
       "<Figure size 640x480 with 2 Axes>"
      ]
     },
     "metadata": {},
     "output_type": "display_data"
    },
    {
     "name": "stdout",
     "output_type": "stream",
     "text": [
      "Training set Confusion Matrix:\n",
      "[[7487544  120063]\n",
      " [  98066   54795]]\n"
     ]
    }
   ],
   "source": [
    "cm = confusion_matrix(y_train, y_pred_train)\n",
    "\n",
    "sns.heatmap(cm, annot=True, fmt='d', cmap='Blues', xticklabels=['Class 0', 'Class 1'], yticklabels=['Class 0', 'Class 1'])\n",
    "plt.xlabel('Predicted')\n",
    "plt.ylabel('Actual')\n",
    "plt.title('Training set Confusion Matrix')\n",
    "plt.show()\n",
    "\n",
    "print(\"Training set Confusion Matrix:\")\n",
    "print(cm)"
   ]
  },
  {
   "cell_type": "code",
   "execution_count": 44,
   "metadata": {
    "execution": {
     "iopub.execute_input": "2024-11-08T20:10:56.929630Z",
     "iopub.status.busy": "2024-11-08T20:10:56.929319Z",
     "iopub.status.idle": "2024-11-08T20:10:57.772222Z",
     "shell.execute_reply": "2024-11-08T20:10:57.771258Z",
     "shell.execute_reply.started": "2024-11-08T20:10:56.929597Z"
    }
   },
   "outputs": [
    {
     "data": {
      "image/png": "[encoded data removed]",
      "text/plain": [
       "<Figure size 640x480 with 2 Axes>"
      ]
     },
     "metadata": {},
     "output_type": "display_data"
    },
    {
     "name": "stdout",
     "output_type": "stream",
     "text": [
      "Testing set Confusion Matrix:\n",
      "[[1872089   29998]\n",
      " [  24643   13387]]\n"
     ]
    }
   ],
   "source": [
    "cm = confusion_matrix(y_test, y_pred)\n",
    "\n",
    "sns.heatmap(cm, annot=True, fmt='d', cmap='Blues', xticklabels=['Class 0', 'Class 1'], yticklabels=['Class 0', 'Class 1'])\n",
    "plt.xlabel('Predicted')\n",
    "plt.ylabel('Actual')\n",
    "plt.title('Testing set Confusion Matrix')\n",
    "plt.show()\n",
    "\n",
    "print(\"Testing set Confusion Matrix:\")\n",
    "print(cm)"
   ]
  },
  {
   "cell_type": "code",
   "execution_count": 48,
   "metadata": {
    "execution": {
     "iopub.execute_input": "2024-11-08T20:13:00.999083Z",
     "iopub.status.busy": "2024-11-08T20:13:00.998714Z",
     "iopub.status.idle": "2024-11-08T20:13:01.583411Z",
     "shell.execute_reply": "2024-11-08T20:13:01.582550Z",
     "shell.execute_reply.started": "2024-11-08T20:13:00.999049Z"
    }
   },
   "outputs": [
    {
     "data": {
      "image/png": "[encoded data removed]",
      "text/plain": [
       "<Figure size 1000x600 with 1 Axes>"
      ]
     },
     "metadata": {},
     "output_type": "display_data"
    }
   ],
   "source": [
    "lgb.plot_importance(clf, max_num_features=30, importance_type='split', figsize=(10, 6))\n",
    "plt.show()"
   ]
  },
  {
   "cell_type": "markdown",
   "metadata": {},
   "source": [
    "LightGBM without onehot, without SMOTE"
   ]
  },
  {
   "cell_type": "code",
   "execution_count": 18,
   "metadata": {
    "execution": {
     "iopub.execute_input": "2024-11-08T22:39:37.175292Z",
     "iopub.status.busy": "2024-11-08T22:39:37.174986Z",
     "iopub.status.idle": "2024-11-08T22:39:41.192356Z",
     "shell.execute_reply": "2024-11-08T22:39:41.191398Z",
     "shell.execute_reply.started": "2024-11-08T22:39:37.175250Z"
    }
   },
   "outputs": [],
   "source": [
    "X_train1, X_test1, y_train1, y_test1 = train_test_split(X, y, test_size=0.2, random_state=123)"
   ]
  },
  {
   "cell_type": "code",
   "execution_count": 19,
   "metadata": {
    "execution": {
     "iopub.execute_input": "2024-11-08T22:42:42.224049Z",
     "iopub.status.busy": "2024-11-08T22:42:42.223317Z",
     "iopub.status.idle": "2024-11-08T22:42:42.230203Z",
     "shell.execute_reply": "2024-11-08T22:42:42.229362Z",
     "shell.execute_reply.started": "2024-11-08T22:42:42.224013Z"
    }
   },
   "outputs": [],
   "source": [
    "params = {\n",
    "    'objective': 'binary',       # Binary classification problem\n",
    "    'metric': 'binary_error',    # Evaluation metric is error rate, but other metrics can also be used\n",
    "    'boosting_type': 'gbdt',     # GBDT (Gradient Boosting Decision Tree)\n",
    "    'num_leaves': 31,            # Typically, this value is around 31\n",
    "    'learning_rate': 0.05,       # Learning rate\n",
    "    'feature_fraction': 0.9,     # Feature subsampling ratio\n",
    "    'bagging_fraction': 0.8,     # Data subsampling ratio\n",
    "    'bagging_freq': 5,           # Perform data sampling every 5 iterations\n",
    "    'verbose': -1,               # Suppress logging\n",
    "    'is_unbalance': True,        # Automatically adjust class weights, equivalent to setting scale_pos_weight to 49.8 based on the formula above\n",
    "    # 'scale_pos_weight': scale_pos_weight  # Set class weights\n",
    "}\n",
    "\n",
    "\n",
    "train_data1 = lgb.Dataset(X_train1, label=y_train1, feature_name=X.columns.tolist())\n",
    "test_data1 = lgb.Dataset(X_test1, label=y_test1, feature_name=X.columns.tolist(), reference=train_data1)"
   ]
  },
  {
   "cell_type": "code",
   "execution_count": 20,
   "metadata": {
    "execution": {
     "iopub.execute_input": "2024-11-08T22:42:43.104039Z",
     "iopub.status.busy": "2024-11-08T22:42:43.103234Z",
     "iopub.status.idle": "2024-11-08T22:54:43.697834Z",
     "shell.execute_reply": "2024-11-08T22:54:43.696890Z",
     "shell.execute_reply.started": "2024-11-08T22:42:43.104001Z"
    }
   },
   "outputs": [],
   "source": [
    "clf1 = lgb.train(\n",
    "    params,\n",
    "    train_data1,\n",
    "    valid_sets=[test_data1],  \n",
    "    num_boost_round=1000   \n",
    ")"
   ]
  },
  {
   "cell_type": "code",
   "execution_count": 21,
   "metadata": {
    "execution": {
     "iopub.execute_input": "2024-11-08T22:54:43.704816Z",
     "iopub.status.busy": "2024-11-08T22:54:43.702709Z",
     "iopub.status.idle": "2024-11-08T23:00:51.829997Z",
     "shell.execute_reply": "2024-11-08T23:00:51.828921Z",
     "shell.execute_reply.started": "2024-11-08T22:54:43.704773Z"
    }
   },
   "outputs": [],
   "source": [
    "y_pred_prob1 = clf1.predict(X_test1, num_iteration=clf1.best_iteration)  \n",
    "y_pred_prob_train1 = clf1.predict(X_train1, num_iteration=clf1.best_iteration)  "
   ]
  },
  {
   "cell_type": "code",
   "execution_count": 22,
   "metadata": {
    "execution": {
     "iopub.execute_input": "2024-11-08T23:00:51.832016Z",
     "iopub.status.busy": "2024-11-08T23:00:51.831630Z",
     "iopub.status.idle": "2024-11-08T23:02:50.060750Z",
     "shell.execute_reply": "2024-11-08T23:02:50.059703Z",
     "shell.execute_reply.started": "2024-11-08T23:00:51.831973Z"
    }
   },
   "outputs": [
    {
     "name": "stdout",
     "output_type": "stream",
     "text": [
      "Optimal threshold: 0.8686868686868687\n"
     ]
    }
   ],
   "source": [
    "import numpy as np\n",
    "from sklearn.metrics import f1_score\n",
    "\n",
    "thresholds = np.linspace(0, 1, 100) \n",
    "f1_scores = []\n",
    "\n",
    "for t in thresholds:\n",
    "    y_pred1 = (y_pred_prob1 >= t).astype(int)\n",
    "    f1_scores.append(f1_score(y_test1, y_pred1))\n",
    "\n",
    "optimal_threshold1 = thresholds[np.argmax(f1_scores)]\n",
    "print(f\"Optimal threshold: {optimal_threshold1}\")"
   ]
  },
  {
   "cell_type": "code",
   "execution_count": 23,
   "metadata": {
    "execution": {
     "iopub.execute_input": "2024-11-08T23:02:50.064452Z",
     "iopub.status.busy": "2024-11-08T23:02:50.063719Z",
     "iopub.status.idle": "2024-11-08T23:02:50.084638Z",
     "shell.execute_reply": "2024-11-08T23:02:50.083880Z",
     "shell.execute_reply.started": "2024-11-08T23:02:50.064407Z"
    }
   },
   "outputs": [],
   "source": [
    "y_pred1 = (y_pred_prob1 > optimal_threshold1).astype(int)  # Convert probabilities to classes (0 or 1)\n",
    "y_pred_train1 = (y_pred_prob_train1 > optimal_threshold1).astype(int)  # Convert probabilities to classes (0 or 1)"
   ]
  },
  {
   "cell_type": "code",
   "execution_count": 24,
   "metadata": {
    "execution": {
     "iopub.execute_input": "2024-11-08T23:02:50.086109Z",
     "iopub.status.busy": "2024-11-08T23:02:50.085758Z",
     "iopub.status.idle": "2024-11-08T23:03:00.066872Z",
     "shell.execute_reply": "2024-11-08T23:03:00.065893Z",
     "shell.execute_reply.started": "2024-11-08T23:02:50.086067Z"
    }
   },
   "outputs": [
    {
     "name": "stdout",
     "output_type": "stream",
     "text": [
      "Training set f1-score: 0.37087100880588986\n",
      "Testing set f1-score: 0.3483395029786782\n"
     ]
    }
   ],
   "source": [
    "# F1-score\n",
    "f1_train1 = f1_score(y_train1, y_pred_train1)\n",
    "f1_test1 = f1_score(y_test1, y_pred1)\n",
    "\n",
    "print(f\"Training set f1-score: {f1_train1}\")\n",
    "print(f\"Testing set f1-score: {f1_test1}\")"
   ]
  },
  {
   "cell_type": "code",
   "execution_count": 25,
   "metadata": {
    "execution": {
     "iopub.execute_input": "2024-11-08T23:03:00.068556Z",
     "iopub.status.busy": "2024-11-08T23:03:00.068250Z",
     "iopub.status.idle": "2024-11-08T23:03:06.146829Z",
     "shell.execute_reply": "2024-11-08T23:03:06.145885Z",
     "shell.execute_reply.started": "2024-11-08T23:03:00.068524Z"
    }
   },
   "outputs": [
    {
     "name": "stdout",
     "output_type": "stream",
     "text": [
      "Training set ROC-AUC: 0.9181846187155716\n",
      "Testing set ROC-AUC: 0.8918923456171545\n"
     ]
    }
   ],
   "source": [
    "# ROC-AUC\n",
    "roc_auc_train1 = roc_auc_score(y_train1, y_pred_prob_train1)\n",
    "roc_auc1 = roc_auc_score(y_test1, y_pred_prob1)\n",
    "\n",
    "print(f\"Training set ROC-AUC: {roc_auc_train1}\")\n",
    "print(f\"Testing set ROC-AUC: {roc_auc1}\")"
   ]
  },
  {
   "cell_type": "code",
   "execution_count": 26,
   "metadata": {
    "execution": {
     "iopub.execute_input": "2024-11-08T23:03:06.148261Z",
     "iopub.status.busy": "2024-11-08T23:03:06.147943Z",
     "iopub.status.idle": "2024-11-08T23:03:08.515915Z",
     "shell.execute_reply": "2024-11-08T23:03:08.514999Z",
     "shell.execute_reply.started": "2024-11-08T23:03:06.148228Z"
    }
   },
   "outputs": [
    {
     "name": "stdout",
     "output_type": "stream",
     "text": [
      "Training set accuracy: 0.9752906654598666\n",
      "Testing set accuracy: 0.9746845164492657\n"
     ]
    }
   ],
   "source": [
    "from sklearn.metrics import accuracy_score\n",
    "\n",
    "# acc\n",
    "acc_train1 = accuracy_score(y_train1, y_pred_train1)\n",
    "acc_test1 = accuracy_score(y_test1, y_pred1)\n",
    "\n",
    "print(f\"Training set accuracy: {acc_train1}\")\n",
    "print(f\"Testing set accuracy: {acc_test1}\")"
   ]
  },
  {
   "cell_type": "code",
   "execution_count": 28,
   "metadata": {
    "execution": {
     "iopub.execute_input": "2024-11-08T23:03:52.552280Z",
     "iopub.status.busy": "2024-11-08T23:03:52.551571Z",
     "iopub.status.idle": "2024-11-08T23:03:56.852094Z",
     "shell.execute_reply": "2024-11-08T23:03:56.851137Z",
     "shell.execute_reply.started": "2024-11-08T23:03:52.552239Z"
    }
   },
   "outputs": [
    {
     "data": {
      "image/png": "[encoded data removed]",
      "text/plain": [
       "<Figure size 640x480 with 2 Axes>"
      ]
     },
     "metadata": {},
     "output_type": "display_data"
    },
    {
     "name": "stdout",
     "output_type": "stream",
     "text": [
      "Training set Confusion Matrix:\n",
      "[[7512192   95415]\n",
      " [  96341   56520]]\n"
     ]
    }
   ],
   "source": [
    "from sklearn.metrics import confusion_matrix\n",
    "import seaborn as sns\n",
    "import matplotlib.pyplot as plt\n",
    "\n",
    "cm = confusion_matrix(y_train1, y_pred_train1)\n",
    "\n",
    "sns.heatmap(cm, annot=True, fmt='d', cmap='Blues', xticklabels=['Class 0', 'Class 1'], yticklabels=['Class 0', 'Class 1'])\n",
    "plt.xlabel('Predicted')\n",
    "plt.ylabel('Actual')\n",
    "plt.title('Training set Confusion Matrix')\n",
    "plt.show()\n",
    "\n",
    "print(\"Training set Confusion Matrix:\")\n",
    "print(cm)"
   ]
  },
  {
   "cell_type": "code",
   "execution_count": 29,
   "metadata": {
    "execution": {
     "iopub.execute_input": "2024-11-08T23:04:00.177372Z",
     "iopub.status.busy": "2024-11-08T23:04:00.176271Z",
     "iopub.status.idle": "2024-11-08T23:04:01.075129Z",
     "shell.execute_reply": "2024-11-08T23:04:01.074315Z",
     "shell.execute_reply.started": "2024-11-08T23:04:00.177328Z"
    }
   },
   "outputs": [
    {
     "data": {
      "image/png": "[encoded data removed]",
      "text/plain": [
       "<Figure size 640x480 with 2 Axes>"
      ]
     },
     "metadata": {},
     "output_type": "display_data"
    },
    {
     "name": "stdout",
     "output_type": "stream",
     "text": [
      "Testing set Confusion Matrix:\n",
      "[[1877875   24212]\n",
      " [  24903   13127]]\n"
     ]
    }
   ],
   "source": [
    "cm = confusion_matrix(y_test1, y_pred1)\n",
    "\n",
    "sns.heatmap(cm, annot=True, fmt='d', cmap='Blues', xticklabels=['Class 0', 'Class 1'], yticklabels=['Class 0', 'Class 1'])\n",
    "plt.xlabel('Predicted')\n",
    "plt.ylabel('Actual')\n",
    "plt.title('Testing set Confusion Matrix')\n",
    "plt.show()\n",
    "\n",
    "print(\"Testing set Confusion Matrix:\")\n",
    "print(cm)"
   ]
  },
  {
   "cell_type": "code",
   "execution_count": 30,
   "metadata": {
    "execution": {
     "iopub.execute_input": "2024-11-08T23:04:03.331040Z",
     "iopub.status.busy": "2024-11-08T23:04:03.330397Z",
     "iopub.status.idle": "2024-11-08T23:04:03.880864Z",
     "shell.execute_reply": "2024-11-08T23:04:03.879960Z",
     "shell.execute_reply.started": "2024-11-08T23:04:03.331003Z"
    }
   },
   "outputs": [
    {
     "data": {
      "image/png": "[encoded data removed]",
      "text/plain": [
       "<Figure size 1000x600 with 1 Axes>"
      ]
     },
     "metadata": {},
     "output_type": "display_data"
    }
   ],
   "source": [
    "lgb.plot_importance(clf1, max_num_features=30, importance_type='split', figsize=(10, 6))\n",
    "plt.show()"
   ]
  },
  {
   "cell_type": "code",
   "execution_count": null,
   "metadata": {},
   "outputs": [],
   "source": []
  },
  {
   "cell_type": "code",
   "execution_count": null,
   "metadata": {},
   "outputs": [],
   "source": []
  },
  {
   "cell_type": "markdown",
   "metadata": {},
   "source": [
    "LightGBM with SMOTE"
   ]
  },
  {
   "cell_type": "code",
   "execution_count": 51,
   "metadata": {
    "execution": {
     "iopub.execute_input": "2024-11-08T23:51:39.438812Z",
     "iopub.status.busy": "2024-11-08T23:51:39.438039Z",
     "iopub.status.idle": "2024-11-08T23:51:39.445168Z",
     "shell.execute_reply": "2024-11-08T23:51:39.444096Z",
     "shell.execute_reply.started": "2024-11-08T23:51:39.438770Z"
    }
   },
   "outputs": [],
   "source": [
    "params = {\n",
    "    'objective': 'binary',       # Binary classification problem\n",
    "    'metric': 'binary_error',    # Evaluation metric is error rate, but other metrics can also be used\n",
    "    'boosting_type': 'gbdt',     # GBDT (Gradient Boosting Decision Tree)\n",
    "    'num_leaves': 31,            # Typically, this value is around 31\n",
    "    'learning_rate': 0.05,       # Learning rate\n",
    "    'feature_fraction': 0.9,     # Feature subsampling ratio\n",
    "    'bagging_fraction': 0.8,     # Data subsampling ratio\n",
    "    'bagging_freq': 5,           # Perform data sampling every 5 iterations\n",
    "    'verbose': -1,               # Suppress logging\n",
    "    'is_unbalance': True,        # Automatically adjust class weights, equivalent to setting scale_pos_weight to 49.8 based on the formula above\n",
    "    # 'scale_pos_weight': scale_pos_weight  # Set class weights\n",
    "}\n",
    "\n",
    "\n",
    "train_data2 = lgb.Dataset(X_resampled, label=y_resampled, feature_name=all_feature_names)\n",
    "test_data2 = lgb.Dataset(X_test, label=y_test, feature_name=all_feature_names, reference=train_data2)"
   ]
  },
  {
   "cell_type": "code",
   "execution_count": 52,
   "metadata": {
    "execution": {
     "iopub.execute_input": "2024-11-08T23:51:43.090192Z",
     "iopub.status.busy": "2024-11-08T23:51:43.089218Z",
     "iopub.status.idle": "2024-11-09T00:58:30.437654Z",
     "shell.execute_reply": "2024-11-09T00:58:30.436565Z",
     "shell.execute_reply.started": "2024-11-08T23:51:43.090139Z"
    }
   },
   "outputs": [],
   "source": [
    "clf2 = lgb.train(\n",
    "    params,\n",
    "    train_data2,\n",
    "    valid_sets=[test_data2],  \n",
    "    num_boost_round=1000\n",
    ")"
   ]
  },
  {
   "cell_type": "code",
   "execution_count": null,
   "metadata": {
    "execution": {
     "iopub.execute_input": "2024-11-09T00:58:30.440166Z",
     "iopub.status.busy": "2024-11-09T00:58:30.439765Z"
    }
   },
   "outputs": [
    {
     "name": "stderr",
     "output_type": "stream",
     "text": [
      "/opt/conda/lib/python3.10/site-packages/lightgbm/basic.py:1192: UserWarning: Converting data to scipy sparse matrix.\n",
      "  _log_warning('Converting data to scipy sparse matrix.')\n"
     ]
    }
   ],
   "source": [
    "y_pred_prob2 = clf2.predict(X_test, num_iteration=clf2.best_iteration) \n",
    "y_pred_prob_train2 = clf2.predict(X_resampled, num_iteration=clf2.best_iteration)  "
   ]
  },
  {
   "cell_type": "code",
   "execution_count": null,
   "metadata": {},
   "outputs": [],
   "source": [
    "thresholds = np.linspace(0, 1, 100)  \n",
    "f1_scores2 = []\n",
    "\n",
    "for t in thresholds:\n",
    "    y_pred2 = (y_pred_prob2 >= t).astype(int)\n",
    "    f1_scores2.append(f1_score(y_test, y_pred2))\n",
    "\n",
    "optimal_threshold2 = thresholds[np.argmax(f1_scores2)]\n",
    "print(f\"Optimal threshold: {optimal_threshold2}\")"
   ]
  },
  {
   "cell_type": "code",
   "execution_count": null,
   "metadata": {},
   "outputs": [],
   "source": [
    "y_pred2 = (y_pred_prob2 > optimal_threshold2).astype(int)  \n",
    "y_pred_train2 = (y_pred_prob_train2 > optimal_threshold2).astype(int)  "
   ]
  },
  {
   "cell_type": "code",
   "execution_count": null,
   "metadata": {},
   "outputs": [],
   "source": [
    "# F1-score\n",
    "f1_train2 = f1_score(y_resampled, y_pred_train2)\n",
    "f1_test2 = f1_score(y_test, y_pred2)\n",
    "\n",
    "print(f\"Training set f1-score: {f1_train2}\")\n",
    "print(f\"Testing set f1-score: {f1_test2}\")"
   ]
  },
  {
   "cell_type": "code",
   "execution_count": null,
   "metadata": {},
   "outputs": [],
   "source": [
    "# ROC-AUC\n",
    "roc_auc_train2 = roc_auc_score(y_resampled, y_pred_prob_train2)\n",
    "roc_auc2 = roc_auc_score(y_test, y_pred_prob2)\n",
    "\n",
    "print(f\"Training set ROC-AUC: {roc_auc_train2}\")\n",
    "print(f\"Testing set ROC-AUC: {roc_auc2}\")"
   ]
  },
  {
   "cell_type": "code",
   "execution_count": null,
   "metadata": {},
   "outputs": [],
   "source": [
    "# acc\n",
    "acc_train2 = accuracy_score(y_resampled, y_pred_train2)\n",
    "acc_test2 = accuracy_score(y_test, y_pred2)\n",
    "\n",
    "print(f\"Training set accuracy: {acc_train2}\")\n",
    "print(f\"Testing set accuracy: {acc_test2}\")"
   ]
  },
  {
   "cell_type": "code",
   "execution_count": null,
   "metadata": {},
   "outputs": [],
   "source": [
    "cm = confusion_matrix(y_resampled, y_pred_train2)\n",
    "\n",
    "sns.heatmap(cm, annot=True, fmt='d', cmap='Blues', xticklabels=['Class 0', 'Class 1'], yticklabels=['Class 0', 'Class 1'])\n",
    "plt.xlabel('Predicted')\n",
    "plt.ylabel('Actual')\n",
    "plt.title('Training set Confusion Matrix')\n",
    "plt.show()\n",
    "\n",
    "print(\"Training set Confusion Matrix:\")\n",
    "print(cm)"
   ]
  },
  {
   "cell_type": "code",
   "execution_count": null,
   "metadata": {},
   "outputs": [],
   "source": [
    "cm = confusion_matrix(y_test, y_pred2)\n",
    "\n",
    "sns.heatmap(cm, annot=True, fmt='d', cmap='Blues', xticklabels=['Class 0', 'Class 1'], yticklabels=['Class 0', 'Class 1'])\n",
    "plt.xlabel('Predicted')\n",
    "plt.ylabel('Actual')\n",
    "plt.title('Testing set Confusion Matrix')\n",
    "plt.show()\n",
    "\n",
    "print(\"Testing set Confusion Matrix:\")\n",
    "print(cm)"
   ]
  },
  {
   "cell_type": "code",
   "execution_count": null,
   "metadata": {},
   "outputs": [],
   "source": [
    "lgb.plot_importance(clf2, max_num_features=30, importance_type='split', figsize=(10, 6))\n",
    "plt.show()\n"
   ]
  },
  {
   "cell_type": "code",
   "execution_count": null,
   "metadata": {},
   "outputs": [],
   "source": []
  },
  {
   "cell_type": "code",
   "execution_count": null,
   "metadata": {},
   "outputs": [],
   "source": []
  }
 ],
 "metadata": {
  "kaggle": {
   "accelerator": "gpu",
   "dataSources": [
    {
     "datasetId": 6036544,
     "sourceId": 9840234,
     "sourceType": "datasetVersion"
    }
   ],
   "dockerImageVersionId": 30786,
   "isGpuEnabled": true,
   "isInternetEnabled": true,
   "language": "python",
   "sourceType": "notebook"
  },
  "kernelspec": {
   "display_name": "Python 3 (ipykernel)",
   "language": "python",
   "name": "python3"
  },
  "language_info": {
   "codemirror_mode": {
    "name": "ipython",
    "version": 3
   },
   "file_extension": ".py",
   "mimetype": "text/x-python",
   "name": "python",
   "nbconvert_exporter": "python",
   "pygments_lexer": "ipython3",
   "version": "3.9.12"
  }
 },
 "nbformat": 4,
 "nbformat_minor": 4
}
