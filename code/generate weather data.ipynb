{
 "cells": [
  {
   "cell_type": "code",
   "execution_count": null,
   "id": "c22ffad4",
   "metadata": {},
   "outputs": [],
   "source": [
    "import requests\n",
    "import pandas as pd\n",
    "import os\n",
    "from time import sleep"
   ]
  },
  {
   "cell_type": "code",
   "execution_count": null,
   "id": "1960666c",
   "metadata": {},
   "outputs": [],
   "source": [
    "# Read the CSV file to get station_ids and airport names\n",
    "input_file = \"Airport_with_Nearest_Station.csv\"\n",
    "df = pd.read_csv(input_file)\n",
    "\n",
    "# Create output folder\n",
    "output_folder = \"climate2024\"\n",
    "os.makedirs(output_folder, exist_ok=True)"
   ]
  },
  {
   "cell_type": "code",
   "execution_count": null,
   "id": "31c873a6",
   "metadata": {
    "scrolled": false
   },
   "outputs": [],
   "source": [
    "# Base URL for data download\n",
    "base_url = \"https://www.ncei.noaa.gov/oa/local-climatological-data/v2/access/{}/LCD_{}_{}.csv\"\n",
    "\n",
    "# List to store any failed downloads\n",
    "failed_downloads = []\n",
    "\n",
    "# Download data\n",
    "for year in range(2024, 2025):\n",
    "    for index, row in df.iterrows():\n",
    "        station_id = row[\"Closest_Station\"]\n",
    "        airport_name = row[\"AIRPORT\"]\n",
    "        \n",
    "        # Build URL and file name\n",
    "        url = base_url.format(year, station_id, year)\n",
    "        filename = os.path.join(output_folder, f\"LCD_{airport_name}_{year}.csv\")\n",
    "\n",
    "        # Check if the file already exists\n",
    "        if os.path.exists(filename):\n",
    "            print(f\"File for {airport_name} in {year} already exists. Skipping download.\")\n",
    "            continue  # Skip to the next file if it already exists\n",
    "\n",
    "        # Retry logic\n",
    "        max_retries = 3\n",
    "        for attempt in range(max_retries):\n",
    "            try:\n",
    "                response = requests.get(url, stream=True)\n",
    "                if response.status_code == 200:\n",
    "                    with open(filename, 'wb') as file:\n",
    "                        for chunk in response.iter_content(chunk_size=1024):\n",
    "                            if chunk:  # Filter out keep-alive chunks\n",
    "                                file.write(chunk)\n",
    "                    print(f\"Data for {airport_name} in {year} saved locally as {filename}\")\n",
    "                    break  # Break the loop if download succeeds\n",
    "                else:\n",
    "                    print(f\"Failed to retrieve data for {airport_name} in {year}. Status code: {response.status_code}\")\n",
    "                    failed_downloads.append({\"Airport\": airport_name, \"Year\": year})\n",
    "                    break\n",
    "            except (requests.exceptions.ChunkedEncodingError, requests.exceptions.IncompleteRead) as e:\n",
    "                print(f\"Attempt {attempt + 1} failed for {airport_name} in {year}: {e}\")\n",
    "                if attempt < max_retries - 1:\n",
    "                    sleep(2)  # Wait a bit before retrying\n",
    "                else:\n",
    "                    print(f\"Failed to download data for {airport_name} in {year} after {max_retries} attempts.\")\n",
    "                    failed_downloads.append({\"Airport\": airport_name, \"Year\": year})"
   ]
  },
  {
   "cell_type": "code",
   "execution_count": null,
   "id": "e64976f9",
   "metadata": {},
   "outputs": [],
   "source": [
    "# Save any failed download attempts\n",
    "if failed_downloads:\n",
    "    failed_df = pd.DataFrame(failed_downloads)\n",
    "    failed_df.to_csv(\"failed_downloads.csv\", index=False)\n",
    "    print(\"Failed downloads saved to failed_downloads.csv\")\n",
    "else:\n",
    "    print(\"All files downloaded successfully.\")"
   ]
  },
  {
   "cell_type": "code",
   "execution_count": null,
   "id": "5c1fc91b",
   "metadata": {},
   "outputs": [],
   "source": [
    "# Read the new station_id and airport match\n",
    "data = pd.read_csv('match.csv')\n",
    "\n",
    "# Convert the data to a dictionary for easy lookup\n",
    "airport_dict = dict(zip(data.iloc[:, 0], data.iloc[:, 1]))\n",
    "\n",
    "# Define the function\n",
    "def id(airport):\n",
    "    return airport_dict.get(airport)"
   ]
  },
  {
   "cell_type": "code",
   "execution_count": null,
   "id": "b25f8892",
   "metadata": {},
   "outputs": [],
   "source": [
    "#retry the failed downloads with new stationid\n",
    "fail_file = \"failed_downloads.csv\"\n",
    "fails = pd.read_csv(fail_file)\n",
    "#fails"
   ]
  },
  {
   "cell_type": "code",
   "execution_count": null,
   "id": "55bf3a46",
   "metadata": {},
   "outputs": [],
   "source": [
    "retry_failed_downloads = []\n",
    "\n",
    "# Download data\n",
    "for index, row in fails.iterrows():\n",
    "    airport = row[\"Airport\"]\n",
    "    year = row[\"Year\"]\n",
    "    station_id = id(airport)\n",
    "        \n",
    "    # Build URL and file name\n",
    "    url = base_url.format(year, station_id, year)\n",
    "    filename = os.path.join(output_folder, f\"LCD_{airport}_{year}.csv\")\n",
    "\n",
    "    # Request and save data\n",
    "    response = requests.get(url)\n",
    "    if response.status_code == 200:\n",
    "        with open(filename, 'wb') as file:\n",
    "            file.write(response.content)\n",
    "        #print(f\"{airport} in {year} retry successfully\")\n",
    "    else:\n",
    "        print(f\"Failed to retry for {airport} in {year}. Status code: {response.status_code}\")\n",
    "        retry_failed_downloads.append({\"Airport\": airport, \"Year\": year})"
   ]
  }
 ],
 "metadata": {
  "kernelspec": {
   "display_name": "base",
   "language": "python",
   "name": "python3"
  },
  "language_info": {
   "codemirror_mode": {
    "name": "ipython",
    "version": 3
   },
   "file_extension": ".py",
   "mimetype": "text/x-python",
   "name": "python",
   "nbconvert_exporter": "python",
   "pygments_lexer": "ipython3",
   "version": "3.12.4"
  }
 },
 "nbformat": 4,
 "nbformat_minor": 5
}
