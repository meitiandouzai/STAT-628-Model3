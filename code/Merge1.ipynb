{
 "cells": [
  {
   "cell_type": "code",
   "execution_count": null,
   "id": "0e4150dd",
   "metadata": {},
   "outputs": [],
   "source": [
    "import pandas as pd\n",
    "import os\n",
    "from datetime import datetime, timedelta\n",
    "from glob import glob"
   ]
  },
  {
   "cell_type": "code",
   "execution_count": null,
   "id": "3cdbb03d",
   "metadata": {},
   "outputs": [],
   "source": [
    "from tqdm import tqdm # Progress bar\n",
    "tqdm.pandas()"
   ]
  },
  {
   "cell_type": "code",
   "execution_count": null,
   "id": "5202ff70",
   "metadata": {},
   "outputs": [],
   "source": [
    "flight_folder = \"D:/STAT628m3/flight_holidayseanson/flight\"\n",
    "climate_folders = ['D:/STAT628m3/climate2018', 'D:/STAT628m3/climate2019', 'D:/STAT628m3/climate2020', \n",
    "                   'D:/STAT628m3/climate2021', 'D:/STAT628m3/climate2022', 'D:/STAT628m3/climate2023',\n",
    "                   'D:/STAT628m3/climate2024']\n",
    "output_folder = 'D:/STAT628m3'\n",
    "# output_folder_extracted = 'D:/STAT628m3/extracted_data'\n",
    "# output_folder_merged = 'D:/STAT628m3/merged_data'\n",
    "output_file = 'D:/STAT628m3/flight_with_weather.csv'\n",
    "# station_mapping_file = \"D:/STAT628m3/Station_final_match.csv\""
   ]
  },
  {
   "cell_type": "markdown",
   "id": "2cb0b426",
   "metadata": {},
   "source": [
    "First, delete the line that climate is not from November to January (some have problems, but how much can be deleted, and the later time is faster)   \n",
    "Direct overlay"
   ]
  },
  {
   "cell_type": "code",
   "execution_count": null,
   "id": "8924db2c",
   "metadata": {},
   "outputs": [],
   "source": [
    "for folder in climate_folders:\n",
    "    climate_files = glob(os.path.join(folder, '*.csv'))\n",
    "    for file in climate_files:\n",
    "        try:\n",
    "            chunks = pd.read_csv(file, chunksize=1000, on_bad_lines='skip')\n",
    "            climate_data = pd.concat(chunks, ignore_index=True)\n",
    "\n",
    "            # Keep records from November to January\n",
    "            climate_data['DATE'] = pd.to_datetime(climate_data['DATE'], errors='coerce')\n",
    "            climate_data = climate_data[climate_data['DATE'].dt.month.isin([11, 12, 1])]\n",
    "            \n",
    "            climate_data.to_csv(file, index=False)\n",
    "            print(f\"Processed file: {file}\")\n",
    "\n",
    "        except Exception as e:\n",
    "            print(f\"Error processing file {file}: {e}\")"
   ]
  },
  {
   "cell_type": "code",
   "execution_count": null,
   "id": "9753da17",
   "metadata": {},
   "outputs": [],
   "source": [
    "# Create output folder\n",
    "if not os.path.exists(output_folder):\n",
    "    os.makedirs(output_folder)"
   ]
  },
  {
   "cell_type": "code",
   "execution_count": null,
   "id": "d538c6ef",
   "metadata": {},
   "outputs": [],
   "source": [
    "flight_columns = [\n",
    "    \"Year\", \"Month\", \"DayofMonth\", \"DayOfWeek\", \"Operating_Airline \", \"Origin\", \"OriginCityName\", \"OriginState\",\n",
    "    \"Dest\", \"DestCityName\", \"DestState\", \"CRSDepTime\", \"DepTime\", \"DepDelay\", \"DepTimeBlk\", \"CRSArrTime\",\n",
    "    \"ArrTime\", \"ArrDelay\", \"ArrTimeBlk\", \"Cancelled\", \"CancellationCode\", \"Diverted\", \"CRSElapsedTime\",\n",
    "    \"ActualElapsedTime\", \"Distance\", \"WeatherDelay\"\n",
    "]\n",
    "\n",
    "climate_columns = [\n",
    "    'DATE', 'REPORT_TYPE', 'SOURCE', 'HourlyAltimeterSetting', 'HourlyDewPointTemperature', \n",
    "    'HourlyDryBulbTemperature', 'HourlyPrecipitation', 'HourlyPresentWeatherType', 'HourlyPressureChange',\n",
    "    'HourlyPressureTendency', 'HourlyRelativeHumidity', 'HourlySkyConditions', 'HourlySeaLevelPressure',\n",
    "    'HourlyStationPressure', 'HourlyVisibility', 'HourlyWetBulbTemperature', 'HourlyWindDirection',\n",
    "    'HourlyWindGustSpeed', 'HourlyWindSpeed'\n",
    "]"
   ]
  },
  {
   "cell_type": "markdown",
   "id": "e63f0363",
   "metadata": {},
   "source": [
    "Start by merging flight data"
   ]
  },
  {
   "cell_type": "code",
   "execution_count": null,
   "id": "9b58c8ec",
   "metadata": {},
   "outputs": [],
   "source": [
    "flight_files = glob(os.path.join(flight_folder, '*.csv'))\n",
    "flight_data = pd.concat([pd.read_csv(f) for f in flight_files], ignore_index=True)\n",
    "flight_data = flight_data[flight_columns]"
   ]
  },
  {
   "cell_type": "code",
   "execution_count": null,
   "id": "1748e4ec",
   "metadata": {},
   "outputs": [],
   "source": [
    "flight_data.head()"
   ]
  },
  {
   "cell_type": "code",
   "execution_count": null,
   "id": "4db1586b",
   "metadata": {},
   "outputs": [],
   "source": [
    "flight_data.shape"
   ]
  },
  {
   "cell_type": "code",
   "execution_count": null,
   "id": "c7310a65",
   "metadata": {},
   "outputs": [],
   "source": [
    "# Write to file\n",
    "flight_data.to_csv('D:/STAT628m3/flight_data.csv', index=False)"
   ]
  },
  {
   "cell_type": "code",
   "execution_count": null,
   "id": "3f280109",
   "metadata": {},
   "outputs": [],
   "source": []
  }
 ],
 "metadata": {
  "kernelspec": {
   "display_name": "Python 3 (ipykernel)",
   "language": "python",
   "name": "python3"
  },
  "language_info": {
   "codemirror_mode": {
    "name": "ipython",
    "version": 3
   },
   "file_extension": ".py",
   "mimetype": "text/x-python",
   "name": "python",
   "nbconvert_exporter": "python",
   "pygments_lexer": "ipython3",
   "version": "3.9.12"
  }
 },
 "nbformat": 4,
 "nbformat_minor": 5
}
