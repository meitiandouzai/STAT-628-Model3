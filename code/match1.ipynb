{
 "cells": [
  {
   "cell_type": "code",
   "execution_count": 2,
   "id": "0c734514",
   "metadata": {},
   "outputs": [],
   "source": [
    "library(dplyr)\n",
    "library(geosphere)"
   ]
  },
  {
   "cell_type": "markdown",
   "id": "264a39cf",
   "metadata": {},
   "source": [
    "### Step 1: Merge rows with the same AIRPORT and AIRPORT_ID, averaging LATITUDE and LONGITUDE"
   ]
  },
  {
   "cell_type": "code",
   "execution_count": 2,
   "id": "239ced21",
   "metadata": {},
   "outputs": [],
   "source": [
    "# read csv\n",
    "airport <- read.csv(\"T_MASTER_CORD.csv\")"
   ]
  },
  {
   "cell_type": "code",
   "execution_count": 3,
   "id": "caff8101",
   "metadata": {},
   "outputs": [
    {
     "name": "stderr",
     "output_type": "stream",
     "text": [
      "\u001b[1m\u001b[22m`summarise()` has grouped output by 'AIRPORT'. You can override using the `.groups` argument.\n"
     ]
    },
    {
     "data": {
      "text/html": [
       "<table class=\"dataframe\">\n",
       "<caption>A tibble: 6 × 4</caption>\n",
       "<thead>\n",
       "\t<tr><th scope=col>AIRPORT</th><th scope=col>AIRPORT_ID</th><th scope=col>LATITUDE</th><th scope=col>LONGITUDE</th></tr>\n",
       "\t<tr><th scope=col>&lt;chr&gt;</th><th scope=col>&lt;int&gt;</th><th scope=col>&lt;dbl&gt;</th><th scope=col>&lt;dbl&gt;</th></tr>\n",
       "</thead>\n",
       "<tbody>\n",
       "\t<tr><td>01A</td><td>10001</td><td>58.10944</td><td>-152.9067</td></tr>\n",
       "\t<tr><td>03A</td><td>10003</td><td>65.54806</td><td>-161.0717</td></tr>\n",
       "\t<tr><td>04A</td><td>10004</td><td>68.08333</td><td>-163.1667</td></tr>\n",
       "\t<tr><td>05A</td><td>10005</td><td>67.57000</td><td>-148.1839</td></tr>\n",
       "\t<tr><td>06A</td><td>10006</td><td>57.74528</td><td>-152.8828</td></tr>\n",
       "\t<tr><td>07A</td><td>10007</td><td>55.55472</td><td>-133.1017</td></tr>\n",
       "</tbody>\n",
       "</table>\n"
      ],
      "text/latex": [
       "A tibble: 6 × 4\n",
       "\\begin{tabular}{llll}\n",
       " AIRPORT & AIRPORT\\_ID & LATITUDE & LONGITUDE\\\\\n",
       " <chr> & <int> & <dbl> & <dbl>\\\\\n",
       "\\hline\n",
       "\t 01A & 10001 & 58.10944 & -152.9067\\\\\n",
       "\t 03A & 10003 & 65.54806 & -161.0717\\\\\n",
       "\t 04A & 10004 & 68.08333 & -163.1667\\\\\n",
       "\t 05A & 10005 & 67.57000 & -148.1839\\\\\n",
       "\t 06A & 10006 & 57.74528 & -152.8828\\\\\n",
       "\t 07A & 10007 & 55.55472 & -133.1017\\\\\n",
       "\\end{tabular}\n"
      ],
      "text/markdown": [
       "\n",
       "A tibble: 6 × 4\n",
       "\n",
       "| AIRPORT &lt;chr&gt; | AIRPORT_ID &lt;int&gt; | LATITUDE &lt;dbl&gt; | LONGITUDE &lt;dbl&gt; |\n",
       "|---|---|---|---|\n",
       "| 01A | 10001 | 58.10944 | -152.9067 |\n",
       "| 03A | 10003 | 65.54806 | -161.0717 |\n",
       "| 04A | 10004 | 68.08333 | -163.1667 |\n",
       "| 05A | 10005 | 67.57000 | -148.1839 |\n",
       "| 06A | 10006 | 57.74528 | -152.8828 |\n",
       "| 07A | 10007 | 55.55472 | -133.1017 |\n",
       "\n"
      ],
      "text/plain": [
       "  AIRPORT AIRPORT_ID LATITUDE LONGITUDE\n",
       "1 01A     10001      58.10944 -152.9067\n",
       "2 03A     10003      65.54806 -161.0717\n",
       "3 04A     10004      68.08333 -163.1667\n",
       "4 05A     10005      67.57000 -148.1839\n",
       "5 06A     10006      57.74528 -152.8828\n",
       "6 07A     10007      55.55472 -133.1017"
      ]
     },
     "metadata": {},
     "output_type": "display_data"
    }
   ],
   "source": [
    "# Define columns to keep\n",
    "selected_columns <- c(\"AIRPORT_ID\", \"AIRPORT\", \"DISPLAY_AIRPORT_NAME\", \"LATITUDE\", \"LONGITUDE\", \"AIRPORT_COUNTRY_CODE_ISO\")\n",
    "airport_data <- airport[selected_columns]\n",
    "\n",
    "# Filter data to include only records where AIRPORT_COUNTRY_CODE_ISO is \"US\"\n",
    "filtered_airport_data <- airport_data[airport_data$AIRPORT_COUNTRY_CODE_ISO == \"US\", ]\n",
    "\n",
    "airport_unique <- filtered_airport_data %>%\n",
    "  group_by(AIRPORT, AIRPORT_ID) %>%\n",
    "  summarise(\n",
    "    LATITUDE = mean(LATITUDE, na.rm = TRUE),\n",
    "    LONGITUDE = mean(LONGITUDE, na.rm = TRUE)\n",
    "  ) %>%\n",
    "  ungroup()\n",
    "\n",
    "airport_unique <- airport_unique[airport_unique$LATITUDE >= -90 & airport_unique$LATITUDE <= 90, ]\n",
    "head(airport_unique)"
   ]
  },
  {
   "cell_type": "markdown",
   "id": "280a2b7f",
   "metadata": {},
   "source": [
    "### Step 2: Filter airport data to include only airports present in the flight records"
   ]
  },
  {
   "cell_type": "code",
   "execution_count": 4,
   "id": "c611995d",
   "metadata": {},
   "outputs": [
    {
     "data": {
      "text/html": [
       "<table class=\"dataframe\">\n",
       "<caption>A tibble: 6 × 4</caption>\n",
       "<thead>\n",
       "\t<tr><th scope=col>AIRPORT</th><th scope=col>AIRPORT_ID</th><th scope=col>LATITUDE</th><th scope=col>LONGITUDE</th></tr>\n",
       "\t<tr><th scope=col>&lt;chr&gt;</th><th scope=col>&lt;int&gt;</th><th scope=col>&lt;dbl&gt;</th><th scope=col>&lt;dbl&gt;</th></tr>\n",
       "</thead>\n",
       "<tbody>\n",
       "\t<tr><td>ABE</td><td>10135</td><td>40.65269</td><td> -75.44005</td></tr>\n",
       "\t<tr><td>ABI</td><td>10136</td><td>32.41065</td><td> -99.68111</td></tr>\n",
       "\t<tr><td>ABQ</td><td>10140</td><td>35.04000</td><td>-106.60828</td></tr>\n",
       "\t<tr><td>ABR</td><td>10141</td><td>45.44829</td><td> -98.42218</td></tr>\n",
       "\t<tr><td>ABY</td><td>10146</td><td>31.53389</td><td> -84.19528</td></tr>\n",
       "\t<tr><td>ACK</td><td>10154</td><td>41.25370</td><td> -70.06014</td></tr>\n",
       "</tbody>\n",
       "</table>\n"
      ],
      "text/latex": [
       "A tibble: 6 × 4\n",
       "\\begin{tabular}{llll}\n",
       " AIRPORT & AIRPORT\\_ID & LATITUDE & LONGITUDE\\\\\n",
       " <chr> & <int> & <dbl> & <dbl>\\\\\n",
       "\\hline\n",
       "\t ABE & 10135 & 40.65269 &  -75.44005\\\\\n",
       "\t ABI & 10136 & 32.41065 &  -99.68111\\\\\n",
       "\t ABQ & 10140 & 35.04000 & -106.60828\\\\\n",
       "\t ABR & 10141 & 45.44829 &  -98.42218\\\\\n",
       "\t ABY & 10146 & 31.53389 &  -84.19528\\\\\n",
       "\t ACK & 10154 & 41.25370 &  -70.06014\\\\\n",
       "\\end{tabular}\n"
      ],
      "text/markdown": [
       "\n",
       "A tibble: 6 × 4\n",
       "\n",
       "| AIRPORT &lt;chr&gt; | AIRPORT_ID &lt;int&gt; | LATITUDE &lt;dbl&gt; | LONGITUDE &lt;dbl&gt; |\n",
       "|---|---|---|---|\n",
       "| ABE | 10135 | 40.65269 |  -75.44005 |\n",
       "| ABI | 10136 | 32.41065 |  -99.68111 |\n",
       "| ABQ | 10140 | 35.04000 | -106.60828 |\n",
       "| ABR | 10141 | 45.44829 |  -98.42218 |\n",
       "| ABY | 10146 | 31.53389 |  -84.19528 |\n",
       "| ACK | 10154 | 41.25370 |  -70.06014 |\n",
       "\n"
      ],
      "text/plain": [
       "  AIRPORT AIRPORT_ID LATITUDE LONGITUDE \n",
       "1 ABE     10135      40.65269  -75.44005\n",
       "2 ABI     10136      32.41065  -99.68111\n",
       "3 ABQ     10140      35.04000 -106.60828\n",
       "4 ABR     10141      45.44829  -98.42218\n",
       "5 ABY     10146      31.53389  -84.19528\n",
       "6 ACK     10154      41.25370  -70.06014"
      ]
     },
     "metadata": {},
     "output_type": "display_data"
    },
    {
     "name": "stdout",
     "output_type": "stream",
     "text": [
      "Number of airports after filtering: 391 \n"
     ]
    }
   ],
   "source": [
    "# Define the directory path containing flight data files\n",
    "flight_data_dir <- \"./flight_holidayseason\"\n",
    "\n",
    "# Initialize an empty data frame to store combined flight data\n",
    "flight_data <- data.frame(AIRPORT_ID = integer())\n",
    "\n",
    "files <- list.files(flight_data_dir, pattern = \"*.csv\", full.names = TRUE)\n",
    "for (file in files) {\n",
    "  # Read each CSV file\n",
    "  data <- read.csv(file)\n",
    "  \n",
    "  # Extract OriginAirportID and DestAirportID, combine them as AIRPORT_ID\n",
    "  origin_ids <- data$OriginAirportID\n",
    "  dest_ids <- data$DestAirportID\n",
    "  airport_ids <- unique(c(origin_ids, dest_ids))  # Combine and get unique IDs\n",
    "  \n",
    "  # Create a temporary data frame with a single column AIRPORT_ID\n",
    "  temp_data <- data.frame(AIRPORT_ID = airport_ids)\n",
    "  \n",
    "  # Bind temp_data to flight_data\n",
    "  flight_data <- bind_rows(flight_data, temp_data)\n",
    "}\n",
    "\n",
    "# Get unique AIRPORT_IDs from the combined flight data\n",
    "flight_data <- flight_data %>% distinct(AIRPORT_ID)\n",
    "\n",
    "# Filter airport data to include only airports present in the flight records\n",
    "filtered_airport_unique <- airport_unique %>%\n",
    "  filter(AIRPORT_ID %in% flight_data$AIRPORT_ID)\n",
    "\n",
    "# Display the first few rows of the filtered airport data\n",
    "head(filtered_airport_unique)\n",
    "\n",
    "# Display the number of airports after filtering\n",
    "cat(\"Number of airports after filtering:\", nrow(filtered_airport_unique), \"\\n\")"
   ]
  },
  {
   "cell_type": "code",
   "execution_count": 5,
   "id": "e4d1d394",
   "metadata": {},
   "outputs": [
    {
     "name": "stdout",
     "output_type": "stream",
     "text": [
      "Filtered airport data has been saved to 'Filtered_Airport_US_Unique.csv'\n"
     ]
    }
   ],
   "source": [
    "# Save filtered airport data to a CSV file for future use\n",
    "write.csv(filtered_airport_unique, \"Filtered_Airport_US_Unique.csv\", row.names = FALSE)\n",
    "cat(\"Filtered airport data has been saved to 'Filtered_Airport_US_Unique.csv'\\n\")"
   ]
  },
  {
   "cell_type": "markdown",
   "id": "909a1de3",
   "metadata": {},
   "source": [
    "### Step 3: Match the latitude and longitude in Airport situation with the station data to find the nearest station"
   ]
  },
  {
   "cell_type": "code",
   "execution_count": 6,
   "id": "306961ff",
   "metadata": {},
   "outputs": [],
   "source": [
    "# Reload data\n",
    "airport_data <- read.csv(\"Filtered_Airport_US_Unique.csv\")\n",
    "data <- read.csv(\"ghcnh-station-list.csv\", header = FALSE, stringsAsFactors = FALSE)\n",
    "\n",
    "#str(airport_data)\n",
    "#str(data)\n",
    "\n",
    "# Check for any NA values in LATITUDE and LONGITUDE columns\n",
    "if (any(is.na(airport_data$LATITUDE) | is.na(airport_data$LONGITUDE))) {\n",
    "  stop(\"Error: airport_data contains NA values in LATITUDE or LONGITUDE.\")\n",
    "}\n",
    "if (any(is.na(data$LATITUDE) | is.na(data$LONGITUDE))) {\n",
    "  stop(\"Error: station_data contains NA values in LATITUDE or LONGITUDE.\")\n",
    "}"
   ]
  },
  {
   "cell_type": "code",
   "execution_count": 7,
   "id": "9887acd0",
   "metadata": {},
   "outputs": [],
   "source": [
    "# Define the Haversine formula to calculate distance (in kilometers)\n",
    "haversine <- function(lat1, lon1, lat2, lon2) {\n",
    "  R <- 6371  # Earth's radius in kilometers\n",
    "  dLat <- (lat2 - lat1) * pi / 180\n",
    "  dLon <- (lon2 - lon1) * pi / 180\n",
    "  lat1 <- lat1 * pi / 180\n",
    "  lat2 <- lat2 * pi / 180 \n",
    "  a <- sin(dLat / 2) * sin(dLat / 2) +\n",
    "       sin(dLon / 2) * sin(dLon / 2) * cos(lat1) * cos(lat2)\n",
    "  c <- 2 * atan2(sqrt(a), sqrt(1 - a))\n",
    "  return(R * c)  # Return distance in kilometers\n",
    "}"
   ]
  },
  {
   "cell_type": "code",
   "execution_count": 8,
   "id": "a45cc10b",
   "metadata": {},
   "outputs": [],
   "source": [
    "# Define function to find the nearest station for a given latitude and longitude\n",
    "find_nearest_station <- function(lat, lon) {\n",
    "  # Calculate distances from the given point to each station in station_data\n",
    "  distances <- mapply(haversine, lat, lon, data[, 2], data[, 3])\n",
    "  nearest_index <- which.min(distances)\n",
    "  nearest_station <- data[nearest_index, 1]  \n",
    "  \n",
    "  return(nearest_station)\n",
    "}\n",
    "\n",
    "# Apply the function to each airport to find the closest station\n",
    "airport_data$Closest_Station <- mapply(\n",
    "  find_nearest_station,\n",
    "  airport_data$LATITUDE,\n",
    "  airport_data$LONGITUDE\n",
    ")"
   ]
  },
  {
   "cell_type": "code",
   "execution_count": 9,
   "id": "6340ed4c",
   "metadata": {},
   "outputs": [],
   "source": [
    "# Define function to find the nearest distance for a given latitude and longitude\n",
    "find_nearest_distance <- function(lat, lon) {\n",
    "  # Calculate distances from the given point to each station in station_data\n",
    "  distances <- mapply(haversine, lat, lon, data[, 2], data[, 3])\n",
    "  \n",
    "  # 检查 distances 中是否有 NA 值\n",
    "  if (any(is.na(distances))) {\n",
    "    warning(\"NA values found in distances calculation for latitude:\", lat, \"longitude:\", lon)\n",
    "  }\n",
    "  \n",
    "  nearest_distance <- min(distances, na.rm = TRUE)  # Find the minimum distance, ignoring NA\n",
    "  \n",
    "  return(nearest_distance)\n",
    "}\n",
    "\n",
    "# Apply the function to each airport to find the closest distance\n",
    "airport_data$Closest_Distance <- mapply(\n",
    "  find_nearest_distance,\n",
    "  airport_data$LATITUDE,\n",
    "  airport_data$LONGITUDE\n",
    ")"
   ]
  },
  {
   "cell_type": "code",
   "execution_count": 10,
   "id": "e8dd7879",
   "metadata": {},
   "outputs": [
    {
     "data": {
      "text/html": [
       "<table class=\"dataframe\">\n",
       "<caption>A data.frame: 6 × 6</caption>\n",
       "<thead>\n",
       "\t<tr><th></th><th scope=col>AIRPORT</th><th scope=col>AIRPORT_ID</th><th scope=col>LATITUDE</th><th scope=col>LONGITUDE</th><th scope=col>Closest_Station</th><th scope=col>Closest_Distance</th></tr>\n",
       "\t<tr><th></th><th scope=col>&lt;chr&gt;</th><th scope=col>&lt;int&gt;</th><th scope=col>&lt;dbl&gt;</th><th scope=col>&lt;dbl&gt;</th><th scope=col>&lt;chr&gt;</th><th scope=col>&lt;dbl&gt;</th></tr>\n",
       "</thead>\n",
       "<tbody>\n",
       "\t<tr><th scope=row>1</th><td>ABE</td><td>10135</td><td>40.65269</td><td> -75.44005</td><td>USW00014737</td><td>0.73352352</td></tr>\n",
       "\t<tr><th scope=row>2</th><td>ABI</td><td>10136</td><td>32.41065</td><td> -99.68111</td><td>USW00013962</td><td>0.07424947</td></tr>\n",
       "\t<tr><th scope=row>3</th><td>ABQ</td><td>10140</td><td>35.04000</td><td>-106.60828</td><td>USW00023050</td><td>0.69929265</td></tr>\n",
       "\t<tr><th scope=row>4</th><td>ABR</td><td>10141</td><td>45.44829</td><td> -98.42218</td><td>USW00014929</td><td>1.08501454</td></tr>\n",
       "\t<tr><th scope=row>5</th><td>ABY</td><td>10146</td><td>31.53389</td><td> -84.19528</td><td>USW00013869</td><td>0.28357518</td></tr>\n",
       "\t<tr><th scope=row>6</th><td>ACK</td><td>10154</td><td>41.25370</td><td> -70.06014</td><td>USW00014756</td><td>0.11735123</td></tr>\n",
       "</tbody>\n",
       "</table>\n"
      ],
      "text/latex": [
       "A data.frame: 6 × 6\n",
       "\\begin{tabular}{r|llllll}\n",
       "  & AIRPORT & AIRPORT\\_ID & LATITUDE & LONGITUDE & Closest\\_Station & Closest\\_Distance\\\\\n",
       "  & <chr> & <int> & <dbl> & <dbl> & <chr> & <dbl>\\\\\n",
       "\\hline\n",
       "\t1 & ABE & 10135 & 40.65269 &  -75.44005 & USW00014737 & 0.73352352\\\\\n",
       "\t2 & ABI & 10136 & 32.41065 &  -99.68111 & USW00013962 & 0.07424947\\\\\n",
       "\t3 & ABQ & 10140 & 35.04000 & -106.60828 & USW00023050 & 0.69929265\\\\\n",
       "\t4 & ABR & 10141 & 45.44829 &  -98.42218 & USW00014929 & 1.08501454\\\\\n",
       "\t5 & ABY & 10146 & 31.53389 &  -84.19528 & USW00013869 & 0.28357518\\\\\n",
       "\t6 & ACK & 10154 & 41.25370 &  -70.06014 & USW00014756 & 0.11735123\\\\\n",
       "\\end{tabular}\n"
      ],
      "text/markdown": [
       "\n",
       "A data.frame: 6 × 6\n",
       "\n",
       "| <!--/--> | AIRPORT &lt;chr&gt; | AIRPORT_ID &lt;int&gt; | LATITUDE &lt;dbl&gt; | LONGITUDE &lt;dbl&gt; | Closest_Station &lt;chr&gt; | Closest_Distance &lt;dbl&gt; |\n",
       "|---|---|---|---|---|---|---|\n",
       "| 1 | ABE | 10135 | 40.65269 |  -75.44005 | USW00014737 | 0.73352352 |\n",
       "| 2 | ABI | 10136 | 32.41065 |  -99.68111 | USW00013962 | 0.07424947 |\n",
       "| 3 | ABQ | 10140 | 35.04000 | -106.60828 | USW00023050 | 0.69929265 |\n",
       "| 4 | ABR | 10141 | 45.44829 |  -98.42218 | USW00014929 | 1.08501454 |\n",
       "| 5 | ABY | 10146 | 31.53389 |  -84.19528 | USW00013869 | 0.28357518 |\n",
       "| 6 | ACK | 10154 | 41.25370 |  -70.06014 | USW00014756 | 0.11735123 |\n",
       "\n"
      ],
      "text/plain": [
       "  AIRPORT AIRPORT_ID LATITUDE LONGITUDE  Closest_Station Closest_Distance\n",
       "1 ABE     10135      40.65269  -75.44005 USW00014737     0.73352352      \n",
       "2 ABI     10136      32.41065  -99.68111 USW00013962     0.07424947      \n",
       "3 ABQ     10140      35.04000 -106.60828 USW00023050     0.69929265      \n",
       "4 ABR     10141      45.44829  -98.42218 USW00014929     1.08501454      \n",
       "5 ABY     10146      31.53389  -84.19528 USW00013869     0.28357518      \n",
       "6 ACK     10154      41.25370  -70.06014 USW00014756     0.11735123      "
      ]
     },
     "metadata": {},
     "output_type": "display_data"
    },
    {
     "data": {
      "text/html": [
       "<table class=\"dataframe\">\n",
       "<caption>A data.frame: 6 × 6</caption>\n",
       "<thead>\n",
       "\t<tr><th></th><th scope=col>AIRPORT</th><th scope=col>AIRPORT_ID</th><th scope=col>LATITUDE</th><th scope=col>LONGITUDE</th><th scope=col>Closest_Station</th><th scope=col>Closest_Distance</th></tr>\n",
       "\t<tr><th></th><th scope=col>&lt;chr&gt;</th><th scope=col>&lt;int&gt;</th><th scope=col>&lt;dbl&gt;</th><th scope=col>&lt;dbl&gt;</th><th scope=col>&lt;chr&gt;</th><th scope=col>&lt;dbl&gt;</th></tr>\n",
       "</thead>\n",
       "<tbody>\n",
       "\t<tr><th scope=row>386</th><td>XNA</td><td>15919</td><td>36.28178</td><td> -94.30744</td><td>USW00053922</td><td>0.9495812</td></tr>\n",
       "\t<tr><th scope=row>387</th><td>XWA</td><td>16869</td><td>48.26028</td><td>-103.75083</td><td>USW00094099</td><td>0.7418662</td></tr>\n",
       "\t<tr><th scope=row>388</th><td>YAK</td><td>15991</td><td>59.50625</td><td>-139.66000</td><td>USW00025339</td><td>0.9110079</td></tr>\n",
       "\t<tr><th scope=row>389</th><td>YKM</td><td>16101</td><td>46.56750</td><td>-120.54097</td><td>USW00024243</td><td>0.6072052</td></tr>\n",
       "\t<tr><th scope=row>390</th><td>YNG</td><td>16133</td><td>41.26022</td><td> -80.67772</td><td>USW00014852</td><td>0.7041204</td></tr>\n",
       "\t<tr><th scope=row>391</th><td>YUM</td><td>16218</td><td>32.65667</td><td>-114.60597</td><td>USW00023195</td><td>1.2478971</td></tr>\n",
       "</tbody>\n",
       "</table>\n"
      ],
      "text/latex": [
       "A data.frame: 6 × 6\n",
       "\\begin{tabular}{r|llllll}\n",
       "  & AIRPORT & AIRPORT\\_ID & LATITUDE & LONGITUDE & Closest\\_Station & Closest\\_Distance\\\\\n",
       "  & <chr> & <int> & <dbl> & <dbl> & <chr> & <dbl>\\\\\n",
       "\\hline\n",
       "\t386 & XNA & 15919 & 36.28178 &  -94.30744 & USW00053922 & 0.9495812\\\\\n",
       "\t387 & XWA & 16869 & 48.26028 & -103.75083 & USW00094099 & 0.7418662\\\\\n",
       "\t388 & YAK & 15991 & 59.50625 & -139.66000 & USW00025339 & 0.9110079\\\\\n",
       "\t389 & YKM & 16101 & 46.56750 & -120.54097 & USW00024243 & 0.6072052\\\\\n",
       "\t390 & YNG & 16133 & 41.26022 &  -80.67772 & USW00014852 & 0.7041204\\\\\n",
       "\t391 & YUM & 16218 & 32.65667 & -114.60597 & USW00023195 & 1.2478971\\\\\n",
       "\\end{tabular}\n"
      ],
      "text/markdown": [
       "\n",
       "A data.frame: 6 × 6\n",
       "\n",
       "| <!--/--> | AIRPORT &lt;chr&gt; | AIRPORT_ID &lt;int&gt; | LATITUDE &lt;dbl&gt; | LONGITUDE &lt;dbl&gt; | Closest_Station &lt;chr&gt; | Closest_Distance &lt;dbl&gt; |\n",
       "|---|---|---|---|---|---|---|\n",
       "| 386 | XNA | 15919 | 36.28178 |  -94.30744 | USW00053922 | 0.9495812 |\n",
       "| 387 | XWA | 16869 | 48.26028 | -103.75083 | USW00094099 | 0.7418662 |\n",
       "| 388 | YAK | 15991 | 59.50625 | -139.66000 | USW00025339 | 0.9110079 |\n",
       "| 389 | YKM | 16101 | 46.56750 | -120.54097 | USW00024243 | 0.6072052 |\n",
       "| 390 | YNG | 16133 | 41.26022 |  -80.67772 | USW00014852 | 0.7041204 |\n",
       "| 391 | YUM | 16218 | 32.65667 | -114.60597 | USW00023195 | 1.2478971 |\n",
       "\n"
      ],
      "text/plain": [
       "    AIRPORT AIRPORT_ID LATITUDE LONGITUDE  Closest_Station Closest_Distance\n",
       "386 XNA     15919      36.28178  -94.30744 USW00053922     0.9495812       \n",
       "387 XWA     16869      48.26028 -103.75083 USW00094099     0.7418662       \n",
       "388 YAK     15991      59.50625 -139.66000 USW00025339     0.9110079       \n",
       "389 YKM     16101      46.56750 -120.54097 USW00024243     0.6072052       \n",
       "390 YNG     16133      41.26022  -80.67772 USW00014852     0.7041204       \n",
       "391 YUM     16218      32.65667 -114.60597 USW00023195     1.2478971       "
      ]
     },
     "metadata": {},
     "output_type": "display_data"
    }
   ],
   "source": [
    "head(airport_data)\n",
    "tail(airport_data)"
   ]
  },
  {
   "cell_type": "code",
   "execution_count": 15,
   "id": "c6efcc0a",
   "metadata": {},
   "outputs": [
    {
     "name": "stdout",
     "output_type": "stream",
     "text": [
      "[1] AIRPORT          AIRPORT_ID       LATITUDE         LONGITUDE       \n",
      "[5] Closest_Station  Closest_Distance\n",
      "<0 rows> (or 0-length row.names)\n"
     ]
    },
    {
     "data": {
      "image/png": "[encoded data removed]",
      "text/plain": [
       "Plot with title \"Distribution of Nearest Distances to Stations\""
      ]
     },
     "metadata": {
      "image/png": {
       "height": 420,
       "width": 420
      }
     },
     "output_type": "display_data"
    }
   ],
   "source": [
    "# Check the distribution of closest distances\n",
    "hist(airport_data$Closest_Distance, main=\"Distribution of Nearest Distances to Stations\",\n",
    "     xlab=\"Distance (km)\", ylab=\"Frequency\", col=\"lightblue\")\n",
    "\n",
    "# Display any distances greater than a threshold, e.g., 25 km, for closer inspection\n",
    "large_distances <- airport_data[airport_data$Closest_Distance > 25, ]\n",
    "print(large_distances)"
   ]
  },
  {
   "cell_type": "code",
   "execution_count": 16,
   "id": "aff5ef08",
   "metadata": {},
   "outputs": [
    {
     "name": "stdout",
     "output_type": "stream",
     "text": [
      "Airport data with nearest station information has been saved to 'Airport_with_Nearest_Station.csv'\n"
     ]
    }
   ],
   "source": [
    "# Save the final data to a CSV file\n",
    "write.csv(airport_data, \"Airport_with_Nearest_Station.csv\", row.names = FALSE)\n",
    "cat(\"Airport data with nearest station information has been saved to 'Airport_with_Nearest_Station.csv'\\n\")"
   ]
  }
 ],
 "metadata": {
  "kernelspec": {
   "display_name": "R",
   "language": "R",
   "name": "ir"
  },
  "language_info": {
   "codemirror_mode": "r",
   "file_extension": ".r",
   "mimetype": "text/x-r-source",
   "name": "R",
   "pygments_lexer": "r",
   "version": "4.4.1"
  }
 },
 "nbformat": 4,
 "nbformat_minor": 5
}
