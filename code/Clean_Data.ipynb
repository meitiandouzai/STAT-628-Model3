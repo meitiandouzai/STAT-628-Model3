{
 "cells": [
  {
   "cell_type": "code",
   "execution_count": 2,
   "id": "5c3e1b85",
   "metadata": {},
   "outputs": [],
   "source": [
    "import os\n",
    "import pandas as pd\n",
    "import numpy as np\n",
    "import seaborn as sns\n",
    "from datetime import datetime\n",
    "from tqdm import tqdm"
   ]
  },
  {
   "cell_type": "markdown",
   "id": "11b71189",
   "metadata": {},
   "source": [
    "### 读入原始数据"
   ]
  },
  {
   "cell_type": "code",
   "execution_count": 2,
   "id": "7935807e",
   "metadata": {},
   "outputs": [],
   "source": [
    "folder_path = 'C:/Users/86355/Documents/py/628/hw3/climate'"
   ]
  },
  {
   "cell_type": "code",
   "execution_count": 3,
   "id": "c6900928",
   "metadata": {},
   "outputs": [],
   "source": [
    "# define every data type\n",
    "dtype_dict = {\n",
    "    \"DepTime\": \"Int64\",#9\n",
    "    \"ArrTime\": \"Int64\",#13\n",
    "    \"CancellationCode\": \"category\",#17\n",
    "    \"Origin_HourlyVisibility\": \"object\",#41:\"xxxx s\"\"xxxx v\"\n",
    "    \"Origin_HourlyWindDirection\": \"object\",#43 catains VRB  #去掉？\n",
    "    \"Origin_HourlyWindSpeed\": \"object\",#45 38.6s??? or float\n",
    "    \"Dest_HourlyPrecipitation\": \"object\",#51 contains float and bool\n",
    "    \"Dest_HourlyPresentWeatherType\": \"object\",#52 \n",
    "    \"Dest_HourlySkyConditions\":\"object\",#56\n",
    "    \"Dest_HourlyVisibility\": \"object\",#59:\"xxxx s\"\"xxxx v\"\n",
    "    \"Dest_HourlyWindDirection\": \"object\",#61 VBR\n",
    "    \"Dest_HourlyWindSpeed\": \"object\"#63 38.6s ???\n",
    "}"
   ]
  },
  {
   "cell_type": "code",
   "execution_count": 4,
   "id": "5223fcb4",
   "metadata": {
    "scrolled": true
   },
   "outputs": [],
   "source": [
    "# 初始化一个空列表来存储每个 CSV 文件的 DataFrame\n",
    "data_frames = []\n",
    "\n",
    "# 使用 os.walk 递归遍历所有子文件夹和文件\n",
    "for root, dirs, files in os.walk(folder_path):\n",
    "    for file in files:\n",
    "        # 检查文件是否为 CSV 文件\n",
    "        if file.endswith('.csv'):\n",
    "            file_path = os.path.join(root, file)\n",
    "            df = pd.read_csv(file_path, dtype=dtype_dict, na_values=\"NA\", skipinitialspace=True)\n",
    "            #df = pd.read_csv(file_path, na_values=\"NA\", skipinitialspace=True)\n",
    "            data_frames.append(df)\n",
    "            #print(f\"读取文件: {file}\")\n",
    "\n",
    "# 将所有 DataFrame 合并为一个总的 DataFrame\n",
    "data_original = pd.concat(data_frames, ignore_index=True)"
   ]
  },
  {
   "cell_type": "code",
   "execution_count": 5,
   "id": "932d6c9b",
   "metadata": {
    "scrolled": true
   },
   "outputs": [
    {
     "name": "stdout",
     "output_type": "stream",
     "text": [
      "<class 'pandas.core.frame.DataFrame'>\n",
      "RangeIndex: 9720184 entries, 0 to 9720183\n",
      "Data columns (total 64 columns):\n",
      " #   Column                            Dtype  \n",
      "---  ------                            -----  \n",
      " 0   FlightDate                        object \n",
      " 1   Year                              int64  \n",
      " 2   Month                             int64  \n",
      " 3   DayofMonth                        int64  \n",
      " 4   DayOfWeek                         int64  \n",
      " 5   Operating_Airline                 object \n",
      " 6   Origin                            object \n",
      " 7   Dest                              object \n",
      " 8   CRSDepTime                        int64  \n",
      " 9   DepTime                           Int64  \n",
      " 10  DepDelay                          float64\n",
      " 11  DepTimeBlk                        object \n",
      " 12  CRSArrTime                        int64  \n",
      " 13  ArrTime                           Int64  \n",
      " 14  ArrDelay                          float64\n",
      " 15  ArrTimeBlk                        object \n",
      " 16  Cancelled                         int64  \n",
      " 17  CancellationCode                  object \n",
      " 18  Diverted                          int64  \n",
      " 19  CRSElapsedTime                    float64\n",
      " 20  ActualElapsedTime                 float64\n",
      " 21  Distance                          int64  \n",
      " 22  WeatherDelay                      float64\n",
      " 23  CRSDepDatetime                    object \n",
      " 24  CRSDepTime_CST                    object \n",
      " 25  DepTime_CST                       object \n",
      " 26  ArrTime_CST                       object \n",
      " 27  CRSArrTime_CST                    object \n",
      " 28  Origin_REPORT_TYPE                object \n",
      " 29  Origin_SOURCE                     float64\n",
      " 30  Origin_HourlyAltimeterSetting     float64\n",
      " 31  Origin_HourlyDewPointTemperature  float64\n",
      " 32  Origin_HourlyDryBulbTemperature   float64\n",
      " 33  Origin_HourlyPrecipitation        object \n",
      " 34  Origin_HourlyPresentWeatherType   object \n",
      " 35  Origin_HourlyPressureChange       float64\n",
      " 36  Origin_HourlyPressureTendency     float64\n",
      " 37  Origin_HourlyRelativeHumidity     float64\n",
      " 38  Origin_HourlySkyConditions        object \n",
      " 39  Origin_HourlySeaLevelPressure     float64\n",
      " 40  Origin_HourlyStationPressure      float64\n",
      " 41  Origin_HourlyVisibility           object \n",
      " 42  Origin_HourlyWetBulbTemperature   float64\n",
      " 43  Origin_HourlyWindDirection        object \n",
      " 44  Origin_HourlyWindGustSpeed        float64\n",
      " 45  Origin_HourlyWindSpeed            object \n",
      " 46  Dest_REPORT_TYPE                  object \n",
      " 47  Dest_SOURCE                       float64\n",
      " 48  Dest_HourlyAltimeterSetting       float64\n",
      " 49  Dest_HourlyDewPointTemperature    float64\n",
      " 50  Dest_HourlyDryBulbTemperature     float64\n",
      " 51  Dest_HourlyPrecipitation          object \n",
      " 52  Dest_HourlyPresentWeatherType     object \n",
      " 53  Dest_HourlyPressureChange         float64\n",
      " 54  Dest_HourlyPressureTendency       float64\n",
      " 55  Dest_HourlyRelativeHumidity       float64\n",
      " 56  Dest_HourlySkyConditions          object \n",
      " 57  Dest_HourlySeaLevelPressure       float64\n",
      " 58  Dest_HourlyStationPressure        float64\n",
      " 59  Dest_HourlyVisibility             object \n",
      " 60  Dest_HourlyWetBulbTemperature     float64\n",
      " 61  Dest_HourlyWindDirection          object \n",
      " 62  Dest_HourlyWindGustSpeed          float64\n",
      " 63  Dest_HourlyWindSpeed              object \n",
      "dtypes: Int64(2), float64(27), int64(9), object(26)\n",
      "memory usage: 4.7+ GB\n"
     ]
    }
   ],
   "source": [
    "data_original.info()"
   ]
  },
  {
   "cell_type": "code",
   "execution_count": 6,
   "id": "3e23d0fc",
   "metadata": {},
   "outputs": [
    {
     "name": "stdout",
     "output_type": "stream",
     "text": [
      "FlightDate: 0.00%\n",
      "Year: 0.00%\n",
      "Month: 0.00%\n",
      "DayofMonth: 0.00%\n",
      "DayOfWeek: 0.00%\n",
      "Operating_Airline : 0.00%\n",
      "Origin: 0.00%\n",
      "Dest: 0.00%\n",
      "CRSDepTime: 0.00%\n",
      "DepTime: 1.92%\n",
      "DepDelay: 1.92%\n",
      "DepTimeBlk: 0.00%\n",
      "CRSArrTime: 0.00%\n",
      "ArrTime: 2.00%\n",
      "ArrDelay: 2.16%\n",
      "ArrTimeBlk: 0.00%\n",
      "Cancelled: 0.00%\n",
      "CancellationCode: 98.04%\n",
      "Diverted: 0.00%\n",
      "CRSElapsedTime: 0.00%\n",
      "ActualElapsedTime: 2.16%\n",
      "Distance: 0.00%\n",
      "WeatherDelay: 82.66%\n",
      "CRSDepDatetime: 0.00%\n",
      "CRSDepTime_CST: 0.00%\n",
      "DepTime_CST: 1.92%\n",
      "ArrTime_CST: 2.16%\n",
      "CRSArrTime_CST: 0.00%\n",
      "Origin_REPORT_TYPE: 0.04%\n",
      "Origin_SOURCE: 6.97%\n",
      "Origin_HourlyAltimeterSetting: 21.44%\n",
      "Origin_HourlyDewPointTemperature: 9.87%\n",
      "Origin_HourlyDryBulbTemperature: 9.85%\n",
      "Origin_HourlyPrecipitation: 26.62%\n",
      "Origin_HourlyPresentWeatherType: 87.72%\n",
      "Origin_HourlyPressureChange: 71.98%\n",
      "Origin_HourlyPressureTendency: 71.98%\n",
      "Origin_HourlyRelativeHumidity: 9.88%\n",
      "Origin_HourlySkyConditions: 22.90%\n",
      "Origin_HourlySeaLevelPressure: 16.24%\n",
      "Origin_HourlyStationPressure: 12.86%\n",
      "Origin_HourlyVisibility: 18.44%\n",
      "Origin_HourlyWetBulbTemperature: 12.90%\n",
      "Origin_HourlyWindDirection: 19.74%\n",
      "Origin_HourlyWindGustSpeed: 89.46%\n",
      "Origin_HourlyWindSpeed: 9.85%\n",
      "Dest_REPORT_TYPE: 0.04%\n",
      "Dest_SOURCE: 6.75%\n",
      "Dest_HourlyAltimeterSetting: 21.68%\n",
      "Dest_HourlyDewPointTemperature: 9.72%\n",
      "Dest_HourlyDryBulbTemperature: 9.70%\n",
      "Dest_HourlyPrecipitation: 26.77%\n",
      "Dest_HourlyPresentWeatherType: 87.66%\n",
      "Dest_HourlyPressureChange: 71.68%\n",
      "Dest_HourlyPressureTendency: 71.68%\n",
      "Dest_HourlyRelativeHumidity: 9.74%\n",
      "Dest_HourlySkyConditions: 23.05%\n",
      "Dest_HourlySeaLevelPressure: 16.11%\n",
      "Dest_HourlyStationPressure: 12.77%\n",
      "Dest_HourlyVisibility: 18.44%\n",
      "Dest_HourlyWetBulbTemperature: 12.82%\n",
      "Dest_HourlyWindDirection: 19.70%\n",
      "Dest_HourlyWindGustSpeed: 89.60%\n",
      "Dest_HourlyWindSpeed: 9.70%\n"
     ]
    }
   ],
   "source": [
    "# 计算每一列的缺失值比例\n",
    "missing_ratio = data_original.isna().mean() * 100\n",
    "\n",
    "# 循环输出每一列的缺失值比例\n",
    "for column, ratio in missing_ratio.items():\n",
    "    print(f\"{column}: {ratio:.2f}%\")"
   ]
  },
  {
   "cell_type": "markdown",
   "id": "b9f4761a",
   "metadata": {},
   "source": [
    "### 去掉Diverted==1"
   ]
  },
  {
   "cell_type": "code",
   "execution_count": 7,
   "id": "44de92db",
   "metadata": {},
   "outputs": [],
   "source": [
    "data_drop_Diverted = data_original[data_original['Diverted'] != 1]"
   ]
  },
  {
   "cell_type": "code",
   "execution_count": 8,
   "id": "235532f0",
   "metadata": {},
   "outputs": [],
   "source": [
    "data=data_drop_Diverted"
   ]
  },
  {
   "cell_type": "markdown",
   "id": "ddc3daba",
   "metadata": {},
   "source": [
    "### 根据我们能获取的天气信息删掉一些无法获取的变量，和diverted，和weathertype"
   ]
  },
  {
   "cell_type": "code",
   "execution_count": 9,
   "id": "1efa3f24",
   "metadata": {},
   "outputs": [],
   "source": [
    "# 列出要删除的列名\n",
    "columns_to_drop = [\n",
    "    'FlightDate', 'CRSDepTime', 'DepTime', 'CRSArrTime', 'ArrTime', 'CRSDepDatetime',\n",
    "    'CRSDepTime_CST', 'DepTime_CST', 'ArrTime_CST', 'CRSArrTime_CST', 'Diverted','CRSElapsedTime',\n",
    "    'Origin_HourlyPressureChange', 'Origin_HourlyPressureTendency', 'Origin_HourlySkyConditions',\n",
    "    'Origin_HourlyStationPressure','Origin_HourlyWetBulbTemperature','Origin_HourlyPresentWeatherType',\n",
    "    'Dest_HourlyPressureChange', 'Dest_HourlyPressureTendency', 'Dest_HourlySkyConditions',\n",
    "    'Dest_HourlyStationPressure','Dest_HourlyWetBulbTemperature','Dest_HourlyPresentWeatherType',\n",
    "    'CancellationCode','Origin_REPORT_TYPE','Origin_SOURCE','Dest_REPORT_TYPE','Dest_SOURCE','WeatherDelay'\n",
    "]\n",
    "\n",
    "# 从 data 中删除指定的列\n",
    "data = data.drop(columns=columns_to_drop)"
   ]
  },
  {
   "cell_type": "markdown",
   "id": "5b4f3d2a",
   "metadata": {},
   "source": [
    "### 将一些变量转化为categroy"
   ]
  },
  {
   "cell_type": "code",
   "execution_count": 10,
   "id": "ec9addd6",
   "metadata": {},
   "outputs": [],
   "source": [
    "data['Year']=data['Year'].astype('category')\n",
    "data['Month']=data['Month'].astype('category')\n",
    "data['DayofMonth']=data['DayofMonth'].astype('category')\n",
    "data['DayOfWeek']=data['DayOfWeek'].astype('category')\n",
    "data['Operating_Airline ']=data['Operating_Airline '].astype('category')\n",
    "data['Origin']=data['Origin'].astype('category')\n",
    "data['Dest']=data['Dest'].astype('category')"
   ]
  },
  {
   "cell_type": "markdown",
   "id": "0922cb94",
   "metadata": {},
   "source": [
    "注意'Operating_Airline '这个变量结尾有空格"
   ]
  },
  {
   "cell_type": "markdown",
   "id": "067de6b5",
   "metadata": {},
   "source": [
    "### 将微量降水T转化为0.005"
   ]
  },
  {
   "cell_type": "code",
   "execution_count": 11,
   "id": "3f568edb",
   "metadata": {},
   "outputs": [],
   "source": [
    "data['Origin_HourlyPrecipitation'] = data['Origin_HourlyPrecipitation'].replace('T', '0.005')\n",
    "data['Origin_HourlyPrecipitation'] = pd.to_numeric(data['Origin_HourlyPrecipitation'], errors='coerce')\n",
    "data['Dest_HourlyPrecipitation'] = data['Dest_HourlyPrecipitation'].replace('T', '0.005')\n",
    "data['Dest_HourlyPrecipitation'] = pd.to_numeric(data['Dest_HourlyPrecipitation'], errors='coerce')"
   ]
  },
  {
   "cell_type": "markdown",
   "id": "04ad7ee1",
   "metadata": {},
   "source": [
    "### 将风速中s结尾的去掉"
   ]
  },
  {
   "cell_type": "code",
   "execution_count": 12,
   "id": "36810265",
   "metadata": {},
   "outputs": [],
   "source": [
    "data['Origin_HourlyWindSpeed'] = data['Origin_HourlyWindSpeed'].str.replace('s', '', regex=False)#去掉以s结尾\n",
    "data['Origin_HourlyWindSpeed'] = pd.to_numeric(data['Origin_HourlyWindSpeed'], errors='coerce')\n",
    "data['Dest_HourlyWindSpeed'] = data['Dest_HourlyWindSpeed'].str.replace('s', '', regex=False)#去掉以s结尾\n",
    "data['Dest_HourlyWindSpeed'] = pd.to_numeric(data['Dest_HourlyWindSpeed'], errors='coerce')"
   ]
  },
  {
   "cell_type": "markdown",
   "id": "d9dbb0c9",
   "metadata": {},
   "source": [
    "### 去掉Visibility结尾的s和V，同时将*视为NA"
   ]
  },
  {
   "cell_type": "code",
   "execution_count": 13,
   "id": "1a4bf3f4",
   "metadata": {},
   "outputs": [],
   "source": [
    "data['Origin_HourlyVisibility'] = data['Origin_HourlyVisibility'].str.replace(r'(s|V)$', '', regex=True)\n",
    "data['Origin_HourlyVisibility'] = pd.to_numeric(data['Origin_HourlyVisibility'], errors='coerce')\n",
    "data['Dest_HourlyVisibility'] = data['Dest_HourlyVisibility'].str.replace(r'(s|V)$', '', regex=True)\n",
    "data['Dest_HourlyVisibility'] = pd.to_numeric(data['Dest_HourlyVisibility'], errors='coerce')"
   ]
  },
  {
   "cell_type": "markdown",
   "id": "96a6db06",
   "metadata": {},
   "source": [
    "### 将DepTimeBlk的时间区间转化为catagroy"
   ]
  },
  {
   "cell_type": "code",
   "execution_count": 14,
   "id": "3091305d",
   "metadata": {},
   "outputs": [],
   "source": [
    "data['DepTimeBlk'] = data['DepTimeBlk'].astype('category')\n",
    "data['ArrTimeBlk'] = data['ArrTimeBlk'].astype('category')"
   ]
  },
  {
   "cell_type": "code",
   "execution_count": 15,
   "id": "fc03fb15",
   "metadata": {},
   "outputs": [],
   "source": [
    "#print(data['DepTimeBlk'].dtype)"
   ]
  },
  {
   "cell_type": "markdown",
   "id": "535cfb39",
   "metadata": {},
   "source": [
    "### 将winddireaction以10为单位转化为category 同时去掉999 VBR改为361"
   ]
  },
  {
   "cell_type": "markdown",
   "id": "249d47ba",
   "metadata": {},
   "source": [
    "先将字符串转化为浮点数"
   ]
  },
  {
   "cell_type": "code",
   "execution_count": 16,
   "id": "221fc2b8",
   "metadata": {},
   "outputs": [],
   "source": [
    "def convert_to_int(x):\n",
    "    try:\n",
    "        # 尝试将字符串转换为浮点数\n",
    "        num = float(x)\n",
    "        # 如果转换成功且不是 NaN，则返回整数\n",
    "        return int(num) if not np.isnan(num) else np.nan\n",
    "    except (ValueError, TypeError):\n",
    "        # 如果不能转换为数值，则保持原值\n",
    "        return x\n",
    "\n",
    "data['Origin_HourlyWindDirection'] = data['Origin_HourlyWindDirection'].apply(convert_to_int)\n",
    "data['Dest_HourlyWindDirection'] = data['Dest_HourlyWindDirection'].apply(convert_to_int)"
   ]
  },
  {
   "cell_type": "code",
   "execution_count": 17,
   "id": "94d3b053",
   "metadata": {},
   "outputs": [],
   "source": [
    "# 将 winddirection 中为 float 类型的值转换为 int 类型（注意NAN不能转化为int）\n",
    "data['Origin_HourlyWindDirection'] = data['Origin_HourlyWindDirection'].apply(lambda x: int(x) if isinstance(x, float) and not np.isnan(x) else x)\n",
    "data['Dest_HourlyWindDirection'] = data['Dest_HourlyWindDirection'].apply(lambda x: int(x) if isinstance(x, float) and not np.isnan(x) else x)"
   ]
  },
  {
   "cell_type": "code",
   "execution_count": 18,
   "id": "222de956",
   "metadata": {},
   "outputs": [],
   "source": [
    "# 定义合法的风向值集合（0 到 360，每隔 10）和VRB和999\n",
    "valid_directions = list(range(0, 361, 10)) + ['VRB',999]\n",
    "\n",
    "# 统计不在合法范围内的值\n",
    "#invalid_values = data[~data['Origin_HourlyWindDirection'].isin(valid_directions)]['Origin_HourlyWindDirection']\n",
    "#invalid_count = invalid_values.value_counts()\n",
    "#print(invalid_count)\n",
    "#invalid_values = data[~data['Dest_HourlyWindDirection'].isin(valid_directions)]['Dest_HourlyWindDirection']\n",
    "#invalid_count = invalid_values.value_counts()\n",
    "#print(invalid_count)"
   ]
  },
  {
   "cell_type": "code",
   "execution_count": 19,
   "id": "1f6233d9",
   "metadata": {},
   "outputs": [],
   "source": [
    "# 360 -> 0 'VRB'->361\n",
    "data['Origin_HourlyWindDirection'] = data['Origin_HourlyWindDirection'].apply(\n",
    "    lambda x: 0 if x == 360 else (361 if x == 'VRB' else (np.nan if x not in valid_directions else x))\n",
    ")\n",
    "data['Dest_HourlyWindDirection'] = data['Dest_HourlyWindDirection'].apply(\n",
    "    lambda x: 0 if x == 360 else (361 if x == 'VRB' else (np.nan if x not in valid_directions else x))\n",
    ")\n",
    "\n",
    "# 将 999 设为 NaN\n",
    "data['Origin_HourlyWindDirection'] = data['Origin_HourlyWindDirection'].replace(999, np.nan)\n",
    "data['Dest_HourlyWindDirection'] = data['Dest_HourlyWindDirection'].replace(999, np.nan)\n",
    "\n",
    "data['Origin_HourlyWindDirection'] = data['Origin_HourlyWindDirection'].astype('category')\n",
    "data['Dest_HourlyWindDirection'] = data['Dest_HourlyWindDirection'].astype('category')"
   ]
  },
  {
   "cell_type": "code",
   "execution_count": 20,
   "id": "28c8f4e0",
   "metadata": {
    "scrolled": false
   },
   "outputs": [
    {
     "name": "stdout",
     "output_type": "stream",
     "text": [
      "<class 'pandas.core.frame.DataFrame'>\n",
      "Int64Index: 9700884 entries, 0 to 9720183\n",
      "Data columns (total 34 columns):\n",
      " #   Column                            Dtype   \n",
      "---  ------                            -----   \n",
      " 0   Year                              category\n",
      " 1   Month                             category\n",
      " 2   DayofMonth                        category\n",
      " 3   DayOfWeek                         category\n",
      " 4   Operating_Airline                 category\n",
      " 5   Origin                            category\n",
      " 6   Dest                              category\n",
      " 7   DepDelay                          float64 \n",
      " 8   DepTimeBlk                        category\n",
      " 9   ArrDelay                          float64 \n",
      " 10  ArrTimeBlk                        category\n",
      " 11  Cancelled                         int64   \n",
      " 12  ActualElapsedTime                 float64 \n",
      " 13  Distance                          int64   \n",
      " 14  Origin_HourlyAltimeterSetting     float64 \n",
      " 15  Origin_HourlyDewPointTemperature  float64 \n",
      " 16  Origin_HourlyDryBulbTemperature   float64 \n",
      " 17  Origin_HourlyPrecipitation        float64 \n",
      " 18  Origin_HourlyRelativeHumidity     float64 \n",
      " 19  Origin_HourlySeaLevelPressure     float64 \n",
      " 20  Origin_HourlyVisibility           float64 \n",
      " 21  Origin_HourlyWindDirection        category\n",
      " 22  Origin_HourlyWindGustSpeed        float64 \n",
      " 23  Origin_HourlyWindSpeed            float64 \n",
      " 24  Dest_HourlyAltimeterSetting       float64 \n",
      " 25  Dest_HourlyDewPointTemperature    float64 \n",
      " 26  Dest_HourlyDryBulbTemperature     float64 \n",
      " 27  Dest_HourlyPrecipitation          float64 \n",
      " 28  Dest_HourlyRelativeHumidity       float64 \n",
      " 29  Dest_HourlySeaLevelPressure       float64 \n",
      " 30  Dest_HourlyVisibility             float64 \n",
      " 31  Dest_HourlyWindDirection          category\n",
      " 32  Dest_HourlyWindGustSpeed          float64 \n",
      " 33  Dest_HourlyWindSpeed              float64 \n",
      "dtypes: category(11), float64(21), int64(2)\n",
      "memory usage: 1.9 GB\n"
     ]
    }
   ],
   "source": [
    "data.info()"
   ]
  },
  {
   "cell_type": "code",
   "execution_count": 21,
   "id": "31f41ccd",
   "metadata": {
    "scrolled": true
   },
   "outputs": [
    {
     "name": "stdout",
     "output_type": "stream",
     "text": [
      "Year: 0.00%\n",
      "Month: 0.00%\n",
      "DayofMonth: 0.00%\n",
      "DayOfWeek: 0.00%\n",
      "Operating_Airline : 0.00%\n",
      "Origin: 0.00%\n",
      "Dest: 0.00%\n",
      "DepDelay: 1.92%\n",
      "DepTimeBlk: 0.00%\n",
      "ArrDelay: 1.97%\n",
      "ArrTimeBlk: 0.00%\n",
      "Cancelled: 0.00%\n",
      "ActualElapsedTime: 1.97%\n",
      "Distance: 0.00%\n",
      "Origin_HourlyAltimeterSetting: 21.44%\n",
      "Origin_HourlyDewPointTemperature: 9.87%\n",
      "Origin_HourlyDryBulbTemperature: 9.85%\n",
      "Origin_HourlyPrecipitation: 26.61%\n",
      "Origin_HourlyRelativeHumidity: 9.88%\n",
      "Origin_HourlySeaLevelPressure: 16.24%\n",
      "Origin_HourlyVisibility: 18.44%\n",
      "Origin_HourlyWindDirection: 19.92%\n",
      "Origin_HourlyWindGustSpeed: 89.46%\n",
      "Origin_HourlyWindSpeed: 9.85%\n",
      "Dest_HourlyAltimeterSetting: 21.70%\n",
      "Dest_HourlyDewPointTemperature: 9.72%\n",
      "Dest_HourlyDryBulbTemperature: 9.70%\n",
      "Dest_HourlyPrecipitation: 26.77%\n",
      "Dest_HourlyRelativeHumidity: 9.74%\n",
      "Dest_HourlySeaLevelPressure: 16.08%\n",
      "Dest_HourlyVisibility: 18.46%\n",
      "Dest_HourlyWindDirection: 19.90%\n",
      "Dest_HourlyWindGustSpeed: 89.61%\n",
      "Dest_HourlyWindSpeed: 9.70%\n"
     ]
    }
   ],
   "source": [
    "# 计算每一列的缺失值比例\n",
    "missing_ratio = data.isna().mean() * 100\n",
    "\n",
    "# 循环输出每一列的缺失值比例\n",
    "for column, ratio in missing_ratio.items():\n",
    "    print(f\"{column}: {ratio:.2f}%\")"
   ]
  },
  {
   "cell_type": "markdown",
   "id": "04b39bf3",
   "metadata": {},
   "source": [
    "### 补充NA"
   ]
  },
  {
   "cell_type": "markdown",
   "id": "b976919b",
   "metadata": {},
   "source": [
    "对连续型变量我们采用条件均值对NA进行补充（因为直接补零是不合适的）"
   ]
  },
  {
   "cell_type": "code",
   "execution_count": 22,
   "id": "21fceca4",
   "metadata": {},
   "outputs": [],
   "source": [
    "columns_to_fill = [\n",
    "    'Origin_HourlyAltimeterSetting', 'Origin_HourlyDewPointTemperature', \n",
    "    'Origin_HourlyDryBulbTemperature', 'Origin_HourlyRelativeHumidity',\n",
    "    'Origin_HourlySeaLevelPressure', 'Origin_HourlyVisibility', 'Origin_HourlyWindSpeed',\n",
    "    'Dest_HourlyAltimeterSetting', 'Dest_HourlyDewPointTemperature', \n",
    "    'Dest_HourlyDryBulbTemperature', 'Dest_HourlyRelativeHumidity',\n",
    "    'Dest_HourlySeaLevelPressure', 'Dest_HourlyVisibility', 'Dest_HourlyWindSpeed'\n",
    "    \n",
    "]"
   ]
  },
  {
   "cell_type": "code",
   "execution_count": 23,
   "id": "066dce15",
   "metadata": {},
   "outputs": [
    {
     "name": "stderr",
     "output_type": "stream",
     "text": [
      "Processing Columns:   7%|████▍                                                         | 1/14 [04:04<53:01, 244.76s/it]"
     ]
    },
    {
     "name": "stdout",
     "output_type": "stream",
     "text": [
      "Missing rate for Origin_HourlyAltimeterSetting after processing: 0.00%\n"
     ]
    },
    {
     "name": "stderr",
     "output_type": "stream",
     "text": [
      "\r",
      "Processing Columns:  14%|████████▊                                                     | 2/14 [08:00<47:56, 239.73s/it]"
     ]
    },
    {
     "name": "stdout",
     "output_type": "stream",
     "text": [
      "Missing rate for Origin_HourlyDewPointTemperature after processing: 0.00%\n"
     ]
    },
    {
     "name": "stderr",
     "output_type": "stream",
     "text": [
      "\r",
      "Processing Columns:  21%|█████████████▎                                                | 3/14 [11:56<43:36, 237.85s/it]"
     ]
    },
    {
     "name": "stdout",
     "output_type": "stream",
     "text": [
      "Missing rate for Origin_HourlyDryBulbTemperature after processing: 0.00%\n"
     ]
    },
    {
     "name": "stderr",
     "output_type": "stream",
     "text": [
      "\r",
      "Processing Columns:  29%|█████████████████▋                                            | 4/14 [15:49<39:19, 235.90s/it]"
     ]
    },
    {
     "name": "stdout",
     "output_type": "stream",
     "text": [
      "Missing rate for Origin_HourlyRelativeHumidity after processing: 0.00%\n"
     ]
    },
    {
     "name": "stderr",
     "output_type": "stream",
     "text": [
      "\r",
      "Processing Columns:  36%|██████████████████████▏                                       | 5/14 [19:50<35:41, 237.92s/it]"
     ]
    },
    {
     "name": "stdout",
     "output_type": "stream",
     "text": [
      "Missing rate for Origin_HourlySeaLevelPressure after processing: 0.00%\n"
     ]
    },
    {
     "name": "stderr",
     "output_type": "stream",
     "text": [
      "\r",
      "Processing Columns:  43%|██████████████████████████▌                                   | 6/14 [23:51<31:50, 238.87s/it]"
     ]
    },
    {
     "name": "stdout",
     "output_type": "stream",
     "text": [
      "Missing rate for Origin_HourlyVisibility after processing: 0.00%\n"
     ]
    },
    {
     "name": "stderr",
     "output_type": "stream",
     "text": [
      "\r",
      "Processing Columns:  50%|███████████████████████████████                               | 7/14 [28:44<29:56, 256.65s/it]"
     ]
    },
    {
     "name": "stdout",
     "output_type": "stream",
     "text": [
      "Missing rate for Origin_HourlyWindSpeed after processing: 0.00%\n"
     ]
    },
    {
     "name": "stderr",
     "output_type": "stream",
     "text": [
      "\r",
      "Processing Columns:  57%|███████████████████████████████████▍                          | 8/14 [33:52<27:16, 272.74s/it]"
     ]
    },
    {
     "name": "stdout",
     "output_type": "stream",
     "text": [
      "Missing rate for Dest_HourlyAltimeterSetting after processing: 0.00%\n"
     ]
    },
    {
     "name": "stderr",
     "output_type": "stream",
     "text": [
      "\r",
      "Processing Columns:  64%|███████████████████████████████████████▊                      | 9/14 [38:51<23:25, 281.12s/it]"
     ]
    },
    {
     "name": "stdout",
     "output_type": "stream",
     "text": [
      "Missing rate for Dest_HourlyDewPointTemperature after processing: 0.00%\n"
     ]
    },
    {
     "name": "stderr",
     "output_type": "stream",
     "text": [
      "\r",
      "Processing Columns:  71%|███████████████████████████████████████████▌                 | 10/14 [43:23<18:32, 278.12s/it]"
     ]
    },
    {
     "name": "stdout",
     "output_type": "stream",
     "text": [
      "Missing rate for Dest_HourlyDryBulbTemperature after processing: 0.00%\n"
     ]
    },
    {
     "name": "stderr",
     "output_type": "stream",
     "text": [
      "\r",
      "Processing Columns:  79%|███████████████████████████████████████████████▉             | 11/14 [47:26<13:22, 267.58s/it]"
     ]
    },
    {
     "name": "stdout",
     "output_type": "stream",
     "text": [
      "Missing rate for Dest_HourlyRelativeHumidity after processing: 0.00%\n"
     ]
    },
    {
     "name": "stderr",
     "output_type": "stream",
     "text": [
      "\r",
      "Processing Columns:  86%|████████████████████████████████████████████████████▎        | 12/14 [51:39<08:45, 262.93s/it]"
     ]
    },
    {
     "name": "stdout",
     "output_type": "stream",
     "text": [
      "Missing rate for Dest_HourlySeaLevelPressure after processing: 0.00%\n"
     ]
    },
    {
     "name": "stderr",
     "output_type": "stream",
     "text": [
      "\r",
      "Processing Columns:  93%|████████████████████████████████████████████████████████▋    | 13/14 [55:47<04:18, 258.65s/it]"
     ]
    },
    {
     "name": "stdout",
     "output_type": "stream",
     "text": [
      "Missing rate for Dest_HourlyVisibility after processing: 0.00%\n"
     ]
    },
    {
     "name": "stderr",
     "output_type": "stream",
     "text": [
      "Processing Columns: 100%|█████████████████████████████████████████████████████████████| 14/14 [59:54<00:00, 256.75s/it]"
     ]
    },
    {
     "name": "stdout",
     "output_type": "stream",
     "text": [
      "Missing rate for Dest_HourlyWindSpeed after processing: 0.00%\n"
     ]
    },
    {
     "name": "stderr",
     "output_type": "stream",
     "text": [
      "\n"
     ]
    }
   ],
   "source": [
    "# Initialize a dictionary to store missing rates\n",
    "missing_rates = {}\n",
    "\n",
    "# Use tqdm to track the progress of filling each column\n",
    "for column in tqdm(columns_to_fill, desc=\"Processing Columns\"):\n",
    "    # Step 1: Fill missing values based on a precise grouping (Year, Month, DayofMonth, Origin, DepTimeBlk)\n",
    "    data[column] = data.groupby(['Year', 'Month', 'DayofMonth', 'Origin', 'DepTimeBlk'])[column].transform(lambda x: x.fillna(x.mean()))\n",
    "    \n",
    "    # Step 2: For any remaining missing values, use a broader grouping (Year, Month, DayofMonth) to fill them\n",
    "    data[column] = data.groupby(['Year', 'Month', 'DayofMonth'])[column].transform(lambda x: x.fillna(x.mean()))\n",
    "    \n",
    "    # Calculate and print the missing rate for this column\n",
    "    missing_rate = data[column].isna().mean() * 100\n",
    "    missing_rates[column] = missing_rate\n",
    "    print(f\"Missing rate for {column} after processing: {missing_rate:.2f}%\")"
   ]
  },
  {
   "cell_type": "markdown",
   "id": "986f227a",
   "metadata": {},
   "source": [
    "对于Precipitation和HourlyWindGustSpeed我们选择补0来代替NA"
   ]
  },
  {
   "cell_type": "code",
   "execution_count": 24,
   "id": "47731f51",
   "metadata": {},
   "outputs": [],
   "source": [
    "columns_to_fill_with_zero = [\n",
    "    'Origin_HourlyPrecipitation', 'Origin_HourlyWindGustSpeed', \n",
    "    'Dest_HourlyPrecipitation', 'Dest_HourlyWindGustSpeed'\n",
    "]"
   ]
  },
  {
   "cell_type": "code",
   "execution_count": 25,
   "id": "b92b8f84",
   "metadata": {},
   "outputs": [],
   "source": [
    "data[columns_to_fill_with_zero] = data[columns_to_fill_with_zero].fillna(0)"
   ]
  },
  {
   "cell_type": "markdown",
   "id": "79fe72b4",
   "metadata": {},
   "source": [
    "### 减少类别将日期按照节假日分为5个categories"
   ]
  },
  {
   "cell_type": "code",
   "execution_count": 26,
   "id": "daaa3c66",
   "metadata": {},
   "outputs": [
    {
     "name": "stderr",
     "output_type": "stream",
     "text": [
      "100%|██████████████████████████████████████████████████████████████████████| 9700884/9700884 [45:40<00:00, 3539.41it/s]\n"
     ]
    }
   ],
   "source": [
    "tqdm.pandas()\n",
    "\n",
    "# 定义分类函数，根据 Year、Month、DayofMonth 划分日期范围\n",
    "def categorize_holiday(row):\n",
    "    year = row['Year']\n",
    "    date = datetime(year, row['Month'], row['DayofMonth'])\n",
    "    \n",
    "    # 动态计算感恩节日期（每年11月的第4个星期四）\n",
    "    begin = datetime(year, 11, 1)\n",
    "    thanksgiving = datetime(year, 11, 1) + pd.DateOffset(weeks=3) + pd.DateOffset(weekday=3)\n",
    "    christmas = datetime(year, 12, 25)\n",
    "    Newyear = datetime(year, 1, 1)\n",
    "    \n",
    "    # 按日期范围进行分类\n",
    "    if begin <= date < thanksgiving - pd.DateOffset(days=1):\n",
    "        return 'Before Thanksgiving'\n",
    "    elif thanksgiving - pd.DateOffset(days=1) <= date <= thanksgiving + pd.DateOffset(days=4):\n",
    "        return 'Around Thanksgiving'\n",
    "    elif thanksgiving + pd.DateOffset(days=4) < date < christmas - pd.DateOffset(days=1):\n",
    "        return 'Between Thanksgiving and Christmas'\n",
    "    elif christmas - pd.DateOffset(days=1) <= date <= christmas + pd.DateOffset(days=1):\n",
    "        return 'Around Christmas'\n",
    "    elif christmas + pd.DateOffset(days=1) < date < Newyear - pd.DateOffset(days=1):\n",
    "        return 'Between Christmas and Newyear'\n",
    "    elif Newyear - pd.DateOffset(days=1) <= date <= Newyear + pd.DateOffset(days=1):\n",
    "        return 'Around Newyear'\n",
    "    else:\n",
    "        return 'After Newyear'\n",
    "\n",
    "data['Holiday'] = data.progress_apply(categorize_holiday, axis=1)"
   ]
  },
  {
   "cell_type": "code",
   "execution_count": 35,
   "id": "2df8953d",
   "metadata": {},
   "outputs": [],
   "source": [
    "data['Holiday'] = data['Holiday'].astype('category')"
   ]
  },
  {
   "cell_type": "code",
   "execution_count": 39,
   "id": "4ac2dd83",
   "metadata": {},
   "outputs": [],
   "source": [
    "data = data.drop('DayofMonth', axis=1)"
   ]
  },
  {
   "cell_type": "markdown",
   "id": "2748f528",
   "metadata": {},
   "source": [
    "### 处理winddirection中的NA"
   ]
  },
  {
   "cell_type": "code",
   "execution_count": 27,
   "id": "7afbd1ed",
   "metadata": {},
   "outputs": [],
   "source": [
    "# 定义映射函数，根据给定的范围将值映射到新类别\n",
    "def map_to_new_category(value):\n",
    "    if pd.isna(value):\n",
    "        return 'NA'\n",
    "    elif value <= 40:\n",
    "        return '0-40'\n",
    "    elif 50 <= value <= 90:\n",
    "        return '50-90'\n",
    "    elif 90 < value <= 130:\n",
    "        return '90-130'\n",
    "    elif 140 <= value <= 180:\n",
    "        return '140-180'\n",
    "    elif 180 < value <= 220:\n",
    "        return '180-220'\n",
    "    elif 230 <= value <= 270:\n",
    "        return '230-270'\n",
    "    elif 270 < value <= 310:\n",
    "        return '270-310'\n",
    "    elif 320 <= value <= 350:\n",
    "        return '320-350'\n",
    "    elif value == 361:\n",
    "        return '361'\n",
    "    else:\n",
    "        return 'NA'  # 默认返回NA以处理其他非标准值\n",
    "\n",
    "# 应用映射函数创建新列\n",
    "data['Origin_HourlyWindDirection'] = data['Origin_HourlyWindDirection'].apply(map_to_new_category)\n",
    "data['Dest_HourlyWindDirection'] = data['Dest_HourlyWindDirection'].apply(map_to_new_category)"
   ]
  },
  {
   "cell_type": "code",
   "execution_count": 31,
   "id": "bd98ac77",
   "metadata": {},
   "outputs": [],
   "source": [
    "data['Origin_HourlyWindDirection'] = data['Origin_HourlyWindDirection'].fillna('Missing')\n",
    "data['Dest_HourlyWindDirection'] = data['Dest_HourlyWindDirection'].fillna('Missing')\n",
    "\n",
    "data['Origin_HourlyWindDirection'] = data['Origin_HourlyWindDirection'].astype('category')\n",
    "data['Dest_HourlyWindDirection'] = data['Dest_HourlyWindDirection'].astype('category')"
   ]
  },
  {
   "cell_type": "markdown",
   "id": "f515f47a",
   "metadata": {},
   "source": [
    "### 将洗好的数据存入csv"
   ]
  },
  {
   "cell_type": "code",
   "execution_count": 3,
   "id": "a8f7ecb8",
   "metadata": {},
   "outputs": [],
   "source": [
    "data=pd.read_csv('final_data.csv')"
   ]
  },
  {
   "cell_type": "code",
   "execution_count": 11,
   "id": "fed626b6",
   "metadata": {},
   "outputs": [],
   "source": [
    "na_indices = data[data['Origin_HourlyWindSpeed'].isna()].index\n",
    "data = data.drop(index=na_indices)"
   ]
  },
  {
   "cell_type": "code",
   "execution_count": 18,
   "id": "4a6c5596",
   "metadata": {
    "scrolled": true
   },
   "outputs": [
    {
     "data": {
      "text/plain": [
       "Year                                     0\n",
       "Month                                    0\n",
       "DayOfWeek                                0\n",
       "Operating_Airline                        0\n",
       "Origin                                   0\n",
       "Dest                                     0\n",
       "DepDelay                            186393\n",
       "DepTimeBlk                               0\n",
       "ArrDelay                            190892\n",
       "ArrTimeBlk                               0\n",
       "Cancelled                                0\n",
       "ActualElapsedTime                   190892\n",
       "Distance                                 0\n",
       "Origin_HourlyAltimeterSetting            0\n",
       "Origin_HourlyDewPointTemperature         0\n",
       "Origin_HourlyDryBulbTemperature          0\n",
       "Origin_HourlyPrecipitation               0\n",
       "Origin_HourlyRelativeHumidity            0\n",
       "Origin_HourlySeaLevelPressure            0\n",
       "Origin_HourlyVisibility                  0\n",
       "Origin_HourlyWindDirection               0\n",
       "Origin_HourlyWindGustSpeed               0\n",
       "Origin_HourlyWindSpeed                   0\n",
       "Dest_HourlyAltimeterSetting              0\n",
       "Dest_HourlyDewPointTemperature           0\n",
       "Dest_HourlyDryBulbTemperature            0\n",
       "Dest_HourlyPrecipitation                 0\n",
       "Dest_HourlyRelativeHumidity              0\n",
       "Dest_HourlySeaLevelPressure              0\n",
       "Dest_HourlyVisibility                    0\n",
       "Dest_HourlyWindDirection                 0\n",
       "Dest_HourlyWindGustSpeed                 0\n",
       "Dest_HourlyWindSpeed                     0\n",
       "Holiday                                  0\n",
       "dtype: int64"
      ]
     },
     "execution_count": 18,
     "metadata": {},
     "output_type": "execute_result"
    }
   ],
   "source": [
    "data.isna().sum()"
   ]
  },
  {
   "cell_type": "code",
   "execution_count": 17,
   "id": "48edc809",
   "metadata": {},
   "outputs": [],
   "source": [
    "data.to_csv('final_data.csv', index=False)"
   ]
  },
  {
   "cell_type": "code",
   "execution_count": 15,
   "id": "b0b705ce",
   "metadata": {},
   "outputs": [],
   "source": [
    "data['Holiday'] = data['Holiday'].astype('category')"
   ]
  },
  {
   "cell_type": "code",
   "execution_count": 16,
   "id": "3f317a97",
   "metadata": {
    "scrolled": true
   },
   "outputs": [
    {
     "name": "stdout",
     "output_type": "stream",
     "text": [
      "<class 'pandas.core.frame.DataFrame'>\n",
      "Int64Index: 9700585 entries, 0 to 9700883\n",
      "Data columns (total 34 columns):\n",
      " #   Column                            Dtype   \n",
      "---  ------                            -----   \n",
      " 0   Year                              int64   \n",
      " 1   Month                             int64   \n",
      " 2   DayOfWeek                         int64   \n",
      " 3   Operating_Airline                 object  \n",
      " 4   Origin                            object  \n",
      " 5   Dest                              object  \n",
      " 6   DepDelay                          float64 \n",
      " 7   DepTimeBlk                        object  \n",
      " 8   ArrDelay                          float64 \n",
      " 9   ArrTimeBlk                        object  \n",
      " 10  Cancelled                         int64   \n",
      " 11  ActualElapsedTime                 float64 \n",
      " 12  Distance                          int64   \n",
      " 13  Origin_HourlyAltimeterSetting     float64 \n",
      " 14  Origin_HourlyDewPointTemperature  float64 \n",
      " 15  Origin_HourlyDryBulbTemperature   float64 \n",
      " 16  Origin_HourlyPrecipitation        float64 \n",
      " 17  Origin_HourlyRelativeHumidity     float64 \n",
      " 18  Origin_HourlySeaLevelPressure     float64 \n",
      " 19  Origin_HourlyVisibility           float64 \n",
      " 20  Origin_HourlyWindDirection        object  \n",
      " 21  Origin_HourlyWindGustSpeed        float64 \n",
      " 22  Origin_HourlyWindSpeed            float64 \n",
      " 23  Dest_HourlyAltimeterSetting       float64 \n",
      " 24  Dest_HourlyDewPointTemperature    float64 \n",
      " 25  Dest_HourlyDryBulbTemperature     float64 \n",
      " 26  Dest_HourlyPrecipitation          float64 \n",
      " 27  Dest_HourlyRelativeHumidity       float64 \n",
      " 28  Dest_HourlySeaLevelPressure       float64 \n",
      " 29  Dest_HourlyVisibility             float64 \n",
      " 30  Dest_HourlyWindDirection          object  \n",
      " 31  Dest_HourlyWindGustSpeed          float64 \n",
      " 32  Dest_HourlyWindSpeed              float64 \n",
      " 33  Holiday                           category\n",
      "dtypes: category(1), float64(21), int64(5), object(7)\n",
      "memory usage: 2.5+ GB\n"
     ]
    }
   ],
   "source": [
    "data.info()"
   ]
  }
 ],
 "metadata": {
  "kernelspec": {
   "display_name": "Python 3 (ipykernel)",
   "language": "python",
   "name": "python3"
  },
  "language_info": {
   "codemirror_mode": {
    "name": "ipython",
    "version": 3
   },
   "file_extension": ".py",
   "mimetype": "text/x-python",
   "name": "python",
   "nbconvert_exporter": "python",
   "pygments_lexer": "ipython3",
   "version": "3.11.4"
  }
 },
 "nbformat": 4,
 "nbformat_minor": 5
}
